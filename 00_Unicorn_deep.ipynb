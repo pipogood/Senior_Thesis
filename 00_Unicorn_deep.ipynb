{
 "cells": [
  {
   "cell_type": "markdown",
   "metadata": {},
   "source": [
    "# CWT & STFT + CNN Model with Unicorn Hybrid Black dataset"
   ]
  },
  {
   "cell_type": "code",
   "execution_count": 170,
   "metadata": {},
   "outputs": [
    {
     "name": "stdout",
     "output_type": "stream",
     "text": [
      "Extracting EDF parameters from C:\\git\\Senior_Thesis\\DataSet\\Convert_data\\hand0_new.edf...\n",
      "EDF file detected\n",
      "Setting channel info structure...\n",
      "Creating raw.info structure...\n",
      "Reading 0 ... 279249  =      0.000 ...  1116.996 secs...\n",
      "Extracting EDF parameters from C:\\git\\Senior_Thesis\\DataSet\\Convert_data\\hand1_new.edf...\n",
      "EDF file detected\n",
      "Setting channel info structure...\n",
      "Creating raw.info structure...\n",
      "Reading 0 ... 279249  =      0.000 ...  1116.996 secs...\n",
      "Extracting EDF parameters from C:\\git\\Senior_Thesis\\DataSet\\Convert_data\\hand2_new.edf...\n",
      "EDF file detected\n",
      "Setting channel info structure...\n",
      "Creating raw.info structure...\n",
      "Reading 0 ... 279249  =      0.000 ...  1116.996 secs...\n",
      "Extracting EDF parameters from C:\\git\\Senior_Thesis\\DataSet\\Convert_data\\hand3_new.edf...\n",
      "EDF file detected\n",
      "Setting channel info structure...\n",
      "Creating raw.info structure...\n",
      "Reading 0 ... 279249  =      0.000 ...  1116.996 secs...\n",
      "Extracting EDF parameters from C:\\git\\Senior_Thesis\\DataSet\\Convert_data\\hand4_new.edf...\n",
      "EDF file detected\n",
      "Setting channel info structure...\n",
      "Creating raw.info structure...\n",
      "Reading 0 ... 279249  =      0.000 ...  1116.996 secs...\n",
      "Extracting EDF parameters from C:\\git\\Senior_Thesis\\DataSet\\Convert_data\\hand5_new.edf...\n",
      "EDF file detected\n",
      "Setting channel info structure...\n",
      "Creating raw.info structure...\n",
      "Reading 0 ... 279249  =      0.000 ...  1116.996 secs...\n",
      "Extracting EDF parameters from C:\\git\\Senior_Thesis\\DataSet\\Convert_data\\hand6_new.edf...\n",
      "EDF file detected\n",
      "Setting channel info structure...\n",
      "Creating raw.info structure...\n",
      "Reading 0 ... 279249  =      0.000 ...  1116.996 secs...\n",
      "Extracting EDF parameters from C:\\git\\Senior_Thesis\\DataSet\\Convert_data\\hand7_new.edf...\n",
      "EDF file detected\n",
      "Setting channel info structure...\n",
      "Creating raw.info structure...\n",
      "Reading 0 ... 189249  =      0.000 ...   756.996 secs...\n",
      "Extracting EDF parameters from C:\\git\\Senior_Thesis\\DataSet\\Convert_data\\hand8_new.edf...\n",
      "EDF file detected\n",
      "Setting channel info structure...\n",
      "Creating raw.info structure...\n",
      "Reading 0 ... 279249  =      0.000 ...  1116.996 secs...\n",
      "Extracting EDF parameters from C:\\git\\Senior_Thesis\\DataSet\\Convert_data\\hand9_new.edf...\n",
      "EDF file detected\n",
      "Setting channel info structure...\n",
      "Creating raw.info structure...\n",
      "Reading 0 ... 279249  =      0.000 ...  1116.996 secs...\n"
     ]
    },
    {
     "data": {
      "text/html": [
       "<table class=\"table table-hover table-striped table-sm table-responsive small\">\n",
       "    <tr>\n",
       "        <th>Measurement date</th>\n",
       "        \n",
       "        <td>December 19, 2023  01:44:02 GMT</td>\n",
       "        \n",
       "    </tr>\n",
       "    <tr>\n",
       "        <th>Experimenter</th>\n",
       "        \n",
       "        <td>Unknown</td>\n",
       "        \n",
       "    </tr>\n",
       "        <th>Participant</th>\n",
       "        \n",
       "        <td>Unknown</td>\n",
       "        \n",
       "    </tr>\n",
       "    <tr>\n",
       "        <th>Digitized points</th>\n",
       "        \n",
       "        <td>11 points</td>\n",
       "        \n",
       "    </tr>\n",
       "    <tr>\n",
       "        <th>Good channels</th>\n",
       "        <td>8 EEG</td>\n",
       "    </tr>\n",
       "    <tr>\n",
       "        <th>Bad channels</th>\n",
       "        <td>None</td>\n",
       "    </tr>\n",
       "    <tr>\n",
       "        <th>EOG channels</th>\n",
       "        <td>Not available</td>\n",
       "    </tr>\n",
       "    <tr>\n",
       "        <th>ECG channels</th>\n",
       "        <td>Not available</td>\n",
       "    \n",
       "    <tr>\n",
       "        <th>Sampling frequency</th>\n",
       "        <td>250.00 Hz</td>\n",
       "    </tr>\n",
       "    \n",
       "    \n",
       "    <tr>\n",
       "        <th>Highpass</th>\n",
       "        <td>0.00 Hz</td>\n",
       "    </tr>\n",
       "    \n",
       "    \n",
       "    <tr>\n",
       "        <th>Lowpass</th>\n",
       "        <td>125.00 Hz</td>\n",
       "    </tr>\n",
       "    \n",
       "    \n",
       "    \n",
       "    <tr>\n",
       "        <th>Filenames</th>\n",
       "        <td>hand9_new.edf</td>\n",
       "    </tr>\n",
       "    \n",
       "    <tr>\n",
       "        <th>Duration</th>\n",
       "        <td>00:18:37 (HH:MM:SS)</td>\n",
       "    </tr>\n",
       "</table>"
      ],
      "text/plain": [
       "<RawEDF | hand9_new.edf, 8 x 279250 (1117.0 s), ~17.1 MB, data loaded>"
      ]
     },
     "execution_count": 170,
     "metadata": {},
     "output_type": "execute_result"
    }
   ],
   "source": [
    "import mne\n",
    "import numpy as np\n",
    "from mne.datasets import eegbci\n",
    "import matplotlib.pyplot as plt\n",
    "from mne.channels import make_standard_montage\n",
    "\n",
    "\n",
    "raw_each = [0] * 10\n",
    "for i in range(0,10):\n",
    "    raw_each[i] = mne.io.read_raw_edf(\"C:\\git\\Senior_Thesis\\DataSet\\Convert_data\\hand\"+ str(i) +\"_new.edf\",preload = True)\n",
    "\n",
    "# raw_edf = mne.concatenate_raws([raw_each[0],raw_each[1],raw_each[2],raw_each[4],raw_each[5],raw_each[6]])\n",
    "# raw_edf = mne.concatenate_raws([raw_each[0],raw_each[1],raw_each[4],raw_each[3]])\n",
    "# raw_edf = mne.concatenate_raws([raw_each[2],raw_each[5],raw_each[6],raw_each[7]])\n",
    "raw_edf = mne.concatenate_raws([raw_each[9]])\n",
    "\n",
    "# raw_edf = mne.io.read_raw_edf(\"C:\\git\\Senior_Thesis\\DataSet\\Convert_data\\MI_execution.edf\", preload=True)\n",
    "\n",
    "eegbci.standardize(raw_edf)  # set channel names\n",
    "montage = make_standard_montage(\"standard_1005\")\n",
    "raw_edf.set_montage(montage)"
   ]
  },
  {
   "cell_type": "code",
   "execution_count": 171,
   "metadata": {},
   "outputs": [],
   "source": [
    "import numpy as np\n",
    "import tensorflow as tf\n",
    "import keras\n",
    "from keras.layers import Input, Conv2D, MaxPooling2D, Flatten, Dense, Lambda, BatchNormalization, Activation, Dropout,LSTM,Reshape\n",
    "from keras.models import Sequential\n",
    "from keras.callbacks import History,ModelCheckpoint\n",
    "from keras.utils import plot_model\n",
    "history = History()\n",
    "import pywt\n",
    "import matplotlib.pyplot as plt\n",
    "from sklearn.model_selection import train_test_split\n",
    "from mne.decoding import CSP\n",
    "from sklearn.pipeline import Pipeline\n",
    "from sklearn.discriminant_analysis import LinearDiscriminantAnalysis\n",
    "from sklearn.model_selection import ShuffleSplit,StratifiedKFold ,cross_val_score, cross_val_predict\n",
    "from ssqueezepy import ssq_cwt, ssq_stft\n",
    "import pickle\n",
    "import seaborn as sns\n",
    "from sklearn.metrics import confusion_matrix"
   ]
  },
  {
   "cell_type": "code",
   "execution_count": 172,
   "metadata": {},
   "outputs": [
    {
     "name": "stdout",
     "output_type": "stream",
     "text": [
      "Used Annotations descriptions: ['OVTK_GDF_Cross_On_Screen', 'OVTK_GDF_End_Of_Session', 'OVTK_GDF_End_Of_Trial', 'OVTK_GDF_Feedback_Continuous', 'OVTK_GDF_Left', 'OVTK_GDF_Right', 'OVTK_GDF_Start_Of_Trial', 'OVTK_GDF_Tongue', 'OVTK_GDF_Up', 'OVTK_StimulationId_BaselineStart', 'OVTK_StimulationId_BaselineStop', 'OVTK_StimulationId_Beep', 'OVTK_StimulationId_ExperimentStart', 'OVTK_StimulationId_Train']\n",
      "Multiple event values for single event times found. Keeping the first occurrence and dropping all others.\n",
      "Not setting metadata\n",
      "608 matching events found\n",
      "Applying baseline correction (mode: mean)\n",
      "0 projection items activated\n",
      "Using data from preloaded Raw for 608 events and 1001 original time points ...\n",
      "2 bad epochs dropped\n",
      "Multiple event values for single event times found. Keeping the first occurrence and dropping all others.\n",
      "Not setting metadata\n",
      "608 matching events found\n",
      "Applying baseline correction (mode: mean)\n",
      "0 projection items activated\n",
      "Using data from preloaded Raw for 608 events and 1001 original time points ...\n"
     ]
    },
    {
     "name": "stdout",
     "output_type": "stream",
     "text": [
      "1 bad epochs dropped\n"
     ]
    }
   ],
   "source": [
    "# eeg1 = raw_edf.copy().set_eeg_reference(ref_channels=\"average\")\n",
    "# eeg1= eeg1.pick([\"Fz\",\"C3\", \"Cz\", \"C4\",\"Pz\",'PO7','PO8'])\n",
    "\n",
    "eeg1= raw_edf.pick([\"Fz\",\"C3\", \"Cz\", \"C4\",\"Pz\",'PO7','Oz','PO8'])\n",
    "\n",
    "events, event_dict = mne.events_from_annotations(eeg1)\n",
    "combine_epochs = mne.Epochs(eeg1, events, \n",
    "        tmin= -1.0,     # init timestamp of epoch (0 means trigger timestamp same as event start)\n",
    "        tmax= 3.0,    # final timestamp (10 means set epoch duration 10 second)\n",
    "        event_id=event_dict,\n",
    "        preload = True,\n",
    "        event_repeated='drop',\n",
    "        baseline=(-0.2, 0)\n",
    "    )\n",
    "combine_epochs = combine_epochs.copy().crop(tmin=0.0, tmax=1.0)\n",
    "# combine_epochs = combine_epochs.copy().filter(l_freq=6.0, h_freq=32.0, method = 'iir', iir_params= {\"order\": 6, \"ftype\":'butter'})\n",
    "\n",
    "nonim_epochs2 = mne.Epochs(eeg1, events, \n",
    "        tmin= -3.0,     # init timestamp of epoch (0 means trigger timestamp same as event start)\n",
    "        tmax= 1.0,    # final timestamp (10 means set epoch duration 10 second)\n",
    "        event_id=event_dict,\n",
    "        preload = True,\n",
    "        event_repeated='drop',\n",
    "        baseline=(-2.2, 0)\n",
    "    )\n",
    "nonim_epochs2 = nonim_epochs2.copy().crop(tmin=-1.0, tmax=0.0)\n",
    "# nonim_epochs2 = nonim_epochs2.copy().filter(l_freq=6.0, h_freq=32.0, method = 'iir', iir_params= {\"order\": 6, \"ftype\":'butter'})\n",
    "\n",
    "component_num = 8"
   ]
  },
  {
   "cell_type": "code",
   "execution_count": 173,
   "metadata": {},
   "outputs": [
    {
     "data": {
      "text/html": [
       "<table class=\"table table-hover table-striped table-sm table-responsive small\">\n",
       "    <tr>\n",
       "        <th>Number of events</th>\n",
       "        <td>606</td>\n",
       "    </tr>\n",
       "    <tr>\n",
       "        <th>Events</th>\n",
       "        \n",
       "        <td>OVTK_GDF_Cross_On_Screen: 3<br/>OVTK_GDF_End_Of_Session: 1<br/>OVTK_GDF_End_Of_Trial: 120<br/>OVTK_GDF_Feedback_Continuous: 120<br/>OVTK_GDF_Left: 30<br/>OVTK_GDF_Right: 30<br/>OVTK_GDF_Start_Of_Trial: 120<br/>OVTK_GDF_Tongue: 30<br/>OVTK_GDF_Up: 30<br/>OVTK_StimulationId_BaselineStart: 1<br/>OVTK_StimulationId_BaselineStop: 1<br/>OVTK_StimulationId_Beep: 120<br/>OVTK_StimulationId_ExperimentStart: 0<br/>OVTK_StimulationId_Train: 0</td>\n",
       "        \n",
       "    </tr>\n",
       "    <tr>\n",
       "        <th>Time range</th>\n",
       "        <td>0.000 – 1.000 s</td>\n",
       "    </tr>\n",
       "    <tr>\n",
       "        <th>Baseline</th>\n",
       "        <td>-0.200 – 0.000 s</td>\n",
       "    </tr>\n",
       "</table>"
      ],
      "text/plain": [
       "<Epochs |  606 events (all good), 0 – 1 s, baseline -0.2 – 0 s (baseline period was cropped after baseline correction), ~9.3 MB, data loaded,\n",
       " 'OVTK_GDF_Cross_On_Screen': 3\n",
       " 'OVTK_GDF_End_Of_Session': 1\n",
       " 'OVTK_GDF_End_Of_Trial': 120\n",
       " 'OVTK_GDF_Feedback_Continuous': 120\n",
       " 'OVTK_GDF_Left': 30\n",
       " 'OVTK_GDF_Right': 30\n",
       " 'OVTK_GDF_Start_Of_Trial': 120\n",
       " 'OVTK_GDF_Tongue': 30\n",
       " 'OVTK_GDF_Up': 30\n",
       " 'OVTK_StimulationId_BaselineStart': 1\n",
       " and 4 more events ...>"
      ]
     },
     "execution_count": 173,
     "metadata": {},
     "output_type": "execute_result"
    }
   ],
   "source": [
    "combine_epochs"
   ]
  },
  {
   "cell_type": "code",
   "execution_count": 174,
   "metadata": {},
   "outputs": [
    {
     "data": {
      "text/html": [
       "<table class=\"table table-hover table-striped table-sm table-responsive small\">\n",
       "    <tr>\n",
       "        <th>Number of events</th>\n",
       "        <td>607</td>\n",
       "    </tr>\n",
       "    <tr>\n",
       "        <th>Events</th>\n",
       "        \n",
       "        <td>OVTK_GDF_Cross_On_Screen: 3<br/>OVTK_GDF_End_Of_Session: 1<br/>OVTK_GDF_End_Of_Trial: 120<br/>OVTK_GDF_Feedback_Continuous: 120<br/>OVTK_GDF_Left: 30<br/>OVTK_GDF_Right: 30<br/>OVTK_GDF_Start_Of_Trial: 120<br/>OVTK_GDF_Tongue: 30<br/>OVTK_GDF_Up: 30<br/>OVTK_StimulationId_BaselineStart: 1<br/>OVTK_StimulationId_BaselineStop: 1<br/>OVTK_StimulationId_Beep: 120<br/>OVTK_StimulationId_ExperimentStart: 0<br/>OVTK_StimulationId_Train: 1</td>\n",
       "        \n",
       "    </tr>\n",
       "    <tr>\n",
       "        <th>Time range</th>\n",
       "        <td>-1.000 – 0.000 s</td>\n",
       "    </tr>\n",
       "    <tr>\n",
       "        <th>Baseline</th>\n",
       "        <td>-2.200 – 0.000 s</td>\n",
       "    </tr>\n",
       "</table>"
      ],
      "text/plain": [
       "<Epochs |  607 events (all good), -1 – 0 s, baseline -2.2 – 0 s (baseline period was cropped after baseline correction), ~9.3 MB, data loaded,\n",
       " 'OVTK_GDF_Cross_On_Screen': 3\n",
       " 'OVTK_GDF_End_Of_Session': 1\n",
       " 'OVTK_GDF_End_Of_Trial': 120\n",
       " 'OVTK_GDF_Feedback_Continuous': 120\n",
       " 'OVTK_GDF_Left': 30\n",
       " 'OVTK_GDF_Right': 30\n",
       " 'OVTK_GDF_Start_Of_Trial': 120\n",
       " 'OVTK_GDF_Tongue': 30\n",
       " 'OVTK_GDF_Up': 30\n",
       " 'OVTK_StimulationId_BaselineStart': 1\n",
       " and 4 more events ...>"
      ]
     },
     "execution_count": 174,
     "metadata": {},
     "output_type": "execute_result"
    }
   ],
   "source": [
    "nonim_epochs2"
   ]
  },
  {
   "cell_type": "code",
   "execution_count": 175,
   "metadata": {},
   "outputs": [
    {
     "data": {
      "text/plain": [
       "{'OVTK_GDF_Cross_On_Screen': 1,\n",
       " 'OVTK_GDF_End_Of_Session': 2,\n",
       " 'OVTK_GDF_End_Of_Trial': 3,\n",
       " 'OVTK_GDF_Feedback_Continuous': 4,\n",
       " 'OVTK_GDF_Left': 5,\n",
       " 'OVTK_GDF_Right': 6,\n",
       " 'OVTK_GDF_Start_Of_Trial': 7,\n",
       " 'OVTK_GDF_Tongue': 8,\n",
       " 'OVTK_GDF_Up': 9,\n",
       " 'OVTK_StimulationId_BaselineStart': 10,\n",
       " 'OVTK_StimulationId_BaselineStop': 11,\n",
       " 'OVTK_StimulationId_Beep': 12,\n",
       " 'OVTK_StimulationId_ExperimentStart': 13,\n",
       " 'OVTK_StimulationId_Train': 14}"
      ]
     },
     "execution_count": 175,
     "metadata": {},
     "output_type": "execute_result"
    }
   ],
   "source": [
    "combine_epochs.event_id"
   ]
  },
  {
   "cell_type": "markdown",
   "metadata": {},
   "source": [
    "# CSP -> CWT -> CNN"
   ]
  },
  {
   "cell_type": "code",
   "execution_count": 176,
   "metadata": {},
   "outputs": [],
   "source": [
    "class_left = combine_epochs.event_id['OVTK_GDF_Left']\n",
    "class_right = combine_epochs.event_id['OVTK_GDF_Right']\n",
    "class_non = combine_epochs.event_id['OVTK_GDF_Tongue']\n",
    "class_up = combine_epochs.event_id['OVTK_GDF_Up']\n",
    "\n",
    "select_classes = combine_epochs['OVTK_GDF_Left','OVTK_GDF_Right','OVTK_GDF_Tongue','OVTK_GDF_Up']\n",
    "\n",
    "#######################################################\n",
    "labels = select_classes.events[:,2]\n",
    "for i in range(0,len(labels)):\n",
    "    if labels[i] == class_left:\n",
    "        labels[i] = 1\n",
    "    elif labels[i] == class_right:\n",
    "        labels[i] = 1\n",
    "    elif labels[i] == class_non:\n",
    "        labels[i] = 2\n",
    "    else:\n",
    "        labels[i] = 1\n",
    "        \n",
    "train_data1 = select_classes.get_data()\n",
    "train_data2 = nonim_epochs2['OVTK_GDF_Left','OVTK_GDF_Right','OVTK_GDF_Up','OVTK_GDF_Tongue'].get_data()\n",
    "train_data = np.concatenate((train_data1, train_data2), axis=0)\n",
    "# train_data = train_data1\n",
    "\n",
    "\n",
    "labels = np.concatenate((labels,np.full((train_data2.shape[0],), 2)), axis = 0)"
   ]
  },
  {
   "cell_type": "code",
   "execution_count": 177,
   "metadata": {},
   "outputs": [
    {
     "data": {
      "text/plain": [
       "(240, 8, 251)"
      ]
     },
     "execution_count": 177,
     "metadata": {},
     "output_type": "execute_result"
    }
   ],
   "source": [
    "train_data.shape"
   ]
  },
  {
   "cell_type": "code",
   "execution_count": 178,
   "metadata": {},
   "outputs": [
    {
     "data": {
      "text/plain": [
       "array([2, 1, 1, 1, 2, 1, 1, 1, 2, 1, 1, 1, 2, 1, 1, 1, 2, 1, 1, 1, 2, 1,\n",
       "       1, 1, 2, 2, 1, 2, 2, 1, 1, 1, 2, 1, 1, 1, 2, 1, 2, 1, 2, 1, 1, 1,\n",
       "       2, 1, 1, 1, 2, 1, 1, 1, 2, 1, 1, 1, 1, 2, 1, 1, 1, 1, 1, 1, 1, 1,\n",
       "       1, 1, 2, 1, 1, 1, 1, 1, 1, 1, 2, 1, 1, 1, 2, 1, 1, 1, 1, 1, 1, 1,\n",
       "       2, 1, 1, 2, 2, 1, 1, 1, 2, 1, 1, 1, 2, 1, 1, 1, 2, 1, 1, 1, 2, 1,\n",
       "       1, 1, 1, 1, 1, 2, 2, 1, 1, 1, 2, 2, 2, 2, 2, 2, 2, 2, 2, 2, 2, 2,\n",
       "       2, 2, 2, 2, 2, 2, 2, 2, 2, 2, 2, 2, 2, 2, 2, 2, 2, 2, 2, 2, 2, 2,\n",
       "       2, 2, 2, 2, 2, 2, 2, 2, 2, 2, 2, 2, 2, 2, 2, 2, 2, 2, 2, 2, 2, 2,\n",
       "       2, 2, 2, 2, 2, 2, 2, 2, 2, 2, 2, 2, 2, 2, 2, 2, 2, 2, 2, 2, 2, 2,\n",
       "       2, 2, 2, 2, 2, 2, 2, 2, 2, 2, 2, 2, 2, 2, 2, 2, 2, 2, 2, 2, 2, 2,\n",
       "       2, 2, 2, 2, 2, 2, 2, 2, 2, 2, 2, 2, 2, 2, 2, 2, 2, 2, 2, 2])"
      ]
     },
     "execution_count": 178,
     "metadata": {},
     "output_type": "execute_result"
    }
   ],
   "source": [
    "labels"
   ]
  },
  {
   "cell_type": "markdown",
   "metadata": {},
   "source": [
    "try csp+lda trined model"
   ]
  },
  {
   "cell_type": "code",
   "execution_count": 179,
   "metadata": {},
   "outputs": [
    {
     "name": "stdout",
     "output_type": "stream",
     "text": [
      "LDA only classification scores [0.91666667 0.95833333 1.         0.75       0.91666667 0.875\n",
      " 0.79166667 0.91666667 0.83333333 1.        ] 0.8958333333333333\n",
      "[[ 75  15]\n",
      " [ 10 140]]\n",
      "LDA only classification scores 0.7083333333333334\n",
      "[[ 20  70]\n",
      " [  0 150]]\n"
     ]
    }
   ],
   "source": [
    "# csp2 = CSP(n_components=component_num, reg=None, log=None)\n",
    "# csp2.fit(train_data, labels)\n",
    "# with open('trained_csp2_model.pkl', 'wb') as file:\n",
    "#     pickle.dump(csp2, file)\n",
    "\n",
    "with open('trained_csp2_model.pkl', 'rb') as file:\n",
    "    trained_csp2 = pickle.load(file)\n",
    "new_data2 = trained_csp2.transform(train_data)\n",
    "\n",
    "# lda2 = LinearDiscriminantAnalysis()\n",
    "# lda2.fit(new_data2, labels)\n",
    "# with open('trained_lda_model.pkl', 'wb') as file:\n",
    "#     pickle.dump(lda2, file)\n",
    "\n",
    "with open('trained_lda_model.pkl', 'rb') as file:\n",
    "    trained_lda = pickle.load(file)\n",
    "\n",
    "    \n",
    "score = cross_val_score(trained_lda,new_data2, labels, cv= 10)\n",
    "lda_predicted = cross_val_predict(trained_lda, new_data2, labels, cv=10)\n",
    "conf_matrix = confusion_matrix(labels, lda_predicted)\n",
    "print(\"LDA only classification scores\", score, np.mean(score))\n",
    "print(conf_matrix)\n",
    "\n",
    "score = trained_lda.score(new_data2, labels)\n",
    "lda_predicted = trained_lda.predict(new_data2)\n",
    "conf_matrix = confusion_matrix(labels, lda_predicted)\n",
    "print(\"LDA only classification scores\", score)\n",
    "print(conf_matrix)\n"
   ]
  },
  {
   "cell_type": "markdown",
   "metadata": {},
   "source": [
    "Try FBCSP"
   ]
  },
  {
   "cell_type": "code",
   "execution_count": 180,
   "metadata": {},
   "outputs": [],
   "source": [
    "# low_fre = [6, 10, 14, 18, 22, 26]\n",
    "# high_fre = [12, 16, 20, 24, 28, 32]\n",
    "\n",
    "# shape = combine_epochs['OVTK_GDF_Left','OVTK_GDF_Right','OVTK_GDF_Up','OVTK_GDF_Tongue'].get_data().shape\n",
    "\n",
    "# train_data = np.ndarray(shape= (6,shape[0],shape[1],shape[2]))\n",
    "\n",
    "# FB_data = np.ndarray(shape= (6,shape[0],shape[1],shape[2]))\n",
    "# # FB_data = np.ndarray(shape= (6,shape[0],shape[1]))\n",
    "\n",
    "\n",
    "# for i in range(0,6):\n",
    "#     combine_epochs = combine_epochs.filter(l_freq=low_fre[i], h_freq=high_fre[i], method = 'iir', iir_params= {\"order\": 5, \"ftype\":'butter'}, verbose = False)\n",
    "#     train_data[i] = combine_epochs['OVTK_GDF_Left','OVTK_GDF_Right','OVTK_GDF_Up','OVTK_GDF_Tongue'].get_data()\n",
    "    \n",
    "#     csp = CSP(n_components=component_num, reg=None, log=None, transform_into='csp_space')\n",
    "#     # csp = CSP(n_components=component_num, reg=None, log=None)\n",
    "#     csp.fit(train_data[i], labels)\n",
    "\n",
    "#     with open('trained_FBCSP_model'+str(i)+'.pkl', 'wb') as file:\n",
    "#         pickle.dump(csp, file)\n",
    "\n",
    "# for j in range(0,6):\n",
    "#     with open('trained_FBCSP_model'+str(j)+'.pkl', 'rb') as file:\n",
    "#         trained_csp = pickle.load(file)\n",
    "\n",
    "#     FB_data[j] = trained_csp.transform(train_data[j])\n",
    "\n",
    "# FB_data = np.concatenate(FB_data, axis = 1)"
   ]
  },
  {
   "cell_type": "code",
   "execution_count": 181,
   "metadata": {},
   "outputs": [],
   "source": [
    "# lda3 = LinearDiscriminantAnalysis()\n",
    "# lda3.fit(FB_data, labels)\n",
    "# with open('trained_lda3_model.pkl', 'wb') as file:\n",
    "#     pickle.dump(lda3, file)\n",
    "\n",
    "# with open('trained_lda3_model.pkl', 'rb') as file:\n",
    "#     trained_lda3 = pickle.load(file)\n",
    "\n",
    "\n",
    "# score = cross_val_score(trained_lda3, FB_data, labels, cv= 15)\n",
    "# lda_predicted = cross_val_predict(trained_lda3, FB_data, labels, cv= 15)\n",
    "# conf_matrix = confusion_matrix(labels, lda_predicted)\n",
    "# print(\"LDA only classification scores\", score, np.mean(score))\n",
    "# print(conf_matrix)\n",
    "\n",
    "# score = trained_lda3.score(FB_data, labels)\n",
    "# lda_predicted = trained_lda3.predict(FB_data)\n",
    "# conf_matrix = confusion_matrix(labels, lda_predicted)\n",
    "# print(\"LDA only classification scores\", score)\n",
    "# print(conf_matrix)"
   ]
  },
  {
   "cell_type": "markdown",
   "metadata": {},
   "source": [
    "train csp"
   ]
  },
  {
   "cell_type": "code",
   "execution_count": 182,
   "metadata": {},
   "outputs": [],
   "source": [
    "# csp = CSP(n_components=component_num, reg=None, log=None, transform_into='csp_space')\n",
    "# csp.fit(train_data, labels)\n",
    "\n",
    "# with open('trained_csp_newsess_nonvsim_model.pkl', 'wb') as file:\n",
    "#     pickle.dump(csp, file)"
   ]
  },
  {
   "cell_type": "markdown",
   "metadata": {},
   "source": [
    "load csp"
   ]
  },
  {
   "cell_type": "code",
   "execution_count": 183,
   "metadata": {},
   "outputs": [
    {
     "name": "stdout",
     "output_type": "stream",
     "text": [
      "(240, 8, 251)\n"
     ]
    }
   ],
   "source": [
    "with open('trained_csp_newsess_nonvsim_model.pkl', 'rb') as file:\n",
    "    trained_csp = pickle.load(file)\n",
    "\n",
    "new_data = trained_csp.transform(train_data)\n",
    "print(new_data.shape)"
   ]
  },
  {
   "cell_type": "markdown",
   "metadata": {},
   "source": [
    "FFT"
   ]
  },
  {
   "cell_type": "code",
   "execution_count": 184,
   "metadata": {},
   "outputs": [],
   "source": [
    "# channels2 = [\"Fz\",\"C3\", \"Cz\", \"C4\",\"Pz\",\"PO7\",\"Oz\",\"PO8\"]\n",
    "\n",
    "# info2 = mne.create_info(\n",
    "#     ch_names= channels2,\n",
    "#     ch_types= ['eeg']*len(channels2),\n",
    "#     sfreq= 250\n",
    "# )\n",
    "# FFT_epoch = mne.EpochsArray(new_data, info2, verbose=False)\n",
    "\n",
    "\n",
    "# FFT_data=  FFT_epoch.compute_psd(fmax = 32).get_data()"
   ]
  },
  {
   "cell_type": "markdown",
   "metadata": {},
   "source": [
    "CWT"
   ]
  },
  {
   "cell_type": "code",
   "execution_count": 185,
   "metadata": {},
   "outputs": [
    {
     "name": "stdout",
     "output_type": "stream",
     "text": [
      "(240, 251, 8)\n",
      "0\n"
     ]
    },
    {
     "name": "stdout",
     "output_type": "stream",
     "text": [
      "40\n",
      "80\n",
      "120\n",
      "160\n",
      "200\n",
      "(240, 30, 251, 8)\n",
      "(240, 240, 251)\n"
     ]
    }
   ],
   "source": [
    "FB = 1\n",
    "train_cwt = np.ndarray(shape=(new_data.shape[0], new_data.shape[2], component_num*FB))\n",
    "for jj in range(0, new_data.shape[0]):\n",
    "    train_cwt[jj] = new_data[jj].T\n",
    "print(np.shape(train_cwt))\n",
    "\n",
    "scales = range(1,31)\n",
    "\n",
    "waveletname = 'morl'\n",
    "train_size = len(labels)\n",
    "train_data_cwt = np.ndarray(shape=(train_size, len(scales), new_data.shape[2], component_num*FB))\n",
    "\n",
    "for ii in range(0,train_size):\n",
    "    if ii % 40 == 0:\n",
    "        print(ii)\n",
    "    for jj in range(0,component_num*FB):\n",
    "        signal = train_cwt[ii, :, jj]\n",
    "        coeff, _ = pywt.cwt(signal, scales, waveletname, 1)\n",
    "        coeff_ = coeff[:,:new_data.shape[2]] \n",
    "        train_data_cwt[ii, :, :, jj] = coeff_\n",
    "print(np.shape(train_data_cwt))\n",
    "\n",
    "train_cwt_stack = np.ndarray(shape=(train_size, len(scales)*component_num*FB, new_data.shape[2]))\n",
    "\n",
    "# train_cwt_stack = np.ndarray(shape=(train_size , new_data.shape[2], len(scales)*component_num*FB))\n",
    "\n",
    "for jj in range(0,train_data_cwt.shape[0]):\n",
    "    # train_cwt_stack[jj] = np.concatenate(train_data_cwt[jj], axis = 1)\n",
    "    \n",
    "    train_cwt_stack[jj] = np.vstack((train_data_cwt[jj,:,:,0], train_data_cwt[jj,:,:,1], train_data_cwt[jj,:,:,2], train_data_cwt[jj,:,:,3], train_data_cwt[jj,:,:,4], train_data_cwt[jj,:,:,5], train_data_cwt[jj,:,:,6], train_data_cwt[jj,:,:,7]))\n",
    "    # train_cwt_stack[jj] = np.vstack((train_data_cwt[jj,:,:,0], train_data_cwt[jj,:,:,1], train_data_cwt[jj,:,:,2]))\n",
    "print(np.shape(train_cwt_stack))"
   ]
  },
  {
   "cell_type": "markdown",
   "metadata": {},
   "source": [
    "Try scaler"
   ]
  },
  {
   "cell_type": "code",
   "execution_count": 186,
   "metadata": {},
   "outputs": [],
   "source": [
    "# from sklearn.preprocessing import StandardScaler\n",
    "# scaler = StandardScaler()\n",
    "# reshaped_data = train_cwt_stack.reshape((train_cwt_stack.shape[0], -1))\n",
    "# scaled_data = scaler.fit_transform(reshaped_data)\n",
    "# scaled_data_3d = scaled_data.reshape(train_cwt_stack.shape)\n",
    "# print(scaled_data_3d.shape)"
   ]
  },
  {
   "cell_type": "code",
   "execution_count": 187,
   "metadata": {},
   "outputs": [
    {
     "name": "stdout",
     "output_type": "stream",
     "text": [
      "(168, 240, 251) (72, 240, 251) (168,) (72,)\n"
     ]
    }
   ],
   "source": [
    "# train_cwt_stack = new_data\n",
    "x_train, x_test, y_train, y_test = train_test_split(train_cwt_stack, labels, test_size=0.3, random_state=42)\n",
    "\n",
    "num_classes = len(np.unique(labels))\n",
    "lowest = np.min(y_train)\n",
    "batch_size = 1\n",
    "epochs = 15\n",
    "print(np.shape(x_train), np.shape(x_test), np.shape(y_train), np.shape(y_test))\n",
    "\n",
    "y_train = keras.utils.to_categorical(y_train-lowest, num_classes)\n",
    "y_test = keras.utils.to_categorical(y_test-lowest, num_classes)"
   ]
  },
  {
   "cell_type": "markdown",
   "metadata": {},
   "source": [
    "# Purposed CNN Model"
   ]
  },
  {
   "cell_type": "code",
   "execution_count": 188,
   "metadata": {},
   "outputs": [],
   "source": [
    "# # Define the CNN model\n",
    "# model = Sequential()\n",
    "\n",
    "# # Convolutional Layer 1 with 32 filters of kernel size 3x3\n",
    "# model.add(Conv2D(32, (3, 3), input_shape=(train_cwt_stack.shape[1], train_cwt_stack.shape[2],1), activation='relu'))\n",
    "# # model.add(BatchNormalization())\n",
    "# model.add(MaxPooling2D(pool_size=(2, 2)))\n",
    "\n",
    "# # Convolutional Layer 2 with 64 filters of kernel size 3x3\n",
    "# model.add(Conv2D(64, (3, 3), activation='relu'))\n",
    "# # model.add(BatchNormalization())\n",
    "# # model.add(Dropout(0.5)) \n",
    "\n",
    "# # Max-Pooling Layer 2 with pool size 2x2\n",
    "# model.add(MaxPooling2D(pool_size=(2, 2)))\n",
    "\n",
    "# # model.add(Reshape(target_shape=(4, 497*64)))\n",
    "\n",
    "# # model.add(LSTM(50, activation='relu'))\n",
    "\n",
    "# # Flatten the output from the previous layer\n",
    "# model.add(Flatten())\n",
    "\n",
    "# # Output Layer with the desired number of output nodes (adjust as needed)\n",
    "# model.add(Dense(num_classes, activation='softmax'))\n",
    "\n",
    "# model.compile(loss=keras.losses.categorical_crossentropy, \n",
    "#               optimizer=keras.optimizers.Adam(learning_rate= 0.0001), \n",
    "#               metrics=['accuracy'])\n",
    "\n",
    "# model.summary()\n",
    "# plot_model(model,to_file='model_plot.png', show_shapes=True, show_layer_names=True)\n",
    "# checkpoint = ModelCheckpoint(\"CNN_model_newsess_nonvsim_weights.h5\", monitor='val_accuracy', save_best_only=True, mode='max', verbose=1)\n",
    "\n",
    "# model.fit(x_train, y_train, batch_size=batch_size, \n",
    "#           epochs=epochs, verbose=1, \n",
    "#           validation_data=(x_test, y_test), \n",
    "#           callbacks=[history, checkpoint])"
   ]
  },
  {
   "cell_type": "code",
   "execution_count": 189,
   "metadata": {},
   "outputs": [],
   "source": [
    "# from keras.models import Sequential\n",
    "# from keras.layers import LSTM, Dense\n",
    "\n",
    "# # Define the model\n",
    "# model = Sequential()\n",
    "\n",
    "# # Add an LSTM layer with 50 units (you can adjust this as needed) and input shape (8, 501)\n",
    "# model.add(LSTM(50, input_shape=(8, 501)))\n",
    "\n",
    "# # Add a dense layer with output dimension 1 (for example, for binary classification)\n",
    "# model.add(Dense(num_classes, activation='softmax'))\n",
    "\n",
    "# model.compile(loss=keras.losses.categorical_crossentropy, \n",
    "#               optimizer=keras.optimizers.Adam(learning_rate= 0.001), \n",
    "#               metrics=['accuracy'])\n",
    "\n",
    "# model.summary()\n",
    "# plot_model(model,to_file='model_plot.png', show_shapes=True, show_layer_names=True)\n",
    "# checkpoint = ModelCheckpoint(\"RNN_model_newness_nonvsim_weights.h5\", monitor='val_accuracy', save_best_only=True, mode='max', verbose=1)\n",
    "\n",
    "# model.fit(x_train, y_train, batch_size=batch_size, \n",
    "#           epochs=epochs, verbose=1, \n",
    "#           validation_data=(x_test, y_test), \n",
    "#           callbacks=[history, checkpoint])\n"
   ]
  },
  {
   "cell_type": "code",
   "execution_count": 190,
   "metadata": {},
   "outputs": [
    {
     "name": "stdout",
     "output_type": "stream",
     "text": [
      "8/8 [==============================] - 1s 136ms/step - loss: 0.0153 - accuracy: 1.0000\n",
      "8/8 [==============================] - 1s 147ms/step\n"
     ]
    },
    {
     "data": {
      "image/png": "[encoded data removed]",
      "text/plain": [
       "<Figure size 640x480 with 2 Axes>"
      ]
     },
     "metadata": {},
     "output_type": "display_data"
    }
   ],
   "source": [
    "from keras.models import load_model\n",
    "from sklearn.metrics import confusion_matrix\n",
    "import seaborn as sns\n",
    "pretrained_model = load_model(\"CNN_model_newsess_nonvsim_weights.h5\")\n",
    "\n",
    "y_test = keras.utils.to_categorical(labels-lowest, num_classes)\n",
    "\n",
    "loss, accuracy = pretrained_model.evaluate(train_cwt_stack, y_test)\n",
    "\n",
    "y_pred = pretrained_model.predict(train_cwt_stack)\n",
    "y_pred = np.argmax(y_pred, axis=1) \n",
    "y_true = np.argmax(y_test, axis=1)\n",
    "\n",
    "confusion_mat = confusion_matrix(y_true, y_pred)\n",
    "\n",
    "# class_names = ['Left hand', 'Right hand',  'Non-imagine', 'Feet']\n",
    "\n",
    "# class_names = ['Right hand','Non-imagine']\n",
    "\n",
    "# class_names = ['Imagine','Non-imagine']\n",
    "\n",
    "class_names = ['Left hand', 'Right hand', 'non-imagine']\n",
    "\n",
    "# class_names = ['Left hand', 'Right hand', 'Up']\n",
    "\n",
    "sns.heatmap(confusion_mat, \n",
    "            annot=True,\n",
    "            fmt='d', \n",
    "            cmap=\"Blues\",\n",
    "            xticklabels=class_names,\n",
    "            yticklabels=class_names)\n",
    "plt.ylabel('Prediction',fontsize=13)\n",
    "plt.xlabel('Actual',fontsize=13)\n",
    "plt.title(\"Confusion Matrix: Accuracy = \"+ str(round(accuracy,3)))\n",
    "plt.show()"
   ]
  }
 ],
 "metadata": {
  "kernelspec": {
   "display_name": "Python 3",
   "language": "python",
   "name": "python3"
  },
  "language_info": {
   "codemirror_mode": {
    "name": "ipython",
    "version": 3
   },
   "file_extension": ".py",
   "mimetype": "text/x-python",
   "name": "python",
   "nbconvert_exporter": "python",
   "pygments_lexer": "ipython3",
   "version": "3.11.0"
  },
  "orig_nbformat": 4
 },
 "nbformat": 4,
 "nbformat_minor": 2
}
