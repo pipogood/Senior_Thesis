{
 "cells": [
  {
   "cell_type": "code",
   "execution_count": 651,
   "metadata": {},
   "outputs": [
    {
     "name": "stdout",
     "output_type": "stream",
     "text": [
      "Extracting EDF parameters from C:\\git\\Senior_Thesis\\DataSet\\Convert_data\\hand0_new.edf...\n",
      "EDF file detected\n",
      "Setting channel info structure...\n",
      "Creating raw.info structure...\n",
      "Reading 0 ... 279249  =      0.000 ...  1116.996 secs...\n",
      "Extracting EDF parameters from C:\\git\\Senior_Thesis\\DataSet\\Convert_data\\hand1_new.edf...\n",
      "EDF file detected\n",
      "Setting channel info structure...\n",
      "Creating raw.info structure...\n",
      "Reading 0 ... 279249  =      0.000 ...  1116.996 secs...\n",
      "Extracting EDF parameters from C:\\git\\Senior_Thesis\\DataSet\\Convert_data\\hand2_new.edf...\n",
      "EDF file detected\n",
      "Setting channel info structure...\n",
      "Creating raw.info structure...\n",
      "Reading 0 ... 279249  =      0.000 ...  1116.996 secs...\n",
      "Extracting EDF parameters from C:\\git\\Senior_Thesis\\DataSet\\Convert_data\\hand3_new.edf...\n",
      "EDF file detected\n",
      "Setting channel info structure...\n",
      "Creating raw.info structure...\n",
      "Reading 0 ... 279249  =      0.000 ...  1116.996 secs...\n",
      "Extracting EDF parameters from C:\\git\\Senior_Thesis\\DataSet\\Convert_data\\hand4_new.edf...\n",
      "EDF file detected\n",
      "Setting channel info structure...\n",
      "Creating raw.info structure...\n",
      "Reading 0 ... 279249  =      0.000 ...  1116.996 secs...\n",
      "Extracting EDF parameters from C:\\git\\Senior_Thesis\\DataSet\\Convert_data\\hand5_new.edf...\n",
      "EDF file detected\n",
      "Setting channel info structure...\n",
      "Creating raw.info structure...\n",
      "Reading 0 ... 279249  =      0.000 ...  1116.996 secs...\n",
      "Extracting EDF parameters from C:\\git\\Senior_Thesis\\DataSet\\Convert_data\\MI_execution.edf...\n",
      "EDF file detected\n",
      "Setting channel info structure...\n",
      "Creating raw.info structure...\n",
      "Reading 0 ... 279249  =      0.000 ...  1116.996 secs...\n",
      "Filtering raw data in 1 contiguous segment\n",
      "Setting up band-pass filter from 1 - 30 Hz\n",
      "\n",
      "IIR filter parameters\n",
      "---------------------\n",
      "Butterworth bandpass zero-phase (two-pass forward and reverse) non-causal filter:\n",
      "- Filter order 20 (effective, after forward-backward)\n",
      "- Cutoffs at 1.00, 30.00 Hz: -6.02, -6.02 dB\n",
      "\n",
      "EEG channel type selected for re-referencing\n",
      "Applying average reference.\n",
      "Applying a custom ('EEG',) reference.\n",
      "Used Annotations descriptions: ['OVTK_GDF_Cross_On_Screen', 'OVTK_GDF_End_Of_Session', 'OVTK_GDF_End_Of_Trial', 'OVTK_GDF_Feedback_Continuous', 'OVTK_GDF_Incorrect', 'OVTK_GDF_Left', 'OVTK_GDF_Right', 'OVTK_GDF_Start_Of_Trial', 'OVTK_GDF_Tongue', 'OVTK_GDF_Up', 'OVTK_StimulationId_BaselineStart', 'OVTK_StimulationId_BaselineStop', 'OVTK_StimulationId_Beep', 'OVTK_StimulationId_ExperimentStart', 'OVTK_StimulationId_Train']\n",
      "Multiple event values for single event times found. Keeping the first occurrence and dropping all others.\n",
      "Not setting metadata\n",
      "607 matching events found\n",
      "Setting baseline interval to [-2.0, 0.0] s\n",
      "Applying baseline correction (mode: mean)\n",
      "0 projection items activated\n",
      "Using data from preloaded Raw for 607 events and 1501 original time points ...\n",
      "2 bad epochs dropped\n"
     ]
    }
   ],
   "source": [
    "import mne\n",
    "import matplotlib.pyplot as plt\n",
    "from mne.channels import make_standard_montage\n",
    "from mne_realtime import LSLClient, MockLSLStream, RtEpochs\n",
    "import numpy as np\n",
    "import pywt\n",
    "import pickle\n",
    "\n",
    "raw_each = [0] * 6\n",
    "\n",
    "for i in range(0,6):\n",
    "    raw_each[i] = mne.io.read_raw_edf(\"C:\\git\\Senior_Thesis\\DataSet\\Convert_data\\hand\"+ str(i) +\"_new.edf\",preload = True)\n",
    "\n",
    "# raw_edf = mne.concatenate_raws(raw_each)\n",
    "# raw_edf = mne.concatenate_raws([raw_each[4]])\n",
    "raw_edf = mne.io.read_raw_edf(\"C:\\git\\Senior_Thesis\\DataSet\\Convert_data\\MI_execution.edf\", preload=True)\n",
    "\n",
    "eeg1 = raw_edf.copy().filter(l_freq=1.0, h_freq=30.0, method = 'iir', iir_params= {\"order\": 5, \"ftype\":'butter'})\n",
    "# eeg1 = raw_edf.copy().filter(l_freq=0.075, h_freq=3.0, method = 'fir')\n",
    "eeg1 = eeg1.copy().set_eeg_reference(ref_channels=\"average\")\n",
    "\n",
    "eeg1= eeg1.pick([\"Fz\",\"C3\", \"Cz\", \"C4\",\"Pz\",'PO7','PO8'])\n",
    "# eeg1= eeg1.pick_channels([\"C3\", \"Cz\", \"C4\"])\n",
    "events, event_dict = mne.events_from_annotations(eeg1)\n",
    "combine_epochs = mne.Epochs(eeg1, events, \n",
    "        tmin=-2.0,     # init timestamp of epoch (0 means trigger timestamp same as event start)\n",
    "        tmax=4.0,    # final timestamp (10 means set epoch duration 10 second)\n",
    "        event_id=event_dict,\n",
    "        preload = True,\n",
    "        event_repeated='drop'\n",
    "    )\n",
    "\n",
    "combine_epochs = combine_epochs.copy().crop(tmin=0.0, tmax=2.0)"
   ]
  },
  {
   "cell_type": "code",
   "execution_count": 652,
   "metadata": {},
   "outputs": [
    {
     "data": {
      "text/plain": [
       "{'OVTK_GDF_Cross_On_Screen': 1,\n",
       " 'OVTK_GDF_End_Of_Session': 2,\n",
       " 'OVTK_GDF_End_Of_Trial': 3,\n",
       " 'OVTK_GDF_Feedback_Continuous': 4,\n",
       " 'OVTK_GDF_Incorrect': 5,\n",
       " 'OVTK_GDF_Left': 6,\n",
       " 'OVTK_GDF_Right': 7,\n",
       " 'OVTK_GDF_Start_Of_Trial': 8,\n",
       " 'OVTK_GDF_Tongue': 9,\n",
       " 'OVTK_GDF_Up': 10,\n",
       " 'OVTK_StimulationId_BaselineStart': 11,\n",
       " 'OVTK_StimulationId_BaselineStop': 12,\n",
       " 'OVTK_StimulationId_Beep': 13,\n",
       " 'OVTK_StimulationId_ExperimentStart': 14,\n",
       " 'OVTK_StimulationId_Train': 15}"
      ]
     },
     "execution_count": 652,
     "metadata": {},
     "output_type": "execute_result"
    }
   ],
   "source": [
    "combine_epochs.event_id"
   ]
  },
  {
   "cell_type": "code",
   "execution_count": 653,
   "metadata": {},
   "outputs": [
    {
     "data": {
      "text/html": [
       "<table class=\"table table-hover table-striped table-sm table-responsive small\">\n",
       "    <tr>\n",
       "        <th>Number of events</th>\n",
       "        <td>605</td>\n",
       "    </tr>\n",
       "    <tr>\n",
       "        <th>Events</th>\n",
       "        \n",
       "        <td>OVTK_GDF_Cross_On_Screen: 2<br/>OVTK_GDF_End_Of_Session: 1<br/>OVTK_GDF_End_Of_Trial: 120<br/>OVTK_GDF_Feedback_Continuous: 120<br/>OVTK_GDF_Incorrect: 1<br/>OVTK_GDF_Left: 30<br/>OVTK_GDF_Right: 30<br/>OVTK_GDF_Start_Of_Trial: 119<br/>OVTK_GDF_Tongue: 30<br/>OVTK_GDF_Up: 30<br/>OVTK_StimulationId_BaselineStart: 1<br/>OVTK_StimulationId_BaselineStop: 1<br/>OVTK_StimulationId_Beep: 120<br/>OVTK_StimulationId_ExperimentStart: 0<br/>OVTK_StimulationId_Train: 0</td>\n",
       "        \n",
       "    </tr>\n",
       "    <tr>\n",
       "        <th>Time range</th>\n",
       "        <td>0.000 – 2.000 s</td>\n",
       "    </tr>\n",
       "    <tr>\n",
       "        <th>Baseline</th>\n",
       "        <td>-2.000 – 0.000 s</td>\n",
       "    </tr>\n",
       "</table>"
      ],
      "text/plain": [
       "<Epochs |  605 events (all good), 0 – 2 s, baseline -2 – 0 s (baseline period was cropped after baseline correction), ~16.2 MB, data loaded,\n",
       " 'OVTK_GDF_Cross_On_Screen': 2\n",
       " 'OVTK_GDF_End_Of_Session': 1\n",
       " 'OVTK_GDF_End_Of_Trial': 120\n",
       " 'OVTK_GDF_Feedback_Continuous': 120\n",
       " 'OVTK_GDF_Incorrect': 1\n",
       " 'OVTK_GDF_Left': 30\n",
       " 'OVTK_GDF_Right': 30\n",
       " 'OVTK_GDF_Start_Of_Trial': 119\n",
       " 'OVTK_GDF_Tongue': 30\n",
       " 'OVTK_GDF_Up': 30\n",
       " and 5 more events ...>"
      ]
     },
     "execution_count": 653,
     "metadata": {},
     "output_type": "execute_result"
    }
   ],
   "source": [
    "combine_epochs"
   ]
  },
  {
   "cell_type": "code",
   "execution_count": 654,
   "metadata": {},
   "outputs": [],
   "source": [
    "# Prepare Labels and Train data\n",
    "labels = combine_epochs['OVTK_GDF_Left','OVTK_GDF_Right','OVTK_GDF_Up','OVTK_GDF_Tongue'].events[:,2]\n",
    "for i in range(0,len(labels)):\n",
    "    if labels[i] > 7:\n",
    "        labels[i] = labels[i] - 1\n",
    "    # if labels[i] < 7:\n",
    "    #     labels[i] = labels[i] + 1\n",
    "    \n",
    "train_data = combine_epochs['OVTK_GDF_Left','OVTK_GDF_Right','OVTK_GDF_Up','OVTK_GDF_Tongue'].get_data()\n",
    "# train_data = combine_epochs['OVTK_GDF_Start_Of_Trial'].get_data()"
   ]
  },
  {
   "cell_type": "markdown",
   "metadata": {},
   "source": [
    "Load CSP Weight"
   ]
  },
  {
   "cell_type": "code",
   "execution_count": 655,
   "metadata": {},
   "outputs": [],
   "source": [
    "component_num = 7\n",
    "\n",
    "with open('trained_csp_model.pkl', 'rb') as file:\n",
    "    trained_csp = pickle.load(file)\n",
    "\n",
    "new_data = trained_csp.transform(train_data)"
   ]
  },
  {
   "cell_type": "code",
   "execution_count": 656,
   "metadata": {},
   "outputs": [
    {
     "data": {
      "text/plain": [
       "(120, 7, 501)"
      ]
     },
     "execution_count": 656,
     "metadata": {},
     "output_type": "execute_result"
    }
   ],
   "source": [
    "new_data.shape"
   ]
  },
  {
   "cell_type": "markdown",
   "metadata": {},
   "source": [
    "CWT Transformation"
   ]
  },
  {
   "cell_type": "code",
   "execution_count": 657,
   "metadata": {},
   "outputs": [
    {
     "name": "stdout",
     "output_type": "stream",
     "text": [
      "(120, 7, 501)\n",
      "0\n"
     ]
    },
    {
     "name": "stdout",
     "output_type": "stream",
     "text": [
      "40\n",
      "80\n",
      "(120, 30, 501, 7)\n",
      "(120, 210, 501)\n"
     ]
    }
   ],
   "source": [
    "train_cwt = np.ndarray(shape=(new_data.shape[0], new_data.shape[2], component_num))\n",
    "for jj in range(0, new_data.shape[0]):\n",
    "    train_cwt[jj] = new_data[jj].T\n",
    "print(np.shape(new_data))\n",
    "\n",
    "scales = range(1,31)\n",
    "\n",
    "waveletname = 'morl'\n",
    "train_size = new_data.shape[0]\n",
    "train_data_cwt = np.ndarray(shape=(train_size, len(scales), new_data.shape[2], component_num))\n",
    "\n",
    "for ii in range(0,train_size):\n",
    "    if ii % 40 == 0:\n",
    "        print(ii)\n",
    "    for jj in range(0,component_num):\n",
    "        signal = train_cwt[ii, :, jj]\n",
    "        coeff, _ = pywt.cwt(signal, scales, waveletname, 1)\n",
    "        coeff_ = coeff[:,:new_data.shape[2]]  #crop 227 sample for each channel\n",
    "        train_data_cwt[ii, :, :, jj] = coeff_\n",
    "print(np.shape(train_data_cwt))\n",
    "\n",
    "train_cwt_stack = np.ndarray(shape=(train_size, len(scales)*component_num, new_data.shape[2]))\n",
    "\n",
    "for jj in range(0,train_data_cwt.shape[0]):\n",
    "    train_cwt_stack[jj] = np.vstack((train_data_cwt[jj,:,:,0], train_data_cwt[jj,:,:,1], train_data_cwt[jj,:,:,2], train_data_cwt[jj,:,:,3], train_data_cwt[jj,:,:,4], train_data_cwt[jj,:,:,5], train_data_cwt[jj,:,:,6]))\n",
    "\n",
    "print(np.shape(train_cwt_stack))"
   ]
  },
  {
   "cell_type": "markdown",
   "metadata": {},
   "source": [
    "Classification with trained model"
   ]
  },
  {
   "cell_type": "code",
   "execution_count": 658,
   "metadata": {},
   "outputs": [
    {
     "name": "stdout",
     "output_type": "stream",
     "text": [
      "4/4 [==============================] - 2s 438ms/step\n"
     ]
    }
   ],
   "source": [
    "import keras\n",
    "from keras.models import load_model\n",
    "from sklearn.metrics import confusion_matrix\n",
    "import seaborn as sns\n",
    "pretrained_model = load_model(\"CNN_try_model_weights.h5\")\n",
    "num_classes = 4\n",
    "\n",
    "y_pred_raw = pretrained_model.predict(train_cwt_stack)\n",
    "np.set_printoptions(formatter={'float_kind':'{:f}'.format})\n",
    "y_pred = np.argmax(y_pred_raw, axis=1) "
   ]
  },
  {
   "cell_type": "code",
   "execution_count": 659,
   "metadata": {},
   "outputs": [
    {
     "name": "stdout",
     "output_type": "stream",
     "text": [
      "4/4 [==============================] - 2s 442ms/step - loss: 0.7413 - accuracy: 0.7000\n"
     ]
    },
    {
     "data": {
      "image/png": "[encoded data removed]",
      "text/plain": [
       "<Figure size 640x480 with 2 Axes>"
      ]
     },
     "metadata": {},
     "output_type": "display_data"
    }
   ],
   "source": [
    "y_test = keras.utils.to_categorical(labels -6 , num_classes)\n",
    "y_true = np.argmax(y_test, axis=1)\n",
    "confusion_mat = confusion_matrix(y_true, y_pred)\n",
    "loss, accuracy = pretrained_model.evaluate(train_cwt_stack, y_test)\n",
    "\n",
    "class_names = ['Left hand', 'Right hand',  'Non-imagine', 'Feet']\n",
    "\n",
    "sns.heatmap(confusion_mat, \n",
    "            annot=True,\n",
    "            fmt='d', \n",
    "            cmap=\"Blues\",\n",
    "            xticklabels=class_names,\n",
    "            yticklabels=class_names)\n",
    "plt.ylabel('Prediction',fontsize=13)\n",
    "plt.xlabel('Actual',fontsize=13)\n",
    "plt.title(\"Confusion Matrix: Accuracy = \"+ str(round(accuracy,3)))\n",
    "plt.show()"
   ]
  },
  {
   "cell_type": "code",
   "execution_count": 660,
   "metadata": {},
   "outputs": [
    {
     "data": {
      "text/plain": [
       "array([[0.492059, 0.308863, 0.162806, 0.036272],\n",
       "       [0.107753, 0.799385, 0.065473, 0.027390],\n",
       "       [0.131853, 0.832358, 0.017376, 0.018413],\n",
       "       [0.924100, 0.006448, 0.001139, 0.068312],\n",
       "       [0.036432, 0.040201, 0.671663, 0.251705],\n",
       "       [0.953241, 0.015604, 0.025149, 0.006006],\n",
       "       [0.009377, 0.968398, 0.006854, 0.015371],\n",
       "       [0.996475, 0.001516, 0.001935, 0.000074],\n",
       "       [0.996712, 0.002344, 0.000641, 0.000303],\n",
       "       [0.265941, 0.137015, 0.423673, 0.173372],\n",
       "       [0.540638, 0.420552, 0.030451, 0.008360],\n",
       "       [0.958778, 0.011751, 0.001585, 0.027887],\n",
       "       [0.008610, 0.077020, 0.105341, 0.809030],\n",
       "       [0.754758, 0.106835, 0.083540, 0.054867],\n",
       "       [0.017874, 0.970418, 0.010965, 0.000743],\n",
       "       [0.012602, 0.525621, 0.455666, 0.006111],\n",
       "       [0.435681, 0.006231, 0.410737, 0.147351],\n",
       "       [0.182658, 0.147517, 0.040630, 0.629195],\n",
       "       [0.358743, 0.600538, 0.015137, 0.025582],\n",
       "       [0.989128, 0.001837, 0.002051, 0.006984],\n",
       "       [0.074964, 0.004992, 0.421707, 0.498338],\n",
       "       [0.988637, 0.001067, 0.006457, 0.003838],\n",
       "       [0.006919, 0.979537, 0.002545, 0.010998],\n",
       "       [0.907193, 0.042324, 0.025718, 0.024765],\n",
       "       [0.524020, 0.028562, 0.322031, 0.125387],\n",
       "       [0.941238, 0.016070, 0.001469, 0.041223],\n",
       "       [0.032506, 0.934937, 0.025155, 0.007402],\n",
       "       [0.661224, 0.023991, 0.203511, 0.111274],\n",
       "       [0.034777, 0.119895, 0.741047, 0.104281],\n",
       "       [0.778220, 0.015829, 0.163830, 0.042121],\n",
       "       [0.078244, 0.000209, 0.311669, 0.609878],\n",
       "       [0.170116, 0.030005, 0.165420, 0.634460],\n",
       "       [0.020196, 0.011325, 0.645766, 0.322713],\n",
       "       [0.154619, 0.827641, 0.014794, 0.002945],\n",
       "       [0.982191, 0.003853, 0.004151, 0.009805],\n",
       "       [0.502363, 0.116532, 0.017978, 0.363128],\n",
       "       [0.021460, 0.000600, 0.870810, 0.107130],\n",
       "       [0.046931, 0.508722, 0.085906, 0.358441],\n",
       "       [0.117759, 0.280444, 0.098807, 0.502990],\n",
       "       [0.427497, 0.049336, 0.013974, 0.509193],\n",
       "       [0.135137, 0.165381, 0.673129, 0.026352],\n",
       "       [0.040421, 0.523018, 0.265567, 0.170994],\n",
       "       [0.091824, 0.170395, 0.032657, 0.705123],\n",
       "       [0.995939, 0.002969, 0.000217, 0.000874],\n",
       "       [0.036900, 0.024947, 0.220080, 0.718073],\n",
       "       [0.988571, 0.002883, 0.005039, 0.003506],\n",
       "       [0.205245, 0.384410, 0.043986, 0.366358],\n",
       "       [0.998917, 0.000624, 0.000160, 0.000298],\n",
       "       [0.008323, 0.065129, 0.916143, 0.010405],\n",
       "       [0.004614, 0.002424, 0.867957, 0.125006],\n",
       "       [0.164993, 0.699728, 0.077844, 0.057435],\n",
       "       [0.729923, 0.086999, 0.125678, 0.057400],\n",
       "       [0.037253, 0.011009, 0.934911, 0.016827],\n",
       "       [0.304103, 0.255992, 0.151782, 0.288124],\n",
       "       [0.331616, 0.607441, 0.034507, 0.026436],\n",
       "       [0.954342, 0.036636, 0.003073, 0.005948],\n",
       "       [0.366629, 0.050274, 0.534871, 0.048227],\n",
       "       [0.423936, 0.493823, 0.017711, 0.064530],\n",
       "       [0.100704, 0.832949, 0.025565, 0.040782],\n",
       "       [0.715399, 0.019911, 0.249521, 0.015170],\n",
       "       [0.136230, 0.095422, 0.543286, 0.225061],\n",
       "       [0.181204, 0.589517, 0.162760, 0.066520],\n",
       "       [0.239157, 0.695492, 0.014292, 0.051059],\n",
       "       [0.921793, 0.016903, 0.028539, 0.032765],\n",
       "       [0.052940, 0.925909, 0.007206, 0.013944],\n",
       "       [0.001780, 0.003897, 0.090110, 0.904213],\n",
       "       [0.209612, 0.742662, 0.019700, 0.028026],\n",
       "       [0.038146, 0.332265, 0.038518, 0.591070],\n",
       "       [0.182190, 0.066590, 0.525943, 0.225278],\n",
       "       [0.181517, 0.103961, 0.070854, 0.643668],\n",
       "       [0.952564, 0.032425, 0.003886, 0.011125],\n",
       "       [0.792910, 0.193889, 0.011584, 0.001616],\n",
       "       [0.017638, 0.931744, 0.016957, 0.033661],\n",
       "       [0.474917, 0.145472, 0.190525, 0.189086],\n",
       "       [0.107767, 0.847174, 0.016909, 0.028150],\n",
       "       [0.989838, 0.005116, 0.001270, 0.003776],\n",
       "       [0.026859, 0.846948, 0.085799, 0.040394],\n",
       "       [0.036448, 0.105882, 0.764274, 0.093396],\n",
       "       [0.793170, 0.187340, 0.003628, 0.015861],\n",
       "       [0.130998, 0.012177, 0.018107, 0.838717],\n",
       "       [0.044395, 0.090714, 0.063432, 0.801459],\n",
       "       [0.088528, 0.090581, 0.019172, 0.801718],\n",
       "       [0.167196, 0.699805, 0.028871, 0.104127],\n",
       "       [0.967455, 0.017989, 0.005078, 0.009478],\n",
       "       [0.449911, 0.037182, 0.455655, 0.057252],\n",
       "       [0.463627, 0.260171, 0.068577, 0.207625],\n",
       "       [0.109227, 0.024883, 0.205048, 0.660841],\n",
       "       [0.994724, 0.003171, 0.001171, 0.000934],\n",
       "       [0.019131, 0.146296, 0.513420, 0.321153],\n",
       "       [0.325868, 0.292460, 0.100227, 0.281446],\n",
       "       [0.015678, 0.786743, 0.087056, 0.110523],\n",
       "       [0.640618, 0.074744, 0.208450, 0.076189],\n",
       "       [0.028135, 0.074421, 0.706137, 0.191307],\n",
       "       [0.441748, 0.331483, 0.081143, 0.145626],\n",
       "       [0.016726, 0.964128, 0.016856, 0.002291],\n",
       "       [0.933500, 0.029684, 0.012437, 0.024379],\n",
       "       [0.034544, 0.294216, 0.608220, 0.063020],\n",
       "       [0.149565, 0.115631, 0.059534, 0.675270],\n",
       "       [0.535964, 0.199461, 0.082728, 0.181847],\n",
       "       [0.339284, 0.626208, 0.032889, 0.001619],\n",
       "       [0.000334, 0.000899, 0.374745, 0.624023],\n",
       "       [0.175195, 0.039361, 0.618610, 0.166834],\n",
       "       [0.993031, 0.004151, 0.002551, 0.000267],\n",
       "       [0.975398, 0.003968, 0.002826, 0.017808],\n",
       "       [0.390092, 0.096991, 0.481631, 0.031285],\n",
       "       [0.208196, 0.051809, 0.009509, 0.730485],\n",
       "       [0.596329, 0.393098, 0.009047, 0.001526],\n",
       "       [0.663130, 0.132842, 0.025406, 0.178622],\n",
       "       [0.003042, 0.007822, 0.884644, 0.104492],\n",
       "       [0.914716, 0.046540, 0.018943, 0.019801],\n",
       "       [0.089161, 0.765752, 0.069527, 0.075560],\n",
       "       [0.973741, 0.019495, 0.006241, 0.000523],\n",
       "       [0.004807, 0.000504, 0.389650, 0.605040],\n",
       "       [0.213022, 0.044830, 0.096607, 0.645541],\n",
       "       [0.828480, 0.152693, 0.010145, 0.008682],\n",
       "       [0.998345, 0.000695, 0.000709, 0.000251],\n",
       "       [0.042843, 0.032206, 0.571824, 0.353127],\n",
       "       [0.073516, 0.096046, 0.509268, 0.321170],\n",
       "       [0.008249, 0.017047, 0.922286, 0.052418],\n",
       "       [0.996215, 0.003072, 0.000680, 0.000034]], dtype=float32)"
      ]
     },
     "execution_count": 660,
     "metadata": {},
     "output_type": "execute_result"
    }
   ],
   "source": [
    "y_pred_raw"
   ]
  },
  {
   "cell_type": "markdown",
   "metadata": {},
   "source": [
    "Note of y_pred classes :\n",
    "    0 = Left,\n",
    "    1 = Right,\n",
    "    2 = Non-imagine,\n",
    "    3 = Feet "
   ]
  },
  {
   "cell_type": "code",
   "execution_count": 661,
   "metadata": {},
   "outputs": [
    {
     "data": {
      "text/plain": [
       "array([0, 1, 1, 0, 2, 0, 1, 0, 0, 2, 0, 0, 3, 0, 1, 1, 0, 3, 1, 0, 3, 0,\n",
       "       1, 0, 0, 0, 1, 0, 2, 0, 3, 3, 2, 1, 0, 0, 2, 1, 3, 3, 2, 1, 3, 0,\n",
       "       3, 0, 1, 0, 2, 2, 1, 0, 2, 0, 1, 0, 2, 1, 1, 0, 2, 1, 1, 0, 1, 3,\n",
       "       1, 3, 2, 3, 0, 0, 1, 0, 1, 0, 1, 2, 0, 3, 3, 3, 1, 0, 2, 0, 3, 0,\n",
       "       2, 0, 1, 0, 2, 0, 1, 0, 2, 3, 0, 1, 3, 2, 0, 0, 2, 3, 0, 0, 2, 0,\n",
       "       1, 0, 3, 3, 0, 0, 2, 2, 2, 0], dtype=int64)"
      ]
     },
     "execution_count": 661,
     "metadata": {},
     "output_type": "execute_result"
    }
   ],
   "source": [
    "y_pred"
   ]
  },
  {
   "cell_type": "code",
   "execution_count": 662,
   "metadata": {},
   "outputs": [
    {
     "data": {
      "text/html": [
       "<table class=\"table table-hover table-striped table-sm table-responsive small\">\n",
       "    <tr>\n",
       "        <th>Number of events</th>\n",
       "        <td>605</td>\n",
       "    </tr>\n",
       "    <tr>\n",
       "        <th>Events</th>\n",
       "        \n",
       "        <td>OVTK_GDF_Cross_On_Screen: 2<br/>OVTK_GDF_End_Of_Session: 1<br/>OVTK_GDF_End_Of_Trial: 120<br/>OVTK_GDF_Feedback_Continuous: 120<br/>OVTK_GDF_Incorrect: 1<br/>OVTK_GDF_Left: 30<br/>OVTK_GDF_Right: 30<br/>OVTK_GDF_Start_Of_Trial: 119<br/>OVTK_GDF_Tongue: 30<br/>OVTK_GDF_Up: 30<br/>OVTK_StimulationId_BaselineStart: 1<br/>OVTK_StimulationId_BaselineStop: 1<br/>OVTK_StimulationId_Beep: 120<br/>OVTK_StimulationId_ExperimentStart: 0<br/>OVTK_StimulationId_Train: 0</td>\n",
       "        \n",
       "    </tr>\n",
       "    <tr>\n",
       "        <th>Time range</th>\n",
       "        <td>0.000 – 2.000 s</td>\n",
       "    </tr>\n",
       "    <tr>\n",
       "        <th>Baseline</th>\n",
       "        <td>-2.000 – 0.000 s</td>\n",
       "    </tr>\n",
       "</table>"
      ],
      "text/plain": [
       "<Epochs |  605 events (all good), 0 – 2 s, baseline -2 – 0 s (baseline period was cropped after baseline correction), ~16.2 MB, data loaded,\n",
       " 'OVTK_GDF_Cross_On_Screen': 2\n",
       " 'OVTK_GDF_End_Of_Session': 1\n",
       " 'OVTK_GDF_End_Of_Trial': 120\n",
       " 'OVTK_GDF_Feedback_Continuous': 120\n",
       " 'OVTK_GDF_Incorrect': 1\n",
       " 'OVTK_GDF_Left': 30\n",
       " 'OVTK_GDF_Right': 30\n",
       " 'OVTK_GDF_Start_Of_Trial': 119\n",
       " 'OVTK_GDF_Tongue': 30\n",
       " 'OVTK_GDF_Up': 30\n",
       " and 5 more events ...>"
      ]
     },
     "execution_count": 662,
     "metadata": {},
     "output_type": "execute_result"
    }
   ],
   "source": [
    "combine_epochs"
   ]
  },
  {
   "cell_type": "code",
   "execution_count": 663,
   "metadata": {},
   "outputs": [
    {
     "name": "stdout",
     "output_type": "stream",
     "text": [
      "non-imagine TRUE:  19.166666666666668\n"
     ]
    }
   ],
   "source": [
    "result_array = y_pred[y_pred == 2]\n",
    "print('non-imagine TRUE: ', len(result_array) / 120 * 100)"
   ]
  }
 ],
 "metadata": {
  "kernelspec": {
   "display_name": "Python 3",
   "language": "python",
   "name": "python3"
  },
  "language_info": {
   "codemirror_mode": {
    "name": "ipython",
    "version": 3
   },
   "file_extension": ".py",
   "mimetype": "text/x-python",
   "name": "python",
   "nbconvert_exporter": "python",
   "pygments_lexer": "ipython3",
   "version": "3.11.0"
  }
 },
 "nbformat": 4,
 "nbformat_minor": 2
}
