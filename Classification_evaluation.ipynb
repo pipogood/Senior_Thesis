{
 "cells": [
  {
   "cell_type": "code",
   "execution_count": 430,
   "metadata": {},
   "outputs": [
    {
     "name": "stdout",
     "output_type": "stream",
     "text": [
      "Extracting EDF parameters from C:\\git\\Senior_Thesis\\DataSet\\Convert_data\\hand0_new.edf...\n",
      "EDF file detected\n",
      "Setting channel info structure...\n",
      "Creating raw.info structure...\n",
      "Reading 0 ... 279249  =      0.000 ...  1116.996 secs...\n",
      "Extracting EDF parameters from C:\\git\\Senior_Thesis\\DataSet\\Convert_data\\hand1_new.edf...\n",
      "EDF file detected\n",
      "Setting channel info structure...\n",
      "Creating raw.info structure...\n",
      "Reading 0 ... 279249  =      0.000 ...  1116.996 secs...\n",
      "Extracting EDF parameters from C:\\git\\Senior_Thesis\\DataSet\\Convert_data\\hand2_new.edf...\n",
      "EDF file detected\n",
      "Setting channel info structure...\n",
      "Creating raw.info structure...\n",
      "Reading 0 ... 279249  =      0.000 ...  1116.996 secs...\n",
      "Extracting EDF parameters from C:\\git\\Senior_Thesis\\DataSet\\Convert_data\\hand3_new.edf...\n",
      "EDF file detected\n",
      "Setting channel info structure...\n",
      "Creating raw.info structure...\n",
      "Reading 0 ... 279249  =      0.000 ...  1116.996 secs...\n",
      "Extracting EDF parameters from C:\\git\\Senior_Thesis\\DataSet\\Convert_data\\hand4_new.edf...\n",
      "EDF file detected\n",
      "Setting channel info structure...\n",
      "Creating raw.info structure...\n",
      "Reading 0 ... 279249  =      0.000 ...  1116.996 secs...\n",
      "Extracting EDF parameters from C:\\git\\Senior_Thesis\\DataSet\\Convert_data\\hand5_new.edf...\n",
      "EDF file detected\n",
      "Setting channel info structure...\n",
      "Creating raw.info structure...\n",
      "Reading 0 ... 279249  =      0.000 ...  1116.996 secs...\n",
      "Filtering raw data in 1 contiguous segment\n",
      "Setting up band-pass filter from 1 - 30 Hz\n",
      "\n",
      "IIR filter parameters\n",
      "---------------------\n",
      "Butterworth bandpass zero-phase (two-pass forward and reverse) non-causal filter:\n",
      "- Filter order 20 (effective, after forward-backward)\n",
      "- Cutoffs at 1.00, 30.00 Hz: -6.02, -6.02 dB\n",
      "\n",
      "EEG channel type selected for re-referencing\n",
      "Applying average reference.\n",
      "Applying a custom ('EEG',) reference.\n",
      "Used Annotations descriptions: ['OVTK_GDF_Cross_On_Screen', 'OVTK_GDF_End_Of_Session', 'OVTK_GDF_End_Of_Trial', 'OVTK_GDF_Feedback_Continuous', 'OVTK_GDF_Incorrect', 'OVTK_GDF_Left', 'OVTK_GDF_Right', 'OVTK_GDF_Start_Of_Trial', 'OVTK_GDF_Tongue', 'OVTK_GDF_Up', 'OVTK_StimulationId_BaselineStart', 'OVTK_StimulationId_BaselineStop', 'OVTK_StimulationId_Beep', 'OVTK_StimulationId_ExperimentStart', 'OVTK_StimulationId_Train']\n",
      "Multiple event values for single event times found. Keeping the first occurrence and dropping all others.\n",
      "Not setting metadata\n",
      "612 matching events found\n",
      "Setting baseline interval to [-2.0, 0.0] s\n",
      "Applying baseline correction (mode: mean)\n",
      "0 projection items activated\n",
      "Using data from preloaded Raw for 612 events and 1501 original time points ...\n",
      "2 bad epochs dropped\n"
     ]
    }
   ],
   "source": [
    "import mne\n",
    "import matplotlib.pyplot as plt\n",
    "from mne.channels import make_standard_montage\n",
    "from mne_realtime import LSLClient, MockLSLStream, RtEpochs\n",
    "import numpy as np\n",
    "import pywt\n",
    "import pickle\n",
    "\n",
    "raw_each = [0] * 6\n",
    "\n",
    "for i in range(0,6):\n",
    "    raw_each[i] = mne.io.read_raw_edf(\"C:\\git\\Senior_Thesis\\DataSet\\Convert_data\\hand\"+ str(i) +\"_new.edf\",preload = True)\n",
    "\n",
    "# raw_edf = mne.concatenate_raws(raw_each)\n",
    "raw_edf = mne.concatenate_raws([raw_each[4]])\n",
    "# raw_edf = mne.io.read_raw_edf(\"C:\\git\\Senior_Thesis\\DataSet\\Convert_data\\MI_execution.edf\", preload=True)\n",
    "\n",
    "eeg1 = raw_edf.copy().filter(l_freq=1.0, h_freq=30.0, method = 'iir', iir_params= {\"order\": 5, \"ftype\":'butter'})\n",
    "# eeg1 = raw_edf.copy().filter(l_freq=0.075, h_freq=3.0, method = 'fir')\n",
    "eeg1 = eeg1.copy().set_eeg_reference(ref_channels=\"average\")\n",
    "\n",
    "eeg1= eeg1.pick([\"Fz\",\"C3\", \"Cz\", \"C4\",\"Pz\",'PO7','PO8'])\n",
    "# eeg1= eeg1.pick_channels([\"C3\", \"Cz\", \"C4\"])\n",
    "events, event_dict = mne.events_from_annotations(eeg1)\n",
    "combine_epochs = mne.Epochs(eeg1, events, \n",
    "        tmin=-2.0,     # init timestamp of epoch (0 means trigger timestamp same as event start)\n",
    "        tmax=4.0,    # final timestamp (10 means set epoch duration 10 second)\n",
    "        event_id=event_dict,\n",
    "        preload = True,\n",
    "        event_repeated='drop'\n",
    "    )\n",
    "\n",
    "combine_epochs = combine_epochs.copy().crop(tmin=0.1, tmax=2.1)"
   ]
  },
  {
   "cell_type": "code",
   "execution_count": 431,
   "metadata": {},
   "outputs": [
    {
     "data": {
      "text/plain": [
       "{'OVTK_GDF_Cross_On_Screen': 1,\n",
       " 'OVTK_GDF_End_Of_Session': 2,\n",
       " 'OVTK_GDF_End_Of_Trial': 3,\n",
       " 'OVTK_GDF_Feedback_Continuous': 4,\n",
       " 'OVTK_GDF_Incorrect': 5,\n",
       " 'OVTK_GDF_Left': 6,\n",
       " 'OVTK_GDF_Right': 7,\n",
       " 'OVTK_GDF_Start_Of_Trial': 8,\n",
       " 'OVTK_GDF_Tongue': 9,\n",
       " 'OVTK_GDF_Up': 10,\n",
       " 'OVTK_StimulationId_BaselineStart': 11,\n",
       " 'OVTK_StimulationId_Beep': 13,\n",
       " 'OVTK_StimulationId_ExperimentStart': 14,\n",
       " 'OVTK_StimulationId_Train': 15}"
      ]
     },
     "execution_count": 431,
     "metadata": {},
     "output_type": "execute_result"
    }
   ],
   "source": [
    "combine_epochs.event_id"
   ]
  },
  {
   "cell_type": "code",
   "execution_count": 432,
   "metadata": {},
   "outputs": [
    {
     "data": {
      "text/html": [
       "<table class=\"table table-hover table-striped table-sm table-responsive small\">\n",
       "    <tr>\n",
       "        <th>Number of events</th>\n",
       "        <td>610</td>\n",
       "    </tr>\n",
       "    <tr>\n",
       "        <th>Events</th>\n",
       "        \n",
       "        <td>OVTK_GDF_Cross_On_Screen: 7<br/>OVTK_GDF_End_Of_Session: 1<br/>OVTK_GDF_End_Of_Trial: 120<br/>OVTK_GDF_Feedback_Continuous: 120<br/>OVTK_GDF_Incorrect: 1<br/>OVTK_GDF_Left: 30<br/>OVTK_GDF_Right: 30<br/>OVTK_GDF_Start_Of_Trial: 120<br/>OVTK_GDF_Tongue: 30<br/>OVTK_GDF_Up: 30<br/>OVTK_StimulationId_BaselineStart: 1<br/>OVTK_StimulationId_Beep: 120<br/>OVTK_StimulationId_ExperimentStart: 0<br/>OVTK_StimulationId_Train: 0</td>\n",
       "        \n",
       "    </tr>\n",
       "    <tr>\n",
       "        <th>Time range</th>\n",
       "        <td>0.100 – 2.100 s</td>\n",
       "    </tr>\n",
       "    <tr>\n",
       "        <th>Baseline</th>\n",
       "        <td>-2.000 – 0.000 s</td>\n",
       "    </tr>\n",
       "</table>"
      ],
      "text/plain": [
       "<Epochs |  610 events (all good), 0.1 – 2.1 s, baseline -2 – 0 s (baseline period was cropped after baseline correction), ~16.3 MB, data loaded,\n",
       " 'OVTK_GDF_Cross_On_Screen': 7\n",
       " 'OVTK_GDF_End_Of_Session': 1\n",
       " 'OVTK_GDF_End_Of_Trial': 120\n",
       " 'OVTK_GDF_Feedback_Continuous': 120\n",
       " 'OVTK_GDF_Incorrect': 1\n",
       " 'OVTK_GDF_Left': 30\n",
       " 'OVTK_GDF_Right': 30\n",
       " 'OVTK_GDF_Start_Of_Trial': 120\n",
       " 'OVTK_GDF_Tongue': 30\n",
       " 'OVTK_GDF_Up': 30\n",
       " and 4 more events ...>"
      ]
     },
     "execution_count": 432,
     "metadata": {},
     "output_type": "execute_result"
    }
   ],
   "source": [
    "combine_epochs"
   ]
  },
  {
   "cell_type": "code",
   "execution_count": 433,
   "metadata": {},
   "outputs": [],
   "source": [
    "# Prepare Labels and Train data\n",
    "labels = combine_epochs['OVTK_GDF_Left','OVTK_GDF_Right','OVTK_GDF_Up','OVTK_GDF_Tongue'].events[:,2]\n",
    "for i in range(0,len(labels)):\n",
    "    if labels[i] > 7:\n",
    "        labels[i] = labels[i] - 1\n",
    "    # if labels[i] < 7:\n",
    "    #     labels[i] = labels[i] + 1\n",
    "    \n",
    "train_data = combine_epochs['OVTK_GDF_Left','OVTK_GDF_Right','OVTK_GDF_Up','OVTK_GDF_Tongue'].get_data()\n",
    "# train_data = combine_epochs['OVTK_GDF_Start_Of_Trial'].get_data()"
   ]
  },
  {
   "cell_type": "markdown",
   "metadata": {},
   "source": [
    "Load CSP Weight"
   ]
  },
  {
   "cell_type": "code",
   "execution_count": 434,
   "metadata": {},
   "outputs": [],
   "source": [
    "component_num = 7\n",
    "\n",
    "with open('trained_csp_hand3_model.pkl', 'rb') as file:\n",
    "    trained_csp = pickle.load(file)\n",
    "\n",
    "new_data = trained_csp.transform(train_data)"
   ]
  },
  {
   "cell_type": "code",
   "execution_count": 435,
   "metadata": {},
   "outputs": [
    {
     "data": {
      "text/plain": [
       "(120, 7, 501)"
      ]
     },
     "execution_count": 435,
     "metadata": {},
     "output_type": "execute_result"
    }
   ],
   "source": [
    "new_data.shape"
   ]
  },
  {
   "cell_type": "markdown",
   "metadata": {},
   "source": [
    "CWT Transformation"
   ]
  },
  {
   "cell_type": "code",
   "execution_count": 436,
   "metadata": {},
   "outputs": [
    {
     "name": "stdout",
     "output_type": "stream",
     "text": [
      "(120, 7, 501)\n",
      "0\n"
     ]
    },
    {
     "name": "stdout",
     "output_type": "stream",
     "text": [
      "40\n",
      "80\n",
      "(120, 30, 501, 7)\n",
      "(120, 210, 501)\n"
     ]
    }
   ],
   "source": [
    "train_cwt = np.ndarray(shape=(new_data.shape[0], new_data.shape[2], component_num))\n",
    "for jj in range(0, new_data.shape[0]):\n",
    "    train_cwt[jj] = new_data[jj].T\n",
    "print(np.shape(new_data))\n",
    "\n",
    "scales = range(1,31)\n",
    "\n",
    "waveletname = 'morl'\n",
    "train_size = new_data.shape[0]\n",
    "train_data_cwt = np.ndarray(shape=(train_size, len(scales), new_data.shape[2], component_num))\n",
    "\n",
    "for ii in range(0,train_size):\n",
    "    if ii % 40 == 0:\n",
    "        print(ii)\n",
    "    for jj in range(0,component_num):\n",
    "        signal = train_cwt[ii, :, jj]\n",
    "        coeff, _ = pywt.cwt(signal, scales, waveletname, 1)\n",
    "        coeff_ = coeff[:,:new_data.shape[2]]  #crop 227 sample for each channel\n",
    "        train_data_cwt[ii, :, :, jj] = coeff_\n",
    "print(np.shape(train_data_cwt))\n",
    "\n",
    "train_cwt_stack = np.ndarray(shape=(train_size, len(scales)*component_num, new_data.shape[2]))\n",
    "\n",
    "for jj in range(0,train_data_cwt.shape[0]):\n",
    "    train_cwt_stack[jj] = np.vstack((train_data_cwt[jj,:,:,0], train_data_cwt[jj,:,:,1], train_data_cwt[jj,:,:,2], train_data_cwt[jj,:,:,3], train_data_cwt[jj,:,:,4], train_data_cwt[jj,:,:,5], train_data_cwt[jj,:,:,6]))\n",
    "\n",
    "print(np.shape(train_cwt_stack))"
   ]
  },
  {
   "cell_type": "markdown",
   "metadata": {},
   "source": [
    "Classification with trained model"
   ]
  },
  {
   "cell_type": "code",
   "execution_count": 437,
   "metadata": {},
   "outputs": [
    {
     "name": "stdout",
     "output_type": "stream",
     "text": [
      "4/4 [==============================] - 2s 436ms/step\n"
     ]
    }
   ],
   "source": [
    "import keras\n",
    "from keras.models import load_model\n",
    "from sklearn.metrics import confusion_matrix\n",
    "import seaborn as sns\n",
    "pretrained_model = load_model(\"CNN_model_weights.h5\")\n",
    "num_classes = 4\n",
    "\n",
    "y_pred_raw = pretrained_model.predict(train_cwt_stack)\n",
    "np.set_printoptions(formatter={'float_kind':'{:f}'.format})\n",
    "y_pred = np.argmax(y_pred_raw, axis=1) "
   ]
  },
  {
   "cell_type": "code",
   "execution_count": 438,
   "metadata": {},
   "outputs": [
    {
     "name": "stdout",
     "output_type": "stream",
     "text": [
      "4/4 [==============================] - 2s 422ms/step - loss: 1.6639 - accuracy: 0.4500\n"
     ]
    },
    {
     "data": {
      "image/png": "[encoded data removed]",
      "text/plain": [
       "<Figure size 640x480 with 2 Axes>"
      ]
     },
     "metadata": {},
     "output_type": "display_data"
    }
   ],
   "source": [
    "y_test = keras.utils.to_categorical(labels -6 , num_classes)\n",
    "y_true = np.argmax(y_test, axis=1)\n",
    "confusion_mat = confusion_matrix(y_true, y_pred)\n",
    "loss, accuracy = pretrained_model.evaluate(train_cwt_stack, y_test)\n",
    "\n",
    "class_names = ['Left hand', 'Right hand',  'Non-imagine', 'Feet']\n",
    "\n",
    "sns.heatmap(confusion_mat, \n",
    "            annot=True,\n",
    "            fmt='d', \n",
    "            cmap=\"Blues\",\n",
    "            xticklabels=class_names,\n",
    "            yticklabels=class_names)\n",
    "plt.ylabel('Prediction',fontsize=13)\n",
    "plt.xlabel('Actual',fontsize=13)\n",
    "plt.title(\"Confusion Matrix: Accuracy = \"+ str(round(accuracy,3)))\n",
    "plt.show()"
   ]
  },
  {
   "cell_type": "code",
   "execution_count": 439,
   "metadata": {},
   "outputs": [
    {
     "data": {
      "text/plain": [
       "array([[0.181660, 0.020427, 0.741170, 0.056743],\n",
       "       [0.042254, 0.047822, 0.865070, 0.044854],\n",
       "       [0.359580, 0.436598, 0.130333, 0.073489],\n",
       "       [0.367095, 0.011330, 0.391331, 0.230243],\n",
       "       [0.039667, 0.052786, 0.055465, 0.852082],\n",
       "       [0.005350, 0.077005, 0.228460, 0.689185],\n",
       "       [0.336141, 0.336440, 0.271338, 0.056081],\n",
       "       [0.092400, 0.243686, 0.078304, 0.585610],\n",
       "       [0.108706, 0.012949, 0.776341, 0.102004],\n",
       "       [0.036438, 0.039879, 0.369651, 0.554033],\n",
       "       [0.097411, 0.815284, 0.070683, 0.016622],\n",
       "       [0.326902, 0.050799, 0.211581, 0.410718],\n",
       "       [0.077693, 0.012994, 0.317793, 0.591520],\n",
       "       [0.005985, 0.014322, 0.282376, 0.697317],\n",
       "       [0.681202, 0.057516, 0.253185, 0.008097],\n",
       "       [0.249095, 0.185058, 0.374984, 0.190863],\n",
       "       [0.104463, 0.373274, 0.272259, 0.250003],\n",
       "       [0.028376, 0.006605, 0.407188, 0.557830],\n",
       "       [0.644238, 0.033479, 0.234922, 0.087361],\n",
       "       [0.862107, 0.013688, 0.019170, 0.105035],\n",
       "       [0.636036, 0.029322, 0.325684, 0.008958],\n",
       "       [0.004733, 0.005353, 0.745859, 0.244055],\n",
       "       [0.327221, 0.063568, 0.278442, 0.330768],\n",
       "       [0.940443, 0.006070, 0.025789, 0.027699],\n",
       "       [0.209486, 0.099935, 0.602990, 0.087589],\n",
       "       [0.479428, 0.000000, 0.520572, 0.000000],\n",
       "       [0.917066, 0.047148, 0.027457, 0.008329],\n",
       "       [0.000074, 0.000005, 0.999921, 0.000001],\n",
       "       [0.171341, 0.158832, 0.268453, 0.401375],\n",
       "       [0.028674, 0.006070, 0.931753, 0.033504],\n",
       "       [0.038649, 0.024065, 0.740459, 0.196826],\n",
       "       [0.430753, 0.149382, 0.411127, 0.008739],\n",
       "       [0.011747, 0.012617, 0.526713, 0.448924],\n",
       "       [0.080500, 0.036236, 0.786013, 0.097251],\n",
       "       [0.270377, 0.160826, 0.509818, 0.058979],\n",
       "       [0.523447, 0.025500, 0.441010, 0.010044],\n",
       "       [0.092292, 0.019932, 0.792645, 0.095131],\n",
       "       [0.130607, 0.018277, 0.775544, 0.075572],\n",
       "       [0.149938, 0.129568, 0.306139, 0.414355],\n",
       "       [0.102753, 0.007837, 0.169945, 0.719465],\n",
       "       [0.472723, 0.085771, 0.215109, 0.226396],\n",
       "       [0.006365, 0.018690, 0.073354, 0.901591],\n",
       "       [0.031931, 0.203041, 0.470964, 0.294064],\n",
       "       [0.062555, 0.002942, 0.768249, 0.166254],\n",
       "       [0.018279, 0.030760, 0.573374, 0.377587],\n",
       "       [0.016590, 0.172791, 0.036068, 0.774551],\n",
       "       [0.415129, 0.126214, 0.369749, 0.088908],\n",
       "       [0.232085, 0.047787, 0.414995, 0.305133],\n",
       "       [0.063552, 0.092221, 0.628448, 0.215779],\n",
       "       [0.061536, 0.024595, 0.086565, 0.827303],\n",
       "       [0.254420, 0.350989, 0.282209, 0.112382],\n",
       "       [0.201036, 0.132501, 0.605193, 0.061270],\n",
       "       [0.022665, 0.004537, 0.729697, 0.243101],\n",
       "       [0.010203, 0.761809, 0.212084, 0.015904],\n",
       "       [0.072751, 0.328811, 0.567574, 0.030864],\n",
       "       [0.649358, 0.068276, 0.230409, 0.051957],\n",
       "       [0.155585, 0.234440, 0.407840, 0.202136],\n",
       "       [0.100667, 0.240530, 0.554286, 0.104517],\n",
       "       [0.149909, 0.081632, 0.716386, 0.052073],\n",
       "       [0.287311, 0.445291, 0.186708, 0.080690],\n",
       "       [0.107545, 0.029718, 0.839386, 0.023351],\n",
       "       [0.114204, 0.344279, 0.440594, 0.100923],\n",
       "       [0.813922, 0.021362, 0.137141, 0.027576],\n",
       "       [0.726843, 0.037406, 0.055416, 0.180335],\n",
       "       [0.006177, 0.011161, 0.872413, 0.110248],\n",
       "       [0.252376, 0.025489, 0.592096, 0.130039],\n",
       "       [0.750106, 0.061704, 0.073701, 0.114489],\n",
       "       [0.379777, 0.210668, 0.167306, 0.242249],\n",
       "       [0.169319, 0.038176, 0.720853, 0.071651],\n",
       "       [0.045527, 0.024024, 0.781892, 0.148557],\n",
       "       [0.126851, 0.397534, 0.415591, 0.060024],\n",
       "       [0.438152, 0.110240, 0.102435, 0.349174],\n",
       "       [0.030129, 0.079420, 0.760444, 0.130007],\n",
       "       [0.027806, 0.406922, 0.451092, 0.114180],\n",
       "       [0.066687, 0.014621, 0.836307, 0.082385],\n",
       "       [0.247614, 0.020170, 0.639024, 0.093192],\n",
       "       [0.001166, 0.023669, 0.751548, 0.223617],\n",
       "       [0.175736, 0.487011, 0.191158, 0.146095],\n",
       "       [0.044641, 0.032080, 0.790020, 0.133258],\n",
       "       [0.014913, 0.026934, 0.906909, 0.051243],\n",
       "       [0.113673, 0.043746, 0.310999, 0.531582],\n",
       "       [0.072846, 0.058690, 0.786237, 0.082227],\n",
       "       [0.008386, 0.619429, 0.328745, 0.043440],\n",
       "       [0.593140, 0.014885, 0.263189, 0.128786],\n",
       "       [0.426880, 0.161407, 0.282141, 0.129573],\n",
       "       [0.065716, 0.002853, 0.746954, 0.184478],\n",
       "       [0.470790, 0.244266, 0.114059, 0.170885],\n",
       "       [0.216401, 0.202279, 0.272294, 0.309025],\n",
       "       [0.661866, 0.041106, 0.134046, 0.162982],\n",
       "       [0.018732, 0.064495, 0.881904, 0.034870],\n",
       "       [0.314617, 0.012019, 0.576102, 0.097262],\n",
       "       [0.052349, 0.002906, 0.897788, 0.046957],\n",
       "       [0.445370, 0.182679, 0.314001, 0.057951],\n",
       "       [0.111043, 0.020631, 0.183962, 0.684363],\n",
       "       [0.300188, 0.118084, 0.312620, 0.269108],\n",
       "       [0.152914, 0.018874, 0.365849, 0.462363],\n",
       "       [0.025670, 0.339072, 0.562715, 0.072543],\n",
       "       [0.141776, 0.037167, 0.198250, 0.622807],\n",
       "       [0.056890, 0.740079, 0.131146, 0.071885],\n",
       "       [0.290678, 0.200250, 0.243628, 0.265445],\n",
       "       [0.708726, 0.092556, 0.187183, 0.011535],\n",
       "       [0.161277, 0.027901, 0.380819, 0.430003],\n",
       "       [0.097107, 0.580007, 0.193348, 0.129538],\n",
       "       [0.237202, 0.016615, 0.712698, 0.033486],\n",
       "       [0.345097, 0.036591, 0.553842, 0.064470],\n",
       "       [0.230338, 0.058616, 0.579809, 0.131237],\n",
       "       [0.265178, 0.319012, 0.406373, 0.009437],\n",
       "       [0.205582, 0.023468, 0.436168, 0.334782],\n",
       "       [0.082718, 0.202984, 0.700806, 0.013493],\n",
       "       [0.194258, 0.022153, 0.276550, 0.507039],\n",
       "       [0.193218, 0.438810, 0.197943, 0.170030],\n",
       "       [0.608058, 0.095260, 0.205581, 0.091101],\n",
       "       [0.030400, 0.008303, 0.832170, 0.129127],\n",
       "       [0.132043, 0.036849, 0.573481, 0.257628],\n",
       "       [0.137297, 0.126946, 0.662995, 0.072762],\n",
       "       [0.132856, 0.088956, 0.747887, 0.030301],\n",
       "       [0.083710, 0.072088, 0.820558, 0.023643],\n",
       "       [0.281631, 0.083717, 0.549788, 0.084864],\n",
       "       [0.020032, 0.037337, 0.216754, 0.725876],\n",
       "       [0.665689, 0.109355, 0.179820, 0.045136]], dtype=float32)"
      ]
     },
     "execution_count": 439,
     "metadata": {},
     "output_type": "execute_result"
    }
   ],
   "source": [
    "y_pred_raw"
   ]
  },
  {
   "cell_type": "markdown",
   "metadata": {},
   "source": [
    "Note of y_pred classes :\n",
    "    0 = Left,\n",
    "    1 = Right,\n",
    "    2 = Non-imagine,\n",
    "    3 = Feet "
   ]
  },
  {
   "cell_type": "code",
   "execution_count": 440,
   "metadata": {},
   "outputs": [
    {
     "data": {
      "text/plain": [
       "array([2, 2, 1, 2, 3, 3, 1, 3, 2, 3, 1, 3, 3, 3, 0, 2, 1, 3, 0, 0, 0, 2,\n",
       "       3, 0, 2, 2, 0, 2, 3, 2, 2, 0, 2, 2, 2, 0, 2, 2, 3, 3, 0, 3, 2, 2,\n",
       "       2, 3, 0, 2, 2, 3, 1, 2, 2, 1, 2, 0, 2, 2, 2, 1, 2, 2, 0, 0, 2, 2,\n",
       "       0, 0, 2, 2, 2, 0, 2, 2, 2, 2, 2, 1, 2, 2, 3, 2, 1, 0, 0, 2, 0, 3,\n",
       "       0, 2, 2, 2, 0, 3, 2, 3, 2, 3, 1, 0, 0, 3, 1, 2, 2, 2, 2, 2, 2, 3,\n",
       "       1, 0, 2, 2, 2, 2, 2, 2, 3, 0], dtype=int64)"
      ]
     },
     "execution_count": 440,
     "metadata": {},
     "output_type": "execute_result"
    }
   ],
   "source": [
    "y_pred"
   ]
  },
  {
   "cell_type": "code",
   "execution_count": 441,
   "metadata": {},
   "outputs": [
    {
     "data": {
      "text/html": [
       "<table class=\"table table-hover table-striped table-sm table-responsive small\">\n",
       "    <tr>\n",
       "        <th>Number of events</th>\n",
       "        <td>610</td>\n",
       "    </tr>\n",
       "    <tr>\n",
       "        <th>Events</th>\n",
       "        \n",
       "        <td>OVTK_GDF_Cross_On_Screen: 7<br/>OVTK_GDF_End_Of_Session: 1<br/>OVTK_GDF_End_Of_Trial: 120<br/>OVTK_GDF_Feedback_Continuous: 120<br/>OVTK_GDF_Incorrect: 1<br/>OVTK_GDF_Left: 30<br/>OVTK_GDF_Right: 30<br/>OVTK_GDF_Start_Of_Trial: 120<br/>OVTK_GDF_Tongue: 30<br/>OVTK_GDF_Up: 30<br/>OVTK_StimulationId_BaselineStart: 1<br/>OVTK_StimulationId_Beep: 120<br/>OVTK_StimulationId_ExperimentStart: 0<br/>OVTK_StimulationId_Train: 0</td>\n",
       "        \n",
       "    </tr>\n",
       "    <tr>\n",
       "        <th>Time range</th>\n",
       "        <td>0.100 – 2.100 s</td>\n",
       "    </tr>\n",
       "    <tr>\n",
       "        <th>Baseline</th>\n",
       "        <td>-2.000 – 0.000 s</td>\n",
       "    </tr>\n",
       "</table>"
      ],
      "text/plain": [
       "<Epochs |  610 events (all good), 0.1 – 2.1 s, baseline -2 – 0 s (baseline period was cropped after baseline correction), ~16.3 MB, data loaded,\n",
       " 'OVTK_GDF_Cross_On_Screen': 7\n",
       " 'OVTK_GDF_End_Of_Session': 1\n",
       " 'OVTK_GDF_End_Of_Trial': 120\n",
       " 'OVTK_GDF_Feedback_Continuous': 120\n",
       " 'OVTK_GDF_Incorrect': 1\n",
       " 'OVTK_GDF_Left': 30\n",
       " 'OVTK_GDF_Right': 30\n",
       " 'OVTK_GDF_Start_Of_Trial': 120\n",
       " 'OVTK_GDF_Tongue': 30\n",
       " 'OVTK_GDF_Up': 30\n",
       " and 4 more events ...>"
      ]
     },
     "execution_count": 441,
     "metadata": {},
     "output_type": "execute_result"
    }
   ],
   "source": [
    "combine_epochs"
   ]
  },
  {
   "cell_type": "code",
   "execution_count": 442,
   "metadata": {},
   "outputs": [
    {
     "name": "stdout",
     "output_type": "stream",
     "text": [
      "non-imagine TRUE:  50.0\n"
     ]
    }
   ],
   "source": [
    "result_array = y_pred[y_pred == 2]\n",
    "print('non-imagine TRUE: ', len(result_array) / 120 * 100)"
   ]
  }
 ],
 "metadata": {
  "kernelspec": {
   "display_name": "Python 3",
   "language": "python",
   "name": "python3"
  },
  "language_info": {
   "codemirror_mode": {
    "name": "ipython",
    "version": 3
   },
   "file_extension": ".py",
   "mimetype": "text/x-python",
   "name": "python",
   "nbconvert_exporter": "python",
   "pygments_lexer": "ipython3",
   "version": "3.11.0"
  }
 },
 "nbformat": 4,
 "nbformat_minor": 2
}
