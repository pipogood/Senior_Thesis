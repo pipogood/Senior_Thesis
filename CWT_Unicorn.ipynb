{
 "cells": [
  {
   "cell_type": "markdown",
   "metadata": {},
   "source": [
    "# CWT & STFT + CNN Model with BCI_competitionIII dataset"
   ]
  },
  {
   "cell_type": "code",
   "execution_count": 2568,
   "metadata": {},
   "outputs": [
    {
     "name": "stdout",
     "output_type": "stream",
     "text": [
      "Extracting EDF parameters from C:\\git\\Senior_Thesis\\DataSet\\Convert_data\\hand0_new.edf...\n",
      "EDF file detected\n",
      "Setting channel info structure...\n",
      "Creating raw.info structure...\n",
      "Reading 0 ... 279249  =      0.000 ...  1116.996 secs...\n",
      "Extracting EDF parameters from C:\\git\\Senior_Thesis\\DataSet\\Convert_data\\hand1_new.edf...\n",
      "EDF file detected\n",
      "Setting channel info structure...\n",
      "Creating raw.info structure...\n",
      "Reading 0 ... 279249  =      0.000 ...  1116.996 secs...\n",
      "Extracting EDF parameters from C:\\git\\Senior_Thesis\\DataSet\\Convert_data\\hand2_new.edf...\n",
      "EDF file detected\n",
      "Setting channel info structure...\n",
      "Creating raw.info structure...\n",
      "Reading 0 ... 279249  =      0.000 ...  1116.996 secs...\n",
      "Extracting EDF parameters from C:\\git\\Senior_Thesis\\DataSet\\Convert_data\\hand3_new.edf...\n",
      "EDF file detected\n",
      "Setting channel info structure...\n",
      "Creating raw.info structure...\n",
      "Reading 0 ... 279249  =      0.000 ...  1116.996 secs...\n",
      "Extracting EDF parameters from C:\\git\\Senior_Thesis\\DataSet\\Convert_data\\hand4_new.edf...\n",
      "EDF file detected\n",
      "Setting channel info structure...\n",
      "Creating raw.info structure...\n",
      "Reading 0 ... 279249  =      0.000 ...  1116.996 secs...\n"
     ]
    },
    {
     "data": {
      "text/html": [
       "<table class=\"table table-hover table-striped table-sm table-responsive small\">\n",
       "    <tr>\n",
       "        <th>Measurement date</th>\n",
       "        \n",
       "        <td>October 01, 2023  21:40:45 GMT</td>\n",
       "        \n",
       "    </tr>\n",
       "    <tr>\n",
       "        <th>Experimenter</th>\n",
       "        \n",
       "        <td>Unknown</td>\n",
       "        \n",
       "    </tr>\n",
       "        <th>Participant</th>\n",
       "        \n",
       "        <td>Unknown</td>\n",
       "        \n",
       "    </tr>\n",
       "    <tr>\n",
       "        <th>Digitized points</th>\n",
       "        \n",
       "        <td>11 points</td>\n",
       "        \n",
       "    </tr>\n",
       "    <tr>\n",
       "        <th>Good channels</th>\n",
       "        <td>8 EEG</td>\n",
       "    </tr>\n",
       "    <tr>\n",
       "        <th>Bad channels</th>\n",
       "        <td>None</td>\n",
       "    </tr>\n",
       "    <tr>\n",
       "        <th>EOG channels</th>\n",
       "        <td>Not available</td>\n",
       "    </tr>\n",
       "    <tr>\n",
       "        <th>ECG channels</th>\n",
       "        <td>Not available</td>\n",
       "    \n",
       "    <tr>\n",
       "        <th>Sampling frequency</th>\n",
       "        <td>250.00 Hz</td>\n",
       "    </tr>\n",
       "    \n",
       "    \n",
       "    <tr>\n",
       "        <th>Highpass</th>\n",
       "        <td>0.00 Hz</td>\n",
       "    </tr>\n",
       "    \n",
       "    \n",
       "    <tr>\n",
       "        <th>Lowpass</th>\n",
       "        <td>125.00 Hz</td>\n",
       "    </tr>\n",
       "    \n",
       "    \n",
       "    \n",
       "    <tr>\n",
       "        <th>Filenames</th>\n",
       "        <td>hand4_new.edf</td>\n",
       "    </tr>\n",
       "    \n",
       "    <tr>\n",
       "        <th>Duration</th>\n",
       "        <td>00:18:37 (HH:MM:SS)</td>\n",
       "    </tr>\n",
       "</table>"
      ],
      "text/plain": [
       "<RawEDF | hand4_new.edf, 8 x 279250 (1117.0 s), ~17.1 MB, data loaded>"
      ]
     },
     "execution_count": 2568,
     "metadata": {},
     "output_type": "execute_result"
    }
   ],
   "source": [
    "import mne\n",
    "import numpy as np\n",
    "from mne.datasets import eegbci\n",
    "import matplotlib.pyplot as plt\n",
    "from mne.channels import make_standard_montage\n",
    "\n",
    "raw_each = [0] * 5\n",
    "\n",
    "for i in range(0,5):\n",
    "    raw_each[i] = mne.io.read_raw_edf(\"C:\\git\\Senior_Thesis\\DataSet\\Convert_data\\hand\"+ str(i) +\"_new.edf\",preload = True)\n",
    "\n",
    "# raw_edf = mne.concatenate_raws(raw_each)\n",
    "raw_edf = mne.concatenate_raws([raw_each[4]])\n",
    "# raw_edf = raw_edf.copy().resample(62.5 ,npad=\"auto\")\n",
    "\n",
    "eegbci.standardize(raw_edf)  # set channel names\n",
    "montage = make_standard_montage(\"standard_1005\")\n",
    "raw_edf.set_montage(montage)"
   ]
  },
  {
   "cell_type": "code",
   "execution_count": 2569,
   "metadata": {},
   "outputs": [],
   "source": [
    "import numpy as np\n",
    "import tensorflow as tf\n",
    "import keras\n",
    "from keras.layers import Input, Conv2D, MaxPooling2D, Flatten, Dense, Lambda, BatchNormalization, Activation\n",
    "from keras.models import Sequential\n",
    "from keras.callbacks import History,ModelCheckpoint\n",
    "history = History()\n",
    "import pywt\n",
    "import matplotlib.pyplot as plt\n",
    "from sklearn.model_selection import train_test_split\n",
    "from mne.decoding import CSP\n",
    "from sklearn.pipeline import Pipeline\n",
    "from sklearn.discriminant_analysis import LinearDiscriminantAnalysis\n",
    "from sklearn.model_selection import ShuffleSplit,StratifiedKFold ,cross_val_score, cross_val_predict\n",
    "from ssqueezepy import ssq_cwt, ssq_stft\n",
    "import pickle"
   ]
  },
  {
   "cell_type": "code",
   "execution_count": 2570,
   "metadata": {},
   "outputs": [
    {
     "name": "stdout",
     "output_type": "stream",
     "text": [
      "Filtering raw data in 1 contiguous segment\n",
      "Setting up band-pass filter from 4 - 30 Hz\n",
      "\n",
      "IIR filter parameters\n",
      "---------------------\n",
      "Butterworth bandpass zero-phase (two-pass forward and reverse) non-causal filter:\n",
      "- Filter order 20 (effective, after forward-backward)\n",
      "- Cutoffs at 4.00, 30.00 Hz: -6.02, -6.02 dB\n",
      "\n",
      "EEG channel type selected for re-referencing\n",
      "Applying average reference.\n",
      "Applying a custom ('EEG',) reference.\n",
      "Used Annotations descriptions: ['OVTK_GDF_Cross_On_Screen', 'OVTK_GDF_End_Of_Session', 'OVTK_GDF_End_Of_Trial', 'OVTK_GDF_Feedback_Continuous', 'OVTK_GDF_Incorrect', 'OVTK_GDF_Left', 'OVTK_GDF_Right', 'OVTK_GDF_Start_Of_Trial', 'OVTK_GDF_Tongue', 'OVTK_GDF_Up', 'OVTK_StimulationId_BaselineStart', 'OVTK_StimulationId_BaselineStop', 'OVTK_StimulationId_Beep', 'OVTK_StimulationId_ExperimentStart', 'OVTK_StimulationId_Train']\n",
      "Multiple event values for single event times found. Keeping the first occurrence and dropping all others.\n",
      "Not setting metadata\n",
      "612 matching events found\n",
      "Setting baseline interval to [-5.0, 0.0] s\n",
      "Applying baseline correction (mode: mean)\n",
      "0 projection items activated\n",
      "Using data from preloaded Raw for 612 events and 2501 original time points ...\n",
      "2 bad epochs dropped\n"
     ]
    }
   ],
   "source": [
    "eeg1 = raw_edf.copy().filter(l_freq=4.0, h_freq=30.0, method = 'iir', iir_params= {\"order\": 5, \"ftype\":'butter'})\n",
    "# eeg1 = raw_edf.copy().filter(l_freq=0.075, h_freq=3.0, method = 'fir')\n",
    "eeg1 = eeg1.copy().set_eeg_reference(ref_channels=\"average\")\n",
    "\n",
    "eeg1= eeg1.pick([\"Fz\",\"C3\", \"Cz\", \"C4\",\"Pz\",'PO7','PO8'])\n",
    "# eeg1= eeg1.pick_channels([\"C3\", \"Cz\", \"C4\"])\n",
    "events, event_dict = mne.events_from_annotations(eeg1)\n",
    "combine_epochs = mne.Epochs(eeg1, events, \n",
    "        tmin=-5.0,     # init timestamp of epoch (0 means trigger timestamp same as event start)\n",
    "        tmax=5.0,    # final timestamp (10 means set epoch duration 10 second)\n",
    "        event_id=event_dict,\n",
    "        preload = True,\n",
    "        event_repeated='drop'\n",
    "    )\n",
    "\n",
    "combine_epochs = combine_epochs.copy().crop(tmin=0.0, tmax=2.0)"
   ]
  },
  {
   "cell_type": "code",
   "execution_count": 2571,
   "metadata": {},
   "outputs": [
    {
     "data": {
      "text/html": [
       "<table class=\"table table-hover table-striped table-sm table-responsive small\">\n",
       "    <tr>\n",
       "        <th>Number of events</th>\n",
       "        <td>610</td>\n",
       "    </tr>\n",
       "    <tr>\n",
       "        <th>Events</th>\n",
       "        \n",
       "        <td>OVTK_GDF_Cross_On_Screen: 7<br/>OVTK_GDF_End_Of_Session: 1<br/>OVTK_GDF_End_Of_Trial: 120<br/>OVTK_GDF_Feedback_Continuous: 120<br/>OVTK_GDF_Incorrect: 1<br/>OVTK_GDF_Left: 30<br/>OVTK_GDF_Right: 30<br/>OVTK_GDF_Start_Of_Trial: 120<br/>OVTK_GDF_Tongue: 30<br/>OVTK_GDF_Up: 30<br/>OVTK_StimulationId_BaselineStart: 1<br/>OVTK_StimulationId_Beep: 120<br/>OVTK_StimulationId_ExperimentStart: 0<br/>OVTK_StimulationId_Train: 0</td>\n",
       "        \n",
       "    </tr>\n",
       "    <tr>\n",
       "        <th>Time range</th>\n",
       "        <td>0.000 – 2.000 s</td>\n",
       "    </tr>\n",
       "    <tr>\n",
       "        <th>Baseline</th>\n",
       "        <td>-5.000 – 0.000 s</td>\n",
       "    </tr>\n",
       "</table>"
      ],
      "text/plain": [
       "<Epochs |  610 events (all good), 0 – 2 s, baseline -5 – 0 s (baseline period was cropped after baseline correction), ~16.3 MB, data loaded,\n",
       " 'OVTK_GDF_Cross_On_Screen': 7\n",
       " 'OVTK_GDF_End_Of_Session': 1\n",
       " 'OVTK_GDF_End_Of_Trial': 120\n",
       " 'OVTK_GDF_Feedback_Continuous': 120\n",
       " 'OVTK_GDF_Incorrect': 1\n",
       " 'OVTK_GDF_Left': 30\n",
       " 'OVTK_GDF_Right': 30\n",
       " 'OVTK_GDF_Start_Of_Trial': 120\n",
       " 'OVTK_GDF_Tongue': 30\n",
       " 'OVTK_GDF_Up': 30\n",
       " and 4 more events ...>"
      ]
     },
     "execution_count": 2571,
     "metadata": {},
     "output_type": "execute_result"
    }
   ],
   "source": [
    "combine_epochs"
   ]
  },
  {
   "cell_type": "code",
   "execution_count": 2572,
   "metadata": {},
   "outputs": [
    {
     "data": {
      "text/plain": [
       "array([ 9, 10,  7,  6, 10, 10,  7,  7,  9, 10,  7,  6,  9, 10,  7,  6,  7,\n",
       "       10,  6,  6,  6, 10,  9,  6,  9, 10,  7,  6,  9, 10,  9,  6,  9, 10,\n",
       "        7,  7,  9, 10,  6, 10,  9, 10,  9,  9,  9, 10,  7,  6,  9, 10,  7,\n",
       "        6,  9, 10,  7,  6,  9, 10,  7,  6,  9, 10,  9,  6,  9, 10,  6,  7,\n",
       "       10, 10,  7,  6,  9,  7,  7,  6, 10, 10,  7,  6,  9, 10,  7,  6,  9,\n",
       "       10,  7,  6,  6,  9,  7,  6,  9, 10,  7, 10,  9,  9,  7,  6,  9, 10,\n",
       "        7,  6, 10,  6,  7,  6,  7,  9,  7,  6,  9, 10,  7,  6,  7,  9,  7,\n",
       "        6])"
      ]
     },
     "execution_count": 2572,
     "metadata": {},
     "output_type": "execute_result"
    }
   ],
   "source": [
    "combine_epochs['OVTK_GDF_Left','OVTK_GDF_Right','OVTK_GDF_Up','OVTK_GDF_Tongue'].events[:,2]"
   ]
  },
  {
   "cell_type": "code",
   "execution_count": 2573,
   "metadata": {},
   "outputs": [],
   "source": [
    "# Prepare Labels and Train data\n",
    "labels = combine_epochs['OVTK_GDF_Left','OVTK_GDF_Right','OVTK_GDF_Up','OVTK_GDF_Tongue'].events[:,2]\n",
    "for i in range(0,len(labels)):\n",
    "    if labels[i] > 7:\n",
    "        labels[i] = labels[i] - 1\n",
    "    # if labels[i] < 7:\n",
    "    #     labels[i] = labels[i] + 1\n",
    "\n",
    "shape = np.shape(combine_epochs['OVTK_GDF_Left','OVTK_GDF_Right','OVTK_GDF_Up','OVTK_GDF_Tongue'].get_data())\n",
    "train_data = combine_epochs['OVTK_GDF_Left','OVTK_GDF_Right','OVTK_GDF_Up','OVTK_GDF_Tongue'].get_data()\n"
   ]
  },
  {
   "cell_type": "code",
   "execution_count": 2574,
   "metadata": {},
   "outputs": [
    {
     "data": {
      "text/plain": [
       "array([8, 9, 7, 6, 9, 9, 7, 7, 8, 9, 7, 6, 8, 9, 7, 6, 7, 9, 6, 6, 6, 9,\n",
       "       8, 6, 8, 9, 7, 6, 8, 9, 8, 6, 8, 9, 7, 7, 8, 9, 6, 9, 8, 9, 8, 8,\n",
       "       8, 9, 7, 6, 8, 9, 7, 6, 8, 9, 7, 6, 8, 9, 7, 6, 8, 9, 8, 6, 8, 9,\n",
       "       6, 7, 9, 9, 7, 6, 8, 7, 7, 6, 9, 9, 7, 6, 8, 9, 7, 6, 8, 9, 7, 6,\n",
       "       6, 8, 7, 6, 8, 9, 7, 9, 8, 8, 7, 6, 8, 9, 7, 6, 9, 6, 7, 6, 7, 8,\n",
       "       7, 6, 8, 9, 7, 6, 7, 8, 7, 6])"
      ]
     },
     "execution_count": 2574,
     "metadata": {},
     "output_type": "execute_result"
    }
   ],
   "source": [
    "labels"
   ]
  },
  {
   "cell_type": "markdown",
   "metadata": {},
   "source": [
    "Train with CSP+LDA"
   ]
  },
  {
   "cell_type": "code",
   "execution_count": 2575,
   "metadata": {},
   "outputs": [],
   "source": [
    "# lda = LinearDiscriminantAnalysis()\n",
    "# from sklearn.metrics import confusion_matrix\n",
    "# csp2 = CSP(n_components=7, reg='empirical', log=True, norm_trace=True, rank='full')\n",
    "# clf = Pipeline([(\"CSP\", csp2), (\"LDA\", lda)])\n",
    "# scores = cross_val_score(clf, train_data, labels, cv=10, n_jobs=None)\n",
    "# CSP_predicted = cross_val_predict(clf, train_data, labels, cv=10)\n",
    "\n",
    "# conf_matrix = confusion_matrix(labels, CSP_predicted)\n",
    "# print(conf_matrix)\n",
    "# print('Accuracy',np.mean(scores))\n",
    "\n",
    "# import seaborn as sns\n",
    "# class_names = ['Left hand', 'Right hand', 'Feet', 'Non-imagine']\n",
    "\n",
    "# sns.heatmap(conf_matrix, \n",
    "#             annot=True,\n",
    "#             fmt='g', \n",
    "#             xticklabels=class_names,\n",
    "#             yticklabels=class_names)\n",
    "# plt.ylabel('Prediction',fontsize=13)\n",
    "# plt.xlabel('Actual',fontsize=13)\n",
    "# plt.title('Confusion Matrix CSP+LDA',fontsize=17)\n",
    "# plt.show()"
   ]
  },
  {
   "cell_type": "markdown",
   "metadata": {},
   "source": [
    "# CSP -> CWT -> CNN"
   ]
  },
  {
   "cell_type": "markdown",
   "metadata": {},
   "source": [
    "train csp"
   ]
  },
  {
   "cell_type": "code",
   "execution_count": 2576,
   "metadata": {},
   "outputs": [],
   "source": [
    "# csp = CSP(n_components=7, reg=None, log=None, transform_into='csp_space')\n",
    "# csp.fit(train_data, labels)\n",
    "# new_data = csp.transform(train_data)\n",
    "\n",
    "# with open('trained_csp_model.pkl', 'wb') as file:\n",
    "#     pickle.dump(csp, file)\n"
   ]
  },
  {
   "cell_type": "markdown",
   "metadata": {},
   "source": [
    "load csp"
   ]
  },
  {
   "cell_type": "code",
   "execution_count": 2577,
   "metadata": {},
   "outputs": [],
   "source": [
    "with open('trained_csp_model.pkl', 'rb') as file:\n",
    "    trained_csp = pickle.load(file)\n",
    "\n",
    "new_data = trained_csp.transform(train_data)"
   ]
  },
  {
   "cell_type": "markdown",
   "metadata": {},
   "source": [
    "STFT"
   ]
  },
  {
   "cell_type": "code",
   "execution_count": 2578,
   "metadata": {},
   "outputs": [],
   "source": [
    "# from ssqueezepy import ssq_cwt, ssq_stft\n",
    "\n",
    "# n_fft = 256  # Number of DFT points\n",
    "# hop_length = int(n_fft * 0.03)  # 97% overlapping\n",
    "# win_length = int(n_fft * 0.5)   # 0.5 seconds window length\n",
    "# window = 'hamming' \n",
    "# train_size = len(labels)\n",
    "# train_data_stft = np.ndarray(shape=(train_size, 129,143,7))\n",
    "\n",
    "\n",
    "# _,coeff, *_ = ssq_stft(new_data[0,:], n_fft=n_fft, hop_len=hop_length, win_len=win_length, window=window)\n",
    "# for i in range(0,train_size):\n",
    "#     _,coeff, *_ = ssq_stft(new_data[0,:], n_fft=n_fft, hop_len=hop_length, win_len=win_length, window=window)\n",
    "#     train_data_stft[i, :, :, :] = abs(coeff.reshape(coeff.shape[1],coeff.shape[2],coeff.shape[0]))\n",
    "\n",
    "# np.shape(train_data_stft)"
   ]
  },
  {
   "cell_type": "code",
   "execution_count": 2579,
   "metadata": {},
   "outputs": [
    {
     "data": {
      "text/plain": [
       "(120, 7, 501)"
      ]
     },
     "execution_count": 2579,
     "metadata": {},
     "output_type": "execute_result"
    }
   ],
   "source": [
    "np.shape(new_data)"
   ]
  },
  {
   "cell_type": "markdown",
   "metadata": {},
   "source": [
    "CWT"
   ]
  },
  {
   "cell_type": "code",
   "execution_count": 2580,
   "metadata": {},
   "outputs": [
    {
     "name": "stdout",
     "output_type": "stream",
     "text": [
      "(120, 7, 501)\n",
      "0\n"
     ]
    },
    {
     "name": "stdout",
     "output_type": "stream",
     "text": [
      "40\n",
      "80\n",
      "(120, 27, 501, 7)\n"
     ]
    }
   ],
   "source": [
    "train_cwt = np.ndarray(shape=(new_data.shape[0], new_data.shape[2], 7))\n",
    "for jj in range(0, new_data.shape[0]):\n",
    "    train_cwt[jj] = new_data[jj].T\n",
    "print(np.shape(new_data))\n",
    "\n",
    "scales = range(4,31)\n",
    "\n",
    "waveletname = 'morl'\n",
    "train_size = len(labels)\n",
    "train_data_cwt = np.ndarray(shape=(train_size, len(scales), new_data.shape[2], 7))\n",
    "\n",
    "for ii in range(0,train_size):\n",
    "    if ii % 40 == 0:\n",
    "        print(ii)\n",
    "    for jj in range(0,7):\n",
    "        signal = train_cwt[ii, :, jj]\n",
    "        coeff, _ = pywt.cwt(signal, scales, waveletname, 1)\n",
    "        coeff_ = coeff[:,:new_data.shape[2]]  #crop 227 sample for each channel\n",
    "        train_data_cwt[ii, :, :, jj] = coeff_\n",
    "print(np.shape(train_data_cwt))"
   ]
  },
  {
   "cell_type": "code",
   "execution_count": 2581,
   "metadata": {},
   "outputs": [
    {
     "name": "stdout",
     "output_type": "stream",
     "text": [
      "(120, 189, 501)\n"
     ]
    }
   ],
   "source": [
    "# Stack array and convert to image\n",
    "from PIL import Image as im \n",
    "train_cwt_stack = np.ndarray(shape=(train_size, len(scales)*7, new_data.shape[2]))\n",
    "\n",
    "for jj in range(0,train_data_cwt.shape[0]):\n",
    "    train_cwt_stack[jj] = np.vstack((train_data_cwt[jj,:,:,0], train_data_cwt[jj,:,:,1], train_data_cwt[jj,:,:,2], train_data_cwt[jj,:,:,3], train_data_cwt[jj,:,:,4], train_data_cwt[jj,:,:,5], train_data_cwt[jj,:,:,6]))\n",
    "    # train_cwt_stack[jj] = im.fromarray(np.vstack((train_data_cwt[jj,:,:,0], train_data_cwt[jj,:,:,1], train_data_cwt[jj,:,:,2], train_data_cwt[jj,:,:,3], train_data_cwt[jj,:,:,4], train_data_cwt[jj,:,:,5], train_data_cwt[jj,:,:,6])), 'RGB')\n",
    "\n",
    "print(np.shape(train_cwt_stack))"
   ]
  },
  {
   "cell_type": "code",
   "execution_count": 2582,
   "metadata": {},
   "outputs": [],
   "source": [
    "# from sklearn import preprocessing\n",
    "# min_max_scaler = preprocessing.MinMaxScaler()\n",
    "# for ii in range (0,train_size):\n",
    "#     train_cwt_stack[ii] = min_max_scaler.fit_transform(train_cwt_stack[ii])"
   ]
  },
  {
   "cell_type": "code",
   "execution_count": 2583,
   "metadata": {},
   "outputs": [
    {
     "data": {
      "text/plain": [
       "(120, 189, 501)"
      ]
     },
     "execution_count": 2583,
     "metadata": {},
     "output_type": "execute_result"
    }
   ],
   "source": [
    "np.shape(train_cwt_stack)"
   ]
  },
  {
   "cell_type": "code",
   "execution_count": 2584,
   "metadata": {},
   "outputs": [
    {
     "data": {
      "text/plain": [
       "array([8, 9, 7, 6, 9, 9, 7, 7, 8, 9, 7, 6, 8, 9, 7, 6, 7, 9, 6, 6, 6, 9,\n",
       "       8, 6, 8, 9, 7, 6, 8, 9, 8, 6, 8, 9, 7, 7, 8, 9, 6, 9, 8, 9, 8, 8,\n",
       "       8, 9, 7, 6, 8, 9, 7, 6, 8, 9, 7, 6, 8, 9, 7, 6, 8, 9, 8, 6, 8, 9,\n",
       "       6, 7, 9, 9, 7, 6, 8, 7, 7, 6, 9, 9, 7, 6, 8, 9, 7, 6, 8, 9, 7, 6,\n",
       "       6, 8, 7, 6, 8, 9, 7, 9, 8, 8, 7, 6, 8, 9, 7, 6, 9, 6, 7, 6, 7, 8,\n",
       "       7, 6, 8, 9, 7, 6, 7, 8, 7, 6])"
      ]
     },
     "execution_count": 2584,
     "metadata": {},
     "output_type": "execute_result"
    }
   ],
   "source": [
    "labels"
   ]
  },
  {
   "cell_type": "code",
   "execution_count": 2585,
   "metadata": {},
   "outputs": [
    {
     "name": "stdout",
     "output_type": "stream",
     "text": [
      "(84, 189, 501) (36, 189, 501) (84,) (36,)\n"
     ]
    }
   ],
   "source": [
    "x_train, x_test, y_train, y_test = train_test_split(train_cwt_stack, labels, test_size=0.3, random_state=42)\n",
    "\n",
    "img_x = train_data_cwt.shape[1]\n",
    "img_y = train_data_cwt.shape[2]\n",
    "img_z = train_data_cwt.shape[3]\n",
    "num_classes = 4\n",
    "\n",
    "batch_size = 16\n",
    "epochs = 30\n",
    "print(np.shape(x_train), np.shape(x_test), np.shape(y_train), np.shape(y_test))\n",
    "\n",
    "# plt.imshow(x_train[0,:,:,1], aspect='auto', cmap='turbo')\n",
    "# plt.show()\n",
    "y_train = keras.utils.to_categorical(y_train - 6, num_classes)\n",
    "y_test = keras.utils.to_categorical(y_test -6 , num_classes)\n",
    "input_shape = (img_x, img_y, img_z)"
   ]
  },
  {
   "cell_type": "markdown",
   "metadata": {},
   "source": [
    "# Purposed CNN Model"
   ]
  },
  {
   "cell_type": "code",
   "execution_count": 2586,
   "metadata": {},
   "outputs": [],
   "source": [
    "# # Define the CNN model\n",
    "# model = Sequential()\n",
    "\n",
    "# # Convolutional Layer 1 with 32 filters of kernel size 3x3\n",
    "# model.add(Conv2D(32, (3, 3), input_shape=(train_cwt_stack.shape[1], train_cwt_stack.shape[2], 1), activation='relu'))\n",
    "\n",
    "# # Max-Pooling Layer 1 with pool size 2x2\n",
    "# model.add(MaxPooling2D(pool_size=(2, 2)))\n",
    "\n",
    "# # Convolutional Layer 2 with 64 filters of kernel size 3x3\n",
    "# model.add(Conv2D(64, (3, 3), activation='relu'))\n",
    "\n",
    "# # Max-Pooling Layer 2 with pool size 2x2\n",
    "# model.add(MaxPooling2D(pool_size=(2, 2)))\n",
    "\n",
    "# # Flatten the output from the previous layer\n",
    "# model.add(Flatten())\n",
    "\n",
    "# # Output Layer with the desired number of output nodes (adjust as needed)\n",
    "# model.add(Dense(num_classes, activation='softmax'))\n",
    "\n",
    "# model.compile(loss=keras.losses.categorical_crossentropy, \n",
    "#               optimizer=keras.optimizers.Adam(learning_rate= 0.0001), \n",
    "#               metrics=['accuracy'])\n",
    "\n",
    "# model.summary()\n",
    "\n",
    "# checkpoint = ModelCheckpoint(\"CNN_model_weights.h5\", monitor='val_accuracy', save_best_only=True, mode='max', verbose=1)\n",
    "\n",
    "# model.fit(x_train, y_train, batch_size=batch_size, \n",
    "#           epochs=epochs, verbose=1, \n",
    "#           validation_data=(x_test, y_test), \n",
    "#           callbacks=[history, checkpoint])\n"
   ]
  },
  {
   "cell_type": "code",
   "execution_count": 2587,
   "metadata": {},
   "outputs": [],
   "source": [
    "# fig, axarr = plt.subplots(figsize=(12,6), ncols=2)\n",
    "# axarr[0].plot(range(1, epochs+1), history.history['accuracy'], label='Train')\n",
    "# axarr[0].plot(range(1, epochs+1), history.history['val_accuracy'], label='Test')\n",
    "# axarr[0].set_xlabel('Number of Epochs', fontsize=18)\n",
    "# axarr[0].set_ylabel('Accuracy', fontsize=18)\n",
    "# axarr[0].set_ylim([0,1.1])\n",
    "# axarr[1].plot(range(1, epochs+1), history.history['loss'], label='Train')\n",
    "# axarr[1].plot(range(1, epochs+1), history.history['val_loss'], label='Test')\n",
    "# axarr[1].set_xlabel('Number of Epochs', fontsize=18)\n",
    "# axarr[1].set_ylabel('Loss', fontsize=18)\n",
    "# axarr[1].set_ylim([0,3.5])\n",
    "# plt.legend()\n",
    "# plt.show()"
   ]
  },
  {
   "cell_type": "code",
   "execution_count": 2588,
   "metadata": {},
   "outputs": [
    {
     "name": "stdout",
     "output_type": "stream",
     "text": [
      "4/4 [==============================] - 1s 220ms/step - loss: 1.1599 - accuracy: 0.6583\n",
      "4/4 [==============================] - 1s 222ms/step\n"
     ]
    },
    {
     "data": {
      "image/png": "[encoded data removed]",
      "text/plain": [
       "<Figure size 640x480 with 2 Axes>"
      ]
     },
     "metadata": {},
     "output_type": "display_data"
    }
   ],
   "source": [
    "from keras.models import load_model\n",
    "from sklearn.metrics import confusion_matrix\n",
    "import seaborn as sns\n",
    "pretrained_model = load_model(\"CNN_model_weights.h5\")\n",
    "\n",
    "y_test = keras.utils.to_categorical(labels -6 , num_classes)\n",
    "\n",
    "loss, accuracy = pretrained_model.evaluate(train_cwt_stack, y_test)\n",
    "\n",
    "y_pred = pretrained_model.predict(train_cwt_stack)\n",
    "y_pred = np.argmax(y_pred, axis=1) \n",
    "y_true = np.argmax(y_test, axis=1)\n",
    "\n",
    "confusion_mat = confusion_matrix(y_true, y_pred)\n",
    "\n",
    "class_names = ['Left hand', 'Right hand', 'Feet', 'Non-imagine']\n",
    "\n",
    "sns.heatmap(confusion_mat, \n",
    "            annot=True,\n",
    "            fmt='d', \n",
    "            cmap=\"Blues\",\n",
    "            xticklabels=class_names,\n",
    "            yticklabels=class_names)\n",
    "plt.ylabel('Prediction',fontsize=13)\n",
    "plt.xlabel('Actual',fontsize=13)\n",
    "plt.title(\"Confusion Matrix: Accuracy = \"+ str(round(accuracy,3)))\n",
    "plt.show()"
   ]
  },
  {
   "cell_type": "code",
   "execution_count": 2589,
   "metadata": {},
   "outputs": [
    {
     "data": {
      "text/plain": [
       "0.6583333611488342"
      ]
     },
     "execution_count": 2589,
     "metadata": {},
     "output_type": "execute_result"
    }
   ],
   "source": [
    "accuracy"
   ]
  },
  {
   "cell_type": "markdown",
   "metadata": {},
   "source": [
    "# CNN Model (From Paper)"
   ]
  },
  {
   "cell_type": "code",
   "execution_count": 2590,
   "metadata": {},
   "outputs": [],
   "source": [
    "# # Define the CNN model\n",
    "# model = Sequential()\n",
    "\n",
    "# # Convolutional Layer with 16 filters of kernel size 3 and ReLU activation\n",
    "# model.add(Conv2D(16, (3, 3), input_shape=input_shape))\n",
    "# model.add(Activation('relu'))\n",
    "\n",
    "# # Max-Pooling Layer with pool size 2x2 and stride 2\n",
    "# model.add(MaxPooling2D(pool_size=(2, 2), strides=(2, 2)))\n",
    "\n",
    "# # Flatten the output from the previous layer\n",
    "# model.add(Flatten())\n",
    "\n",
    "# # Output Layer with 4 nodes\n",
    "# model.add(Dense(num_classes, activation='softmax'))\n",
    "\n",
    "# model.compile(loss=keras.losses.categorical_crossentropy, \n",
    "#               optimizer=keras.optimizers.Adam(learning_rate= 0.0001), \n",
    "#               metrics=['accuracy'])\n",
    "\n",
    "# model.summary()\n",
    "\n",
    "# checkpoint = ModelCheckpoint(\"3D_CNN_model_weights.h5\", monitor='val_accuracy', save_best_only=True, mode='max', verbose=1)\n",
    "\n",
    "# model.fit(x_train, y_train, batch_size=batch_size, \n",
    "#           epochs=epochs, verbose=1, \n",
    "#           validation_data=(x_test, y_test), \n",
    "#           callbacks=[history, checkpoint])\n"
   ]
  },
  {
   "cell_type": "code",
   "execution_count": 2591,
   "metadata": {},
   "outputs": [],
   "source": [
    "# fig, axarr = plt.subplots(figsize=(12,6), ncols=2)\n",
    "# axarr[0].plot(range(1, 301), history.history['accuracy'], label='Train')\n",
    "# axarr[0].plot(range(1, 301), history.history['val_accuracy'], label='Test')\n",
    "# axarr[0].set_xlabel('Number of Epochs', fontsize=18)\n",
    "# axarr[0].set_ylabel('Accuracy', fontsize=18)\n",
    "# axarr[0].set_ylim([0,1.1])\n",
    "# axarr[1].plot(range(1, 301), history.history['loss'], label='Train')\n",
    "# axarr[1].plot(range(1, 301), history.history['val_loss'], label='Test')\n",
    "# axarr[1].set_xlabel('Number of Epochs', fontsize=18)\n",
    "# axarr[1].set_ylabel('Loss', fontsize=18)\n",
    "# axarr[1].set_ylim([0,1.1])\n",
    "# plt.legend()\n",
    "# plt.show()"
   ]
  }
 ],
 "metadata": {
  "kernelspec": {
   "display_name": "Python 3",
   "language": "python",
   "name": "python3"
  },
  "language_info": {
   "codemirror_mode": {
    "name": "ipython",
    "version": 3
   },
   "file_extension": ".py",
   "mimetype": "text/x-python",
   "name": "python",
   "nbconvert_exporter": "python",
   "pygments_lexer": "ipython3",
   "version": "3.11.0"
  },
  "orig_nbformat": 4
 },
 "nbformat": 4,
 "nbformat_minor": 2
}
