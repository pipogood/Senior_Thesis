{
 "cells": [
  {
   "cell_type": "markdown",
   "metadata": {},
   "source": [
    "# CWT & STFT + CNN Model with Unicorn Hybrid Black dataset"
   ]
  },
  {
   "cell_type": "code",
   "execution_count": 200,
   "metadata": {},
   "outputs": [
    {
     "name": "stdout",
     "output_type": "stream",
     "text": [
      "Extracting EDF parameters from C:\\git\\Senior_Thesis\\DataSet\\Convert_data\\hand0_new.edf...\n",
      "EDF file detected\n",
      "Setting channel info structure...\n",
      "Creating raw.info structure...\n",
      "Reading 0 ... 279249  =      0.000 ...  1116.996 secs...\n",
      "Extracting EDF parameters from C:\\git\\Senior_Thesis\\DataSet\\Convert_data\\hand1_new.edf...\n",
      "EDF file detected\n",
      "Setting channel info structure...\n",
      "Creating raw.info structure...\n",
      "Reading 0 ... 279249  =      0.000 ...  1116.996 secs...\n",
      "Extracting EDF parameters from C:\\git\\Senior_Thesis\\DataSet\\Convert_data\\hand2_new.edf...\n",
      "EDF file detected\n",
      "Setting channel info structure...\n",
      "Creating raw.info structure...\n",
      "Reading 0 ... 279249  =      0.000 ...  1116.996 secs...\n",
      "Extracting EDF parameters from C:\\git\\Senior_Thesis\\DataSet\\Convert_data\\hand3_new.edf...\n",
      "EDF file detected\n",
      "Setting channel info structure...\n",
      "Creating raw.info structure...\n",
      "Reading 0 ... 279249  =      0.000 ...  1116.996 secs...\n",
      "Extracting EDF parameters from C:\\git\\Senior_Thesis\\DataSet\\Convert_data\\hand4_new.edf...\n",
      "EDF file detected\n",
      "Setting channel info structure...\n",
      "Creating raw.info structure...\n",
      "Reading 0 ... 279249  =      0.000 ...  1116.996 secs...\n"
     ]
    },
    {
     "data": {
      "text/html": [
       "<table class=\"table table-hover table-striped table-sm table-responsive small\">\n",
       "    <tr>\n",
       "        <th>Measurement date</th>\n",
       "        \n",
       "        <td>October 01, 2023  19:53:00 GMT</td>\n",
       "        \n",
       "    </tr>\n",
       "    <tr>\n",
       "        <th>Experimenter</th>\n",
       "        \n",
       "        <td>Unknown</td>\n",
       "        \n",
       "    </tr>\n",
       "        <th>Participant</th>\n",
       "        \n",
       "        <td>Unknown</td>\n",
       "        \n",
       "    </tr>\n",
       "    <tr>\n",
       "        <th>Digitized points</th>\n",
       "        \n",
       "        <td>11 points</td>\n",
       "        \n",
       "    </tr>\n",
       "    <tr>\n",
       "        <th>Good channels</th>\n",
       "        <td>8 EEG</td>\n",
       "    </tr>\n",
       "    <tr>\n",
       "        <th>Bad channels</th>\n",
       "        <td>None</td>\n",
       "    </tr>\n",
       "    <tr>\n",
       "        <th>EOG channels</th>\n",
       "        <td>Not available</td>\n",
       "    </tr>\n",
       "    <tr>\n",
       "        <th>ECG channels</th>\n",
       "        <td>Not available</td>\n",
       "    \n",
       "    <tr>\n",
       "        <th>Sampling frequency</th>\n",
       "        <td>250.00 Hz</td>\n",
       "    </tr>\n",
       "    \n",
       "    \n",
       "    <tr>\n",
       "        <th>Highpass</th>\n",
       "        <td>0.00 Hz</td>\n",
       "    </tr>\n",
       "    \n",
       "    \n",
       "    <tr>\n",
       "        <th>Lowpass</th>\n",
       "        <td>125.00 Hz</td>\n",
       "    </tr>\n",
       "    \n",
       "    \n",
       "    \n",
       "    <tr>\n",
       "        <th>Filenames</th>\n",
       "        <td>hand3_new.edf</td>\n",
       "    </tr>\n",
       "    \n",
       "    <tr>\n",
       "        <th>Duration</th>\n",
       "        <td>00:18:37 (HH:MM:SS)</td>\n",
       "    </tr>\n",
       "</table>"
      ],
      "text/plain": [
       "<RawEDF | hand3_new.edf, 8 x 279250 (1117.0 s), ~17.1 MB, data loaded>"
      ]
     },
     "execution_count": 200,
     "metadata": {},
     "output_type": "execute_result"
    }
   ],
   "source": [
    "import mne\n",
    "import numpy as np\n",
    "from mne.datasets import eegbci\n",
    "import matplotlib.pyplot as plt\n",
    "from mne.channels import make_standard_montage\n",
    "\n",
    "raw_each = [0] * 5\n",
    "\n",
    "for i in range(0,5):\n",
    "    raw_each[i] = mne.io.read_raw_edf(\"C:\\git\\Senior_Thesis\\DataSet\\Convert_data\\hand\"+ str(i) +\"_new.edf\",preload = True)\n",
    "\n",
    "# raw_edf = mne.concatenate_raws(raw_each)\n",
    "raw_edf = mne.concatenate_raws([raw_each[3],raw_each[2]])\n",
    "# raw_edf = raw_edf.copy().resample(62.5 ,npad=\"auto\")\n",
    "\n",
    "eegbci.standardize(raw_edf)  # set channel names\n",
    "montage = make_standard_montage(\"standard_1005\")\n",
    "raw_edf.set_montage(montage)"
   ]
  },
  {
   "cell_type": "code",
   "execution_count": 201,
   "metadata": {},
   "outputs": [],
   "source": [
    "import numpy as np\n",
    "import tensorflow as tf\n",
    "import keras\n",
    "from keras.layers import Input, Conv2D, MaxPooling2D, Flatten, Dense, Lambda, BatchNormalization, Activation\n",
    "from keras.models import Sequential\n",
    "from keras.callbacks import History,ModelCheckpoint\n",
    "from keras.utils import plot_model\n",
    "history = History()\n",
    "import pywt\n",
    "import matplotlib.pyplot as plt\n",
    "from sklearn.model_selection import train_test_split\n",
    "from mne.decoding import CSP\n",
    "from sklearn.pipeline import Pipeline\n",
    "from sklearn.discriminant_analysis import LinearDiscriminantAnalysis\n",
    "from sklearn.model_selection import ShuffleSplit,StratifiedKFold ,cross_val_score, cross_val_predict\n",
    "from ssqueezepy import ssq_cwt, ssq_stft\n",
    "import pickle\n",
    "import seaborn as sns"
   ]
  },
  {
   "cell_type": "code",
   "execution_count": 202,
   "metadata": {},
   "outputs": [
    {
     "name": "stdout",
     "output_type": "stream",
     "text": [
      "Filtering raw data in 1 contiguous segment\n",
      "Setting up band-pass filter from 1 - 30 Hz\n",
      "\n",
      "IIR filter parameters\n",
      "---------------------\n",
      "Butterworth bandpass zero-phase (two-pass forward and reverse) non-causal filter:\n",
      "- Filter order 20 (effective, after forward-backward)\n",
      "- Cutoffs at 1.00, 30.00 Hz: -6.02, -6.02 dB\n",
      "\n"
     ]
    },
    {
     "name": "stdout",
     "output_type": "stream",
     "text": [
      "EEG channel type selected for re-referencing\n",
      "Applying average reference.\n",
      "Applying a custom ('EEG',) reference.\n",
      "Used Annotations descriptions: ['OVTK_GDF_Cross_On_Screen', 'OVTK_GDF_End_Of_Session', 'OVTK_GDF_End_Of_Trial', 'OVTK_GDF_Feedback_Continuous', 'OVTK_GDF_Incorrect', 'OVTK_GDF_Left', 'OVTK_GDF_Right', 'OVTK_GDF_Start_Of_Trial', 'OVTK_GDF_Tongue', 'OVTK_GDF_Up', 'OVTK_StimulationId_BaselineStart', 'OVTK_StimulationId_BaselineStop', 'OVTK_StimulationId_Beep', 'OVTK_StimulationId_Train']\n",
      "Multiple event values for single event times found. Keeping the first occurrence and dropping all others.\n",
      "Not setting metadata\n",
      "605 matching events found\n",
      "Setting baseline interval to [-5.0, 0.0] s\n",
      "Applying baseline correction (mode: mean)\n",
      "0 projection items activated\n",
      "Using data from preloaded Raw for 605 events and 2501 original time points ...\n",
      "2 bad epochs dropped\n"
     ]
    }
   ],
   "source": [
    "eeg1 = raw_edf.copy().filter(l_freq=1.0, h_freq=30.0, method = 'iir', iir_params= {\"order\": 5, \"ftype\":'butter'})\n",
    "# eeg1 = raw_edf.copy().filter(l_freq=0.075, h_freq=3.0, method = 'fir')\n",
    "eeg1 = eeg1.copy().set_eeg_reference(ref_channels=\"average\")\n",
    "\n",
    "eeg1= eeg1.pick([\"Fz\",\"C3\", \"Cz\", \"C4\",\"Pz\",'PO7','PO8'])\n",
    "# eeg1= eeg1.pick_channels([\"C3\", \"Cz\", \"C4\"])\n",
    "events, event_dict = mne.events_from_annotations(eeg1)\n",
    "combine_epochs = mne.Epochs(eeg1, events, \n",
    "        tmin=-5.0,     # init timestamp of epoch (0 means trigger timestamp same as event start)\n",
    "        tmax=5.0,    # final timestamp (10 means set epoch duration 10 second)\n",
    "        event_id=event_dict,\n",
    "        preload = True,\n",
    "        event_repeated='drop'\n",
    "    )\n",
    "\n",
    "combine_epochs = combine_epochs.copy().crop(tmin=0.0, tmax=2.0)\n",
    "component_num = 7"
   ]
  },
  {
   "cell_type": "code",
   "execution_count": 203,
   "metadata": {},
   "outputs": [],
   "source": [
    "df_left = combine_epochs['OVTK_GDF_Left'].to_data_frame()\n",
    "df_right = combine_epochs['OVTK_GDF_Right'].to_data_frame()\n",
    "df_up = combine_epochs['OVTK_GDF_Up'].to_data_frame()\n",
    "df_tongue = combine_epochs['OVTK_GDF_Tongue'].to_data_frame()\n",
    "df_left =df_left.iloc[:, -7:]\n",
    "df_right =df_right.iloc[:, -7:]\n",
    "df_up =df_up.iloc[:, -7:]\n",
    "df_tongue =df_tongue.iloc[:, -7:]\n",
    "\n",
    "# # Plot histograms for all columns in the DataFrame using Seaborn\n",
    "# fig, ax = plt.subplots(1, len(df_left.columns),sharey=True, figsize=(10 * len(df_left.columns), 10))\n",
    "# for i, column in enumerate(df_left.columns):\n",
    "#     ax[i] = sns.histplot(df_left[column], kde=False, ax=ax[i], color= 'orange')\n",
    "#     ax[i] = sns.histplot(df_right[column], kde=False, ax=ax[i], color= 'blue')\n",
    "#     ax[i] = sns.histplot(df_up[column], kde=False, ax=ax[i], color= 'green')\n",
    "#     ax[i] = sns.histplot(df_tongue[column], kde=False, ax=ax[i], color= 'pink')\n",
    "#     ax[i].set_xlabel(column,  fontsize=30)\n",
    "#     ax[i].set_ylabel('Frequency',  fontsize=30)\n",
    "#     ax[i].tick_params(axis='both', labelsize=30)\n",
    "\n",
    "# plt.tight_layout()\n",
    "# plt.show()"
   ]
  },
  {
   "cell_type": "code",
   "execution_count": 204,
   "metadata": {},
   "outputs": [
    {
     "data": {
      "text/html": [
       "<div>\n",
       "<style scoped>\n",
       "    .dataframe tbody tr th:only-of-type {\n",
       "        vertical-align: middle;\n",
       "    }\n",
       "\n",
       "    .dataframe tbody tr th {\n",
       "        vertical-align: top;\n",
       "    }\n",
       "\n",
       "    .dataframe thead th {\n",
       "        text-align: right;\n",
       "    }\n",
       "</style>\n",
       "<table border=\"1\" class=\"dataframe\">\n",
       "  <thead>\n",
       "    <tr style=\"text-align: right;\">\n",
       "      <th></th>\n",
       "      <th>Fz</th>\n",
       "      <th>C3</th>\n",
       "      <th>Cz</th>\n",
       "      <th>C4</th>\n",
       "      <th>Pz</th>\n",
       "      <th>PO7</th>\n",
       "      <th>PO8</th>\n",
       "    </tr>\n",
       "  </thead>\n",
       "  <tbody>\n",
       "    <tr>\n",
       "      <th>0</th>\n",
       "      <td>3.240880e+06</td>\n",
       "      <td>-1.108567e+06</td>\n",
       "      <td>-4.573295e+06</td>\n",
       "      <td>2.545658e+06</td>\n",
       "      <td>-9.292928e+05</td>\n",
       "      <td>-1.895764e+06</td>\n",
       "      <td>3.882685e+06</td>\n",
       "    </tr>\n",
       "    <tr>\n",
       "      <th>1</th>\n",
       "      <td>1.475761e+06</td>\n",
       "      <td>-4.784443e+04</td>\n",
       "      <td>-5.948709e+06</td>\n",
       "      <td>1.966786e+06</td>\n",
       "      <td>-7.506584e+05</td>\n",
       "      <td>-1.524809e+06</td>\n",
       "      <td>4.913479e+06</td>\n",
       "    </tr>\n",
       "    <tr>\n",
       "      <th>2</th>\n",
       "      <td>-3.476897e+05</td>\n",
       "      <td>7.497217e+05</td>\n",
       "      <td>-7.252058e+06</td>\n",
       "      <td>1.486766e+06</td>\n",
       "      <td>-1.242617e+06</td>\n",
       "      <td>-3.915461e+05</td>\n",
       "      <td>5.349052e+06</td>\n",
       "    </tr>\n",
       "    <tr>\n",
       "      <th>3</th>\n",
       "      <td>-2.161606e+06</td>\n",
       "      <td>1.152750e+06</td>\n",
       "      <td>-7.263610e+06</td>\n",
       "      <td>1.360105e+06</td>\n",
       "      <td>-2.797227e+06</td>\n",
       "      <td>1.082502e+06</td>\n",
       "      <td>4.594975e+06</td>\n",
       "    </tr>\n",
       "    <tr>\n",
       "      <th>4</th>\n",
       "      <td>-3.086864e+06</td>\n",
       "      <td>1.451731e+06</td>\n",
       "      <td>-6.168385e+06</td>\n",
       "      <td>1.175863e+06</td>\n",
       "      <td>-4.658001e+06</td>\n",
       "      <td>2.297228e+06</td>\n",
       "      <td>3.026116e+06</td>\n",
       "    </tr>\n",
       "    <tr>\n",
       "      <th>...</th>\n",
       "      <td>...</td>\n",
       "      <td>...</td>\n",
       "      <td>...</td>\n",
       "      <td>...</td>\n",
       "      <td>...</td>\n",
       "      <td>...</td>\n",
       "      <td>...</td>\n",
       "    </tr>\n",
       "    <tr>\n",
       "      <th>15025</th>\n",
       "      <td>3.727114e+06</td>\n",
       "      <td>-3.308668e+06</td>\n",
       "      <td>-2.122156e+06</td>\n",
       "      <td>-1.469832e+06</td>\n",
       "      <td>-6.383080e+05</td>\n",
       "      <td>-8.516257e+04</td>\n",
       "      <td>1.682217e+06</td>\n",
       "    </tr>\n",
       "    <tr>\n",
       "      <th>15026</th>\n",
       "      <td>3.244893e+06</td>\n",
       "      <td>-4.605964e+06</td>\n",
       "      <td>-2.604774e+06</td>\n",
       "      <td>-1.531452e+06</td>\n",
       "      <td>-1.605242e+06</td>\n",
       "      <td>-1.667763e+05</td>\n",
       "      <td>3.040016e+06</td>\n",
       "    </tr>\n",
       "    <tr>\n",
       "      <th>15027</th>\n",
       "      <td>2.689572e+06</td>\n",
       "      <td>-5.630288e+06</td>\n",
       "      <td>-2.751149e+06</td>\n",
       "      <td>-5.396404e+05</td>\n",
       "      <td>-2.450266e+06</td>\n",
       "      <td>-7.774696e+05</td>\n",
       "      <td>3.972512e+06</td>\n",
       "    </tr>\n",
       "    <tr>\n",
       "      <th>15028</th>\n",
       "      <td>2.474360e+06</td>\n",
       "      <td>-5.690633e+06</td>\n",
       "      <td>-2.631251e+06</td>\n",
       "      <td>9.798824e+05</td>\n",
       "      <td>-2.612491e+06</td>\n",
       "      <td>-2.185190e+06</td>\n",
       "      <td>4.440110e+06</td>\n",
       "    </tr>\n",
       "    <tr>\n",
       "      <th>15029</th>\n",
       "      <td>2.223501e+06</td>\n",
       "      <td>-5.270211e+06</td>\n",
       "      <td>-2.154148e+06</td>\n",
       "      <td>2.913044e+06</td>\n",
       "      <td>-2.178077e+06</td>\n",
       "      <td>-3.673717e+06</td>\n",
       "      <td>4.192779e+06</td>\n",
       "    </tr>\n",
       "  </tbody>\n",
       "</table>\n",
       "<p>15030 rows × 7 columns</p>\n",
       "</div>"
      ],
      "text/plain": [
       "                 Fz            C3            Cz            C4            Pz   \n",
       "0      3.240880e+06 -1.108567e+06 -4.573295e+06  2.545658e+06 -9.292928e+05  \\\n",
       "1      1.475761e+06 -4.784443e+04 -5.948709e+06  1.966786e+06 -7.506584e+05   \n",
       "2     -3.476897e+05  7.497217e+05 -7.252058e+06  1.486766e+06 -1.242617e+06   \n",
       "3     -2.161606e+06  1.152750e+06 -7.263610e+06  1.360105e+06 -2.797227e+06   \n",
       "4     -3.086864e+06  1.451731e+06 -6.168385e+06  1.175863e+06 -4.658001e+06   \n",
       "...             ...           ...           ...           ...           ...   \n",
       "15025  3.727114e+06 -3.308668e+06 -2.122156e+06 -1.469832e+06 -6.383080e+05   \n",
       "15026  3.244893e+06 -4.605964e+06 -2.604774e+06 -1.531452e+06 -1.605242e+06   \n",
       "15027  2.689572e+06 -5.630288e+06 -2.751149e+06 -5.396404e+05 -2.450266e+06   \n",
       "15028  2.474360e+06 -5.690633e+06 -2.631251e+06  9.798824e+05 -2.612491e+06   \n",
       "15029  2.223501e+06 -5.270211e+06 -2.154148e+06  2.913044e+06 -2.178077e+06   \n",
       "\n",
       "                PO7           PO8  \n",
       "0     -1.895764e+06  3.882685e+06  \n",
       "1     -1.524809e+06  4.913479e+06  \n",
       "2     -3.915461e+05  5.349052e+06  \n",
       "3      1.082502e+06  4.594975e+06  \n",
       "4      2.297228e+06  3.026116e+06  \n",
       "...             ...           ...  \n",
       "15025 -8.516257e+04  1.682217e+06  \n",
       "15026 -1.667763e+05  3.040016e+06  \n",
       "15027 -7.774696e+05  3.972512e+06  \n",
       "15028 -2.185190e+06  4.440110e+06  \n",
       "15029 -3.673717e+06  4.192779e+06  \n",
       "\n",
       "[15030 rows x 7 columns]"
      ]
     },
     "execution_count": 204,
     "metadata": {},
     "output_type": "execute_result"
    }
   ],
   "source": [
    "df_left"
   ]
  },
  {
   "cell_type": "code",
   "execution_count": 205,
   "metadata": {},
   "outputs": [],
   "source": [
    "# import pandas as pd\n",
    "# import seaborn as sns\n",
    "# import matplotlib.pyplot as plt\n",
    "\n",
    "# # Example DataFrame (replace this with your actual DataFrame)\n",
    "# data = {\n",
    "#     'column1': [1, 2, 3, 4, 5],\n",
    "#     'column2': [2, 3, 4, 5, 6],\n",
    "#     'column3': [3, 4, 5, 6, 7],\n",
    "#     'column4': [4, 5, 6, 7, 8],\n",
    "#     'column5': [5, 6, 7, 8, 9]\n",
    "# }\n",
    "# df = pd.DataFrame(data)\n",
    "\n",
    "# # Select the last three columns\n",
    "# last_three_columns = df.iloc[:, -3:]\n",
    "\n",
    "# # Plot histograms for the last three columns using Seaborn in a horizontal line\n",
    "# fig, ax = plt.subplots(1, len(last_three_columns.columns), sharey=True, figsize=(6 * len(last_three_columns.columns), 6))\n",
    "# for i, column in enumerate(last_three_columns.columns):\n",
    "#     sns.histplot(last_three_columns[column], kde=False, bins=10, ax=ax[i])\n",
    "#     ax[i].set_xlabel(column)\n",
    "#     ax[i].set_ylabel('Frequency')\n",
    "\n",
    "# plt.tight_layout()\n",
    "# plt.show()"
   ]
  },
  {
   "cell_type": "markdown",
   "metadata": {},
   "source": [
    "# FastICA"
   ]
  },
  {
   "cell_type": "code",
   "execution_count": 206,
   "metadata": {},
   "outputs": [],
   "source": [
    "# from mne.preprocessing import ICA\n",
    "# ica = ICA(n_components=component_num, max_iter=\"auto\", random_state=97)\n",
    "# ica.fit(combine_epochs)\n",
    "# # ica.plot_sources(combine_epochs)\n",
    "\n",
    "# with open('trained_ica_model.pkl', 'wb') as file:\n",
    "#     pickle.dump(ica, file)\n"
   ]
  },
  {
   "cell_type": "markdown",
   "metadata": {},
   "source": [
    "Load ICA"
   ]
  },
  {
   "cell_type": "code",
   "execution_count": 207,
   "metadata": {},
   "outputs": [],
   "source": [
    "# with open('trained_ica_model.pkl', 'rb') as file:\n",
    "#     trained_ica = pickle.load(file)\n",
    "\n",
    "# combine_epochs = trained_ica.get_sources(combine_epochs)"
   ]
  },
  {
   "cell_type": "code",
   "execution_count": 208,
   "metadata": {},
   "outputs": [],
   "source": [
    "# Prepare Labels and Train data\n",
    "labels = combine_epochs['OVTK_GDF_Left','OVTK_GDF_Right','OVTK_GDF_Up','OVTK_GDF_Tongue'].events[:,2]\n",
    "for i in range(0,len(labels)):\n",
    "    if labels[i] > 7:\n",
    "        labels[i] = labels[i] - 1\n",
    "    # if labels[i] < 7:\n",
    "    #     labels[i] = labels[i] + 1\n",
    "\n",
    "shape = np.shape(combine_epochs['OVTK_GDF_Left','OVTK_GDF_Right','OVTK_GDF_Up','OVTK_GDF_Tongue'].get_data())\n",
    "train_data = combine_epochs['OVTK_GDF_Left','OVTK_GDF_Right','OVTK_GDF_Up','OVTK_GDF_Tongue'].get_data()"
   ]
  },
  {
   "cell_type": "code",
   "execution_count": 209,
   "metadata": {},
   "outputs": [
    {
     "data": {
      "text/plain": [
       "array([8, 9, 7, 6, 8, 9, 7, 8, 8, 9, 9, 8, 6, 6, 7, 8, 6, 9, 7, 6, 8, 9,\n",
       "       7, 8, 8, 9, 7, 6, 7, 9, 7, 6, 6, 9, 7, 6, 9, 9, 7, 6, 8, 6, 7, 6,\n",
       "       8, 9, 6, 6, 9, 9, 7, 6, 6, 8, 7, 7, 8, 9, 7, 6, 8, 7, 7, 6, 8, 9,\n",
       "       7, 7, 8, 8, 7, 6, 8, 9, 7, 6, 8, 9, 7, 6, 9, 9, 6, 6, 8, 9, 7, 6,\n",
       "       9, 9, 7, 6, 8, 9, 7, 7, 6, 9, 9, 9, 8, 8, 7, 8, 8, 9, 7, 6, 8, 8,\n",
       "       7, 6, 8, 9, 9, 6, 8, 8, 7, 6])"
      ]
     },
     "execution_count": 209,
     "metadata": {},
     "output_type": "execute_result"
    }
   ],
   "source": [
    "labels"
   ]
  },
  {
   "cell_type": "markdown",
   "metadata": {},
   "source": [
    "Train with CSP+LDA"
   ]
  },
  {
   "cell_type": "code",
   "execution_count": 210,
   "metadata": {},
   "outputs": [],
   "source": [
    "# lda = LinearDiscriminantAnalysis()\n",
    "# from sklearn.metrics import confusion_matrix\n",
    "# csp2 = CSP(n_components=7, reg=None, log=None)\n",
    "# clf = Pipeline([(\"CSP\", csp2), (\"LDA\", lda)])\n",
    "# scores = cross_val_score(clf, train_data, labels, cv=10, n_jobs=None)\n",
    "# CSP_predicted = cross_val_predict(clf, train_data, labels, cv=10)\n",
    "\n",
    "# conf_matrix = confusion_matrix(labels, CSP_predicted)\n",
    "# print(conf_matrix)\n",
    "# print('Accuracy',np.mean(scores))\n",
    "\n",
    "# import seaborn as sns\n",
    "# class_names = ['Left hand', 'Right hand', 'Feet', 'Non-imagine']\n",
    "\n",
    "# sns.heatmap(conf_matrix, \n",
    "#             annot=True,\n",
    "#             fmt='g', \n",
    "#             xticklabels=class_names,\n",
    "#             yticklabels=class_names)\n",
    "# plt.ylabel('Prediction',fontsize=13)\n",
    "# plt.xlabel('Actual',fontsize=13)\n",
    "# plt.title('Confusion Matrix CSP+LDA',fontsize=17)\n",
    "# plt.show()"
   ]
  },
  {
   "cell_type": "markdown",
   "metadata": {},
   "source": [
    "# CSP -> CWT -> CNN"
   ]
  },
  {
   "cell_type": "markdown",
   "metadata": {},
   "source": [
    "train csp"
   ]
  },
  {
   "cell_type": "code",
   "execution_count": 211,
   "metadata": {},
   "outputs": [
    {
     "name": "stdout",
     "output_type": "stream",
     "text": [
      "Computing rank from data with rank=None\n",
      "    Using tolerance 1.3 (2.2e-16 eps * 7 dim * 8.6e+14  max singular value)\n",
      "    Estimated rank (mag): 7\n",
      "    MAG: rank 7 computed from 7 data channels with 0 projectors\n",
      "Reducing data rank from 7 -> 7\n",
      "Estimating covariance using EMPIRICAL\n",
      "Done.\n",
      "Computing rank from data with rank=None\n",
      "    Using tolerance 1.4 (2.2e-16 eps * 7 dim * 9e+14  max singular value)\n",
      "    Estimated rank (mag): 7\n",
      "    MAG: rank 7 computed from 7 data channels with 0 projectors\n",
      "Reducing data rank from 7 -> 7\n",
      "Estimating covariance using EMPIRICAL\n",
      "Done.\n",
      "Computing rank from data with rank=None\n",
      "    Using tolerance 1.3 (2.2e-16 eps * 7 dim * 8.5e+14  max singular value)\n",
      "    Estimated rank (mag): 7\n",
      "    MAG: rank 7 computed from 7 data channels with 0 projectors\n",
      "Reducing data rank from 7 -> 7\n",
      "Estimating covariance using EMPIRICAL\n",
      "Done.\n",
      "Computing rank from data with rank=None\n",
      "    Using tolerance 1.5 (2.2e-16 eps * 7 dim * 9.5e+14  max singular value)\n",
      "    Estimated rank (mag): 7\n",
      "    MAG: rank 7 computed from 7 data channels with 0 projectors\n",
      "Reducing data rank from 7 -> 7\n",
      "Estimating covariance using EMPIRICAL\n",
      "Done.\n"
     ]
    }
   ],
   "source": [
    "csp = CSP(n_components=component_num, reg=None, log=None, transform_into='csp_space')\n",
    "csp.fit(train_data, labels)\n",
    "\n",
    "with open('trained_csp_model.pkl', 'wb') as file:\n",
    "    pickle.dump(csp, file)"
   ]
  },
  {
   "cell_type": "markdown",
   "metadata": {},
   "source": [
    "load csp"
   ]
  },
  {
   "cell_type": "code",
   "execution_count": 212,
   "metadata": {},
   "outputs": [],
   "source": [
    "with open('trained_csp_model.pkl', 'rb') as file:\n",
    "    trained_csp = pickle.load(file)\n",
    "\n",
    "new_data = trained_csp.transform(train_data)"
   ]
  },
  {
   "cell_type": "markdown",
   "metadata": {},
   "source": [
    "Plot topographic patterns of components. The patterns explain how the measured data was generated from the neural sources (a.k.a. the forward model)"
   ]
  },
  {
   "cell_type": "code",
   "execution_count": 213,
   "metadata": {},
   "outputs": [],
   "source": [
    "# trained_csp.plot_patterns(combine_epochs.info, ch_type=\"eeg\", units=\"Patterns (AU)\", size=1.5, vlim=(-5e6, 5e6))\n",
    "# print('...')"
   ]
  },
  {
   "cell_type": "code",
   "execution_count": 214,
   "metadata": {},
   "outputs": [],
   "source": [
    "# selected_events = combine_epochs['OVTK_GDF_Left','OVTK_GDF_Right','OVTK_GDF_Up','OVTK_GDF_Tongue']\n",
    "# csp_epochs = mne.EpochsArray(new_data, selected_events.info, events=selected_events.events, event_id= selected_events.event_id)\n",
    "# channel_mapping = {\n",
    "#     'Fz': 'csp1',\n",
    "#     'C3': 'csp2',\n",
    "#     'Cz': 'csp3',\n",
    "#     'C4': 'csp4',\n",
    "#     'Pz': 'csp5',\n",
    "#     'PO7': 'csp6',\n",
    "#     'PO8': 'csp7'\n",
    "# }\n",
    "# csp_epochs.rename_channels(channel_mapping)\n",
    "\n",
    "# csp_left_df = csp_epochs['OVTK_GDF_Left'].to_data_frame()\n",
    "# csp_right_df = csp_epochs['OVTK_GDF_Right'].to_data_frame()\n",
    "# csp_up_df = csp_epochs['OVTK_GDF_Up'].to_data_frame()\n",
    "# csp_tongue_df = csp_epochs['OVTK_GDF_Tongue'].to_data_frame()\n",
    "\n",
    "# csp_left_df =csp_left_df.iloc[:, -7:]\n",
    "# csp_right_df =csp_right_df.iloc[:, -7:]\n",
    "# csp_up_df =csp_up_df.iloc[:, -7:]\n",
    "# csp_tongue_df =csp_tongue_df.iloc[:, -7:]\n",
    "\n",
    "# # Plot histograms for all columns in the DataFrame using Seaborn\n",
    "# fig, ax = plt.subplots(1, len(csp_left_df.columns),sharey=True, figsize=(10 * len(csp_left_df.columns), 10))\n",
    "# for i, column in enumerate(csp_left_df.columns):\n",
    "#     ax[i] = sns.histplot(csp_left_df[column], kde=False, ax=ax[i], color= 'orange')\n",
    "#     ax[i] = sns.histplot(csp_right_df[column], kde=False, ax=ax[i], color= 'blue')\n",
    "#     ax[i] = sns.histplot(csp_up_df[column], kde=False, ax=ax[i], color= 'green')\n",
    "#     ax[i] = sns.histplot(csp_tongue_df[column], kde=False, ax=ax[i], color= 'pink')\n",
    "#     ax[i].set_xlabel(column,  fontsize=30)\n",
    "#     # ax[i].set_xlim(-1e7, 1e7)\n",
    "#     ax[i].set_ylabel('Frequency',  fontsize=30)\n",
    "#     ax[i].tick_params(axis='both', labelsize=30)\n",
    "# plt.tight_layout()\n",
    "# plt.show()"
   ]
  },
  {
   "cell_type": "markdown",
   "metadata": {},
   "source": [
    "STFT"
   ]
  },
  {
   "cell_type": "code",
   "execution_count": 215,
   "metadata": {},
   "outputs": [],
   "source": [
    "# from ssqueezepy import ssq_cwt, ssq_stft\n",
    "\n",
    "# n_fft = 256  # Number of DFT points\n",
    "# hop_length = int(n_fft * 0.03)  # 97% overlapping\n",
    "# win_length = int(n_fft * 0.5)   # 0.5 seconds window length\n",
    "# window = 'hamming' \n",
    "# train_size = len(labels)\n",
    "# train_data_stft = np.ndarray(shape=(train_size, 72,129,8))\n",
    "\n",
    "\n",
    "# # _,coeff, *_ = ssq_stft(new_data[0,:], n_fft=n_fft, hop_len=hop_length, win_len=win_length, window=window)\n",
    "# for i in range(0,train_size):\n",
    "#     _,coeff, *_ = ssq_stft(new_data[i,:], n_fft=n_fft, hop_len=hop_length, win_len=win_length, window=window)\n",
    "#     train_data_stft[i, :, :, :] = coeff.reshape(coeff.shape[2],coeff.shape[1],coeff.shape[0])\n",
    "\n",
    "# print(np.shape(train_data_stft))\n",
    "\n",
    "# # Stack array and convert to image\n",
    "# from PIL import Image as im \n",
    "# train_stft_stack = np.ndarray(shape=(train_size, train_data_stft.shape[1]*component_num, train_data_stft.shape[2]))\n",
    "\n",
    "# for jj in range(0,train_data_stft.shape[0]):\n",
    "#     train_stft_stack[jj] = np.vstack((train_data_stft[jj,:,:,0], train_data_stft[jj,:,:,1], train_data_stft[jj,:,:,2], train_data_stft[jj,:,:,3], train_data_stft[jj,:,:,4], train_data_stft[jj,:,:,5], train_data_stft[jj,:,:,6], train_data_stft[jj,:,:,7]))\n",
    "\n",
    "# print(np.shape(train_stft_stack))"
   ]
  },
  {
   "cell_type": "code",
   "execution_count": 216,
   "metadata": {},
   "outputs": [],
   "source": [
    "# x_train, x_test, y_train, y_test = train_test_split(train_stft_stack, labels, test_size=0.3, random_state=42)\n",
    "\n",
    "# num_classes = 4\n",
    "\n",
    "# batch_size = 16\n",
    "# epochs = 40\n",
    "# print(np.shape(x_train), np.shape(x_test), np.shape(y_train), np.shape(y_test))\n",
    "\n",
    "# y_train = keras.utils.to_categorical(y_train - 6, num_classes)\n",
    "# y_test = keras.utils.to_categorical(y_test -6 , num_classes)"
   ]
  },
  {
   "cell_type": "markdown",
   "metadata": {},
   "source": [
    "CWT"
   ]
  },
  {
   "cell_type": "code",
   "execution_count": 217,
   "metadata": {},
   "outputs": [
    {
     "name": "stdout",
     "output_type": "stream",
     "text": [
      "(120, 7, 501)\n",
      "0\n"
     ]
    },
    {
     "name": "stdout",
     "output_type": "stream",
     "text": [
      "40\n",
      "80\n",
      "(120, 30, 501, 7)\n",
      "(120, 210, 501)\n"
     ]
    }
   ],
   "source": [
    "train_cwt = np.ndarray(shape=(new_data.shape[0], new_data.shape[2], component_num))\n",
    "for jj in range(0, new_data.shape[0]):\n",
    "    train_cwt[jj] = new_data[jj].T\n",
    "print(np.shape(new_data))\n",
    "\n",
    "scales = range(1,31)\n",
    "\n",
    "waveletname = 'morl'\n",
    "train_size = len(labels)\n",
    "train_data_cwt = np.ndarray(shape=(train_size, len(scales), new_data.shape[2], component_num))\n",
    "\n",
    "for ii in range(0,train_size):\n",
    "    if ii % 40 == 0:\n",
    "        print(ii)\n",
    "    for jj in range(0,component_num):\n",
    "        signal = train_cwt[ii, :, jj]\n",
    "        coeff, _ = pywt.cwt(signal, scales, waveletname, 1)\n",
    "        coeff_ = coeff[:,:new_data.shape[2]]  #crop 227 sample for each channel\n",
    "        train_data_cwt[ii, :, :, jj] = coeff_\n",
    "print(np.shape(train_data_cwt))\n",
    "\n",
    "# Stack array and convert to image\n",
    "from PIL import Image as im \n",
    "train_cwt_stack = np.ndarray(shape=(train_size, len(scales)*component_num, new_data.shape[2]))\n",
    "\n",
    "for jj in range(0,train_data_cwt.shape[0]):\n",
    "    train_cwt_stack[jj] = np.vstack((train_data_cwt[jj,:,:,0], train_data_cwt[jj,:,:,1], train_data_cwt[jj,:,:,2], train_data_cwt[jj,:,:,3], train_data_cwt[jj,:,:,4], train_data_cwt[jj,:,:,5], train_data_cwt[jj,:,:,6]))\n",
    "    # train_cwt_stack[jj] = im.fromarray(np.vstack((train_data_cwt[jj,:,:,0], train_data_cwt[jj,:,:,1], train_data_cwt[jj,:,:,2], train_data_cwt[jj,:,:,3], train_data_cwt[jj,:,:,4], train_data_cwt[jj,:,:,5], train_data_cwt[jj,:,:,6])), 'RGB')\n",
    "\n",
    "print(np.shape(train_cwt_stack))"
   ]
  },
  {
   "cell_type": "code",
   "execution_count": 218,
   "metadata": {},
   "outputs": [
    {
     "name": "stdout",
     "output_type": "stream",
     "text": [
      "(84, 210, 501) (36, 210, 501) (84,) (36,)\n"
     ]
    }
   ],
   "source": [
    "x_train, x_test, y_train, y_test = train_test_split(train_cwt_stack, labels, test_size=0.3, random_state=42)\n",
    "\n",
    "img_x = train_data_cwt.shape[1]\n",
    "img_y = train_data_cwt.shape[2]\n",
    "img_z = train_data_cwt.shape[3]\n",
    "num_classes = 4\n",
    "\n",
    "batch_size = 10\n",
    "epochs = 30\n",
    "print(np.shape(x_train), np.shape(x_test), np.shape(y_train), np.shape(y_test))\n",
    "\n",
    "y_train = keras.utils.to_categorical(y_train - 6, num_classes)\n",
    "y_test = keras.utils.to_categorical(y_test -6 , num_classes)\n",
    "input_shape = (img_x, img_y, img_z)"
   ]
  },
  {
   "cell_type": "markdown",
   "metadata": {},
   "source": [
    "# Purposed CNN Model"
   ]
  },
  {
   "cell_type": "code",
   "execution_count": 219,
   "metadata": {},
   "outputs": [],
   "source": [
    "# Define the CNN model\n",
    "model = Sequential()\n",
    "\n",
    "# Convolutional Layer 1 with 32 filters of kernel size 3x3\n",
    "model.add(Conv2D(32, (3, 3), input_shape=(train_cwt_stack.shape[1], train_cwt_stack.shape[2], 1), activation='relu'))\n",
    "\n",
    "# Max-Pooling Layer 1 with pool size 2x2\n",
    "model.add(MaxPooling2D(pool_size=(2, 2)))\n",
    "\n",
    "# Convolutional Layer 2 with 64 filters of kernel size 3x3\n",
    "model.add(Conv2D(64, (3, 3), activation='relu'))\n",
    "\n",
    "# Max-Pooling Layer 2 with pool size 2x2\n",
    "model.add(MaxPooling2D(pool_size=(2, 2)))\n",
    "\n",
    "# Flatten the output from the previous layer\n",
    "model.add(Flatten())\n",
    "\n",
    "# Output Layer with the desired number of output nodes (adjust as needed)\n",
    "model.add(Dense(num_classes, activation='softmax'))\n",
    "\n",
    "model.compile(loss=keras.losses.categorical_crossentropy, \n",
    "              optimizer=keras.optimizers.Adam(learning_rate= 0.0001), \n",
    "              metrics=['accuracy'])\n",
    "\n",
    "model.summary()\n",
    "plot_model(model,to_file='model_plot.png', show_shapes=True, show_layer_names=True)\n",
    "checkpoint = ModelCheckpoint(\"CNN_hand12_model_weights.h5\", monitor='val_accuracy', save_best_only=True, mode='max', verbose=1)\n",
    "\n",
    "model.fit(x_train, y_train, batch_size=batch_size, \n",
    "          epochs=epochs, verbose=1, \n",
    "          validation_data=(x_test, y_test), \n",
    "          callbacks=[history, checkpoint])\n"
   ]
  },
  {
   "cell_type": "code",
   "execution_count": 220,
   "metadata": {},
   "outputs": [],
   "source": [
    "# from statistics import mean \n",
    "# fig, axarr = plt.subplots(figsize=(12,6), ncols=2)\n",
    "# axarr[0].plot(range(1, epochs+1), history.history['accuracy'], label='Train')\n",
    "# axarr[0].plot(range(1, epochs+1), history.history['val_accuracy'], label='Test')\n",
    "# axarr[0].set_xlabel('Number of Epochs', fontsize=18)\n",
    "# axarr[0].set_ylabel('Accuracy', fontsize=18)\n",
    "# axarr[0].title.set_text('Max Acc = {}'.format(max(history.history['val_accuracy'])))\n",
    "# axarr[0].set_ylim([0,1.1])\n",
    "# axarr[1].plot(range(1, epochs+1), history.history['loss'], label='Train')\n",
    "# axarr[1].plot(range(1, epochs+1), history.history['val_loss'], label='Test')\n",
    "# axarr[1].set_xlabel('Number of Epochs', fontsize=18)\n",
    "# axarr[1].set_ylabel('Loss', fontsize=18)\n",
    "# axarr[1].set_ylim([0,3.5])\n",
    "# plt.legend()\n",
    "# plt.show()"
   ]
  },
  {
   "cell_type": "code",
   "execution_count": 221,
   "metadata": {},
   "outputs": [
    {
     "name": "stdout",
     "output_type": "stream",
     "text": [
      "4/4 [==============================] - 1s 255ms/step - loss: 0.2500 - accuracy: 0.9667\n",
      "4/4 [==============================] - 1s 245ms/step\n"
     ]
    },
    {
     "data": {
      "image/png": "[encoded data removed]",
      "text/plain": [
       "<Figure size 640x480 with 2 Axes>"
      ]
     },
     "metadata": {},
     "output_type": "display_data"
    }
   ],
   "source": [
    "from keras.models import load_model\n",
    "from sklearn.metrics import confusion_matrix\n",
    "import seaborn as sns\n",
    "pretrained_model = load_model(\"CNN_model_weights.h5\")\n",
    "\n",
    "y_test = keras.utils.to_categorical(labels -6 , num_classes)\n",
    "\n",
    "loss, accuracy = pretrained_model.evaluate(train_cwt_stack, y_test)\n",
    "\n",
    "y_pred = pretrained_model.predict(train_cwt_stack)\n",
    "y_pred = np.argmax(y_pred, axis=1) \n",
    "y_true = np.argmax(y_test, axis=1)\n",
    "\n",
    "confusion_mat = confusion_matrix(y_true, y_pred)\n",
    "\n",
    "class_names = ['Left hand', 'Right hand', 'Feet', 'Non-imagine']\n",
    "\n",
    "sns.heatmap(confusion_mat, \n",
    "            annot=True,\n",
    "            fmt='d', \n",
    "            cmap=\"Blues\",\n",
    "            xticklabels=class_names,\n",
    "            yticklabels=class_names)\n",
    "plt.ylabel('Prediction',fontsize=13)\n",
    "plt.xlabel('Actual',fontsize=13)\n",
    "plt.title(\"Confusion Matrix: Accuracy = \"+ str(round(accuracy,3)))\n",
    "plt.show()"
   ]
  }
 ],
 "metadata": {
  "kernelspec": {
   "display_name": "Python 3",
   "language": "python",
   "name": "python3"
  },
  "language_info": {
   "codemirror_mode": {
    "name": "ipython",
    "version": 3
   },
   "file_extension": ".py",
   "mimetype": "text/x-python",
   "name": "python",
   "nbconvert_exporter": "python",
   "pygments_lexer": "ipython3",
   "version": "3.11.0"
  },
  "orig_nbformat": 4
 },
 "nbformat": 4,
 "nbformat_minor": 2
}
