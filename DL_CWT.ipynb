{
 "cells": [
  {
   "cell_type": "markdown",
   "metadata": {},
   "source": [
    "# CWT & STFT + CNN Model with BCI_competitionIII dataset"
   ]
  },
  {
   "cell_type": "code",
   "execution_count": 55,
   "metadata": {},
   "outputs": [
    {
     "name": "stdout",
     "output_type": "stream",
     "text": [
      "Not setting metadata\n",
      "280 matching events found\n",
      "No baseline correction applied\n",
      "0 projection items activated\n",
      "Not setting metadata\n",
      "280 matching events found\n",
      "No baseline correction applied\n",
      "0 projection items activated\n",
      "Not setting metadata\n",
      "280 matching events found\n",
      "No baseline correction applied\n",
      "0 projection items activated\n",
      "Not setting metadata\n",
      "280 matching events found\n",
      "No baseline correction applied\n",
      "0 projection items activated\n",
      "Not setting metadata\n",
      "280 matching events found\n",
      "No baseline correction applied\n",
      "0 projection items activated\n"
     ]
    }
   ],
   "source": [
    "import mne\n",
    "import numpy as np\n",
    "from mne.datasets import eegbci\n",
    "from mne.channels import make_standard_montage\n",
    "from scipy.io import loadmat\n",
    "\n",
    "epochs = [0,0,0,0,0]\n",
    "\n",
    "for j in range(1,6):\n",
    "    mat_data = loadmat('D:\\BCI_competitionIII\\BCI_100Hz\\S' + str(j) + '_data_set')\n",
    "\n",
    "    channels = []\n",
    "    for i in range(0,118):\n",
    "        channels.append(mat_data['nfo']['clab'][0][0][0][i][0])\n",
    "\n",
    "    fs = mat_data['nfo']['fs'][0][0][0][0]\n",
    "    events_index = mat_data['mrk']['pos'][0][0][0]\n",
    "\n",
    "    events_labels = mat_data['mrk']['y'][0][0][0]\n",
    "    events_labels= np.nan_to_num(events_labels, nan=0.0)\n",
    "\n",
    "    info = mne.create_info(\n",
    "        ch_names= channels,\n",
    "        ch_types= ['eeg']*len(channels),\n",
    "        sfreq= fs\n",
    "    )\n",
    "\n",
    "    info.set_montage('standard_1005', on_missing= 'ignore')\n",
    "    ev = [i*fs*5 for i in range(len(events_labels))]\n",
    "    events = np.column_stack((np.array(ev, dtype = int),\n",
    "                            np.zeros(len(events_labels), dtype = int),\n",
    "                            np.array(events_labels, dtype = int)))\n",
    "\n",
    "    cnt = mat_data['cnt'] *0.1\n",
    "    cnt = cnt.T\n",
    "\n",
    "    data = []\n",
    "    for i in range(0,len(events_labels)):\n",
    "        if i <= 278:\n",
    "            # print(np.shape(cnt[:,events_index[i]:events_index[i+1]]))\n",
    "            data.append(cnt[:,events_index[i]:events_index[i] + (fs*5)])\n",
    "        else:\n",
    "            # print(np.shape(cnt[:,events_index[i]:len(cnt[0])]))\n",
    "            data.append(cnt[:,events_index[i]:events_index[i]+ (fs*5)])\n",
    "\n",
    "    data = np.asanyarray(data)\n",
    "\n",
    "    t_min = 0.0\n",
    "    t_max = 3.5\n",
    "    event_id = dict(Right= 1, Foot= 2, no=0)\n",
    "    epochs[j-1] = mne.EpochsArray(data, info, events,t_min, event_id, baseline=None)\n",
    "    epochs[j-1] = epochs[j-1].copy().crop(tmin=0.0, tmax=3.5)\n",
    "    epochs[j-1] = epochs[j-1].pick_channels(['C3','Cz','C4'])\n",
    "    # epochs[j-1] = epochs[j-1].copy().filter(l_freq=0.5, h_freq=49.0, method = 'iir', iir_params= {\"order\": 12, \"ftype\":'butter'})\n",
    "    # epochs[j-1] = epochs[j-1].pick_channels(['FC3','C5','CP3','C3','Cz','C4','C6','FC4','CP4'])\n",
    "# eeg1 = eeg1.copy().set_eeg_reference(ref_channels=\"average\")"
   ]
  },
  {
   "cell_type": "code",
   "execution_count": 56,
   "metadata": {},
   "outputs": [
    {
     "name": "stdout",
     "output_type": "stream",
     "text": [
      "Not setting metadata\n",
      "1400 matching events found\n",
      "No baseline correction applied\n"
     ]
    }
   ],
   "source": [
    "combine_epochs = mne.concatenate_epochs([epochs[0], epochs[1], epochs[2], epochs[3], epochs[4]])\n",
    "# combine_epochs = mne.concatenate_epochs([epochs[2]])\n",
    "del epochs"
   ]
  },
  {
   "cell_type": "code",
   "execution_count": 57,
   "metadata": {},
   "outputs": [
    {
     "name": "stdout",
     "output_type": "stream",
     "text": [
      "(560, 3, 351)\n"
     ]
    }
   ],
   "source": [
    "print(np.shape(combine_epochs['Right','Foot']))\n",
    "labels = combine_epochs['Right','Foot'].events[:,2]"
   ]
  },
  {
   "cell_type": "code",
   "execution_count": 58,
   "metadata": {},
   "outputs": [],
   "source": [
    "import numpy as np\n",
    "import tensorflow as tf\n",
    "import keras\n",
    "from keras.layers import Input, Conv2D, MaxPooling2D, Flatten, Dense, Lambda\n",
    "from keras.models import Model\n",
    "from keras.models import Sequential\n",
    "from keras.callbacks import History \n",
    "history = History()\n",
    "import pywt\n",
    "import matplotlib.pyplot as plt\n",
    "from sklearn.model_selection import train_test_split\n",
    "\n",
    "from ssqueezepy import ssq_cwt, ssq_stft"
   ]
  },
  {
   "cell_type": "code",
   "execution_count": 59,
   "metadata": {},
   "outputs": [
    {
     "data": {
      "text/plain": [
       "351"
      ]
     },
     "execution_count": 59,
     "metadata": {},
     "output_type": "execute_result"
    }
   ],
   "source": [
    "combine_epochs['Right','Foot'].get_data().shape[2]"
   ]
  },
  {
   "cell_type": "code",
   "execution_count": 60,
   "metadata": {},
   "outputs": [],
   "source": [
    "sfreq = 100\n",
    "w_length = int(sfreq * 0.5)  # running classifier: window length\n",
    "w_step = int(sfreq * 0.1)  # running classifier: window step size\n",
    "w_start = np.arange(0, combine_epochs['Right','Foot'].get_data().shape[2] - w_length, w_step)"
   ]
  },
  {
   "cell_type": "code",
   "execution_count": 61,
   "metadata": {},
   "outputs": [
    {
     "data": {
      "text/plain": [
       "array([  0,  10,  20,  30,  40,  50,  60,  70,  80,  90, 100, 110, 120,\n",
       "       130, 140, 150, 160, 170, 180, 190, 200, 210, 220, 230, 240, 250,\n",
       "       260, 270, 280, 290, 300])"
      ]
     },
     "execution_count": 61,
     "metadata": {},
     "output_type": "execute_result"
    }
   ],
   "source": [
    "w_start"
   ]
  },
  {
   "cell_type": "code",
   "execution_count": 62,
   "metadata": {},
   "outputs": [
    {
     "name": "stdout",
     "output_type": "stream",
     "text": [
      "(560, 351, 3)\n"
     ]
    }
   ],
   "source": [
    "shape = np.shape(combine_epochs['Right','Foot'].get_data())\n",
    "\n",
    "train_data = np.ndarray(shape=(shape[0], shape[2], shape[1]))\n",
    "for jj in range(0, shape[0]):\n",
    "    train_data[jj] = combine_epochs['Right','Foot'].get_data()[jj].T\n",
    "print(np.shape(train_data))"
   ]
  },
  {
   "cell_type": "code",
   "execution_count": 63,
   "metadata": {},
   "outputs": [
    {
     "name": "stdout",
     "output_type": "stream",
     "text": [
      "(560, 351, 3)\n",
      "0\n"
     ]
    },
    {
     "name": "stderr",
     "output_type": "stream",
     "text": [
      "C:\\Users\\pipo_\\AppData\\Local\\Temp\\ipykernel_9320\\494190546.py:21: ComplexWarning: Casting complex values to real discards the imaginary part\n",
      "  train_data_cwt[ii, :, :, jj] = coeff_\n"
     ]
    },
    {
     "name": "stdout",
     "output_type": "stream",
     "text": [
      "40\n",
      "80\n",
      "120\n",
      "160\n",
      "200\n",
      "240\n",
      "280\n",
      "320\n",
      "360\n",
      "400\n",
      "440\n",
      "480\n",
      "520\n",
      "(227, 351) (227, 227)\n"
     ]
    }
   ],
   "source": [
    "# train_data = combine_epochs['Right','Foot'].get_data().reshape(shape[0], shape[2], shape[1])\n",
    "print(np.shape(train_data))\n",
    "scales = range(1,228)\n",
    "\n",
    "scales = np.array(scales)\n",
    "scales = scales.astype('float32')\n",
    "\n",
    "waveletname = 'morl'\n",
    "train_size = len(labels)\n",
    "train_data_cwt = np.ndarray(shape=(train_size, 227, 227, 3))\n",
    "\n",
    "for ii in range(0,train_size):\n",
    "    if ii % 40 == 0:\n",
    "        print(ii)\n",
    "    for jj in range(0,3):\n",
    "        signal = train_data[ii, :, jj]\n",
    "        _ ,coeff, *_ = ssq_cwt(signal, scales = scales)\n",
    "        # _ ,coeff, *_ = ssq_stft(signal, n_fft = 226*2)\n",
    "        # coeff, _ = pywt.cwt(signal, scales, waveletname, 1)\n",
    "        coeff_ = coeff[:,:227]  #crop 227 sample for each channel\n",
    "        train_data_cwt[ii, :, :, jj] = coeff_\n",
    "print(np.shape(coeff),np.shape(coeff_))"
   ]
  },
  {
   "cell_type": "code",
   "execution_count": 64,
   "metadata": {},
   "outputs": [
    {
     "name": "stdout",
     "output_type": "stream",
     "text": [
      "(227, 351) (227, 227)\n"
     ]
    }
   ],
   "source": [
    "print(np.shape(coeff), np.shape(coeff_))"
   ]
  },
  {
   "cell_type": "code",
   "execution_count": 65,
   "metadata": {},
   "outputs": [
    {
     "name": "stdout",
     "output_type": "stream",
     "text": [
      "(351,)\n",
      "(227, 351)\n",
      "(227, 227)\n",
      "(560, 227, 227, 3)\n"
     ]
    }
   ],
   "source": [
    "print(np.shape(signal))\n",
    "print(np.shape(coeff))\n",
    "print(np.shape(coeff_))\n",
    "print(np.shape(train_data_cwt))"
   ]
  },
  {
   "cell_type": "code",
   "execution_count": 66,
   "metadata": {},
   "outputs": [
    {
     "name": "stdout",
     "output_type": "stream",
     "text": [
      "(448, 227, 227, 3) (112, 227, 227, 3) (448,) (112,)\n"
     ]
    }
   ],
   "source": [
    "x_train, x_test, y_train, y_test = train_test_split(train_data_cwt, labels, test_size=0.2, random_state=42)\n",
    "\n",
    "img_x = 227\n",
    "img_y = 227\n",
    "img_z = 3\n",
    "num_classes = 2\n",
    "\n",
    "batch_size = 16\n",
    "epochs = 60\n",
    "print(np.shape(x_train), np.shape(x_test), np.shape(y_train), np.shape(y_test))\n",
    "\n",
    "# del train_data_cwt\n",
    "# del combine_epochs\n",
    "# plt.imshow(x_train[0,:,:,1], aspect='auto', cmap='turbo')\n",
    "# plt.show()\n",
    "# plt.imshow(x_train[2,:,:,1], aspect='auto', cmap='turbo')\n",
    "# plt.show()\n",
    "y_train = keras.utils.to_categorical(y_train - 1, num_classes)\n",
    "y_test = keras.utils.to_categorical(y_test -1 , num_classes)\n",
    "input_shape = (img_x, img_y, img_z)"
   ]
  },
  {
   "cell_type": "code",
   "execution_count": 67,
   "metadata": {},
   "outputs": [
    {
     "name": "stdout",
     "output_type": "stream",
     "text": [
      "Epoch 1/60\n",
      "28/28 [==============================] - 15s 500ms/step - loss: 1.7849 - accuracy: 0.4777 - val_loss: 0.6917 - val_accuracy: 0.5000\n",
      "Epoch 2/60\n",
      "28/28 [==============================] - 13s 482ms/step - loss: 0.6962 - accuracy: 0.5156 - val_loss: 0.6846 - val_accuracy: 0.5982\n",
      "Epoch 3/60\n",
      "28/28 [==============================] - 13s 470ms/step - loss: 0.7038 - accuracy: 0.4978 - val_loss: 0.6897 - val_accuracy: 0.5357\n",
      "Epoch 4/60\n",
      "28/28 [==============================] - 13s 462ms/step - loss: 0.6893 - accuracy: 0.5424 - val_loss: 0.6796 - val_accuracy: 0.5625\n",
      "Epoch 5/60\n",
      "28/28 [==============================] - 13s 468ms/step - loss: 0.6939 - accuracy: 0.5201 - val_loss: 0.6932 - val_accuracy: 0.4911\n",
      "Epoch 6/60\n",
      "28/28 [==============================] - 13s 462ms/step - loss: 0.7052 - accuracy: 0.5022 - val_loss: 0.6930 - val_accuracy: 0.4911\n",
      "Epoch 7/60\n",
      "28/28 [==============================] - 13s 465ms/step - loss: 0.7027 - accuracy: 0.5223 - val_loss: 0.7089 - val_accuracy: 0.4911\n",
      "Epoch 8/60\n",
      "28/28 [==============================] - 13s 466ms/step - loss: 0.6956 - accuracy: 0.5067 - val_loss: 0.6930 - val_accuracy: 0.4911\n",
      "Epoch 9/60\n",
      "28/28 [==============================] - 13s 463ms/step - loss: 0.7081 - accuracy: 0.5379 - val_loss: 0.6828 - val_accuracy: 0.5089\n",
      "Epoch 10/60\n",
      "28/28 [==============================] - 13s 464ms/step - loss: 0.6929 - accuracy: 0.5290 - val_loss: 0.6893 - val_accuracy: 0.5446\n",
      "Epoch 11/60\n",
      "28/28 [==============================] - 13s 465ms/step - loss: 0.6869 - accuracy: 0.5781 - val_loss: 0.6793 - val_accuracy: 0.5536\n",
      "Epoch 12/60\n",
      "28/28 [==============================] - 13s 464ms/step - loss: 0.6700 - accuracy: 0.6049 - val_loss: 0.8708 - val_accuracy: 0.5357\n",
      "Epoch 13/60\n",
      "28/28 [==============================] - 13s 464ms/step - loss: 0.7295 - accuracy: 0.5112 - val_loss: 0.6972 - val_accuracy: 0.4911\n",
      "Epoch 14/60\n",
      "28/28 [==============================] - 13s 464ms/step - loss: 0.6964 - accuracy: 0.5424 - val_loss: 0.7049 - val_accuracy: 0.4911\n",
      "Epoch 15/60\n",
      "28/28 [==============================] - 13s 467ms/step - loss: 0.6991 - accuracy: 0.5045 - val_loss: 0.6962 - val_accuracy: 0.4911\n",
      "Epoch 16/60\n",
      "28/28 [==============================] - 13s 465ms/step - loss: 0.6937 - accuracy: 0.5156 - val_loss: 0.6930 - val_accuracy: 0.4911\n",
      "Epoch 17/60\n",
      "28/28 [==============================] - 13s 464ms/step - loss: 0.6929 - accuracy: 0.5246 - val_loss: 0.6924 - val_accuracy: 0.4911\n",
      "Epoch 18/60\n",
      "28/28 [==============================] - 13s 474ms/step - loss: 0.7059 - accuracy: 0.5067 - val_loss: 0.6920 - val_accuracy: 0.4911\n",
      "Epoch 19/60\n",
      "28/28 [==============================] - 13s 466ms/step - loss: 0.6907 - accuracy: 0.5335 - val_loss: 0.6923 - val_accuracy: 0.5446\n",
      "Epoch 20/60\n",
      "28/28 [==============================] - 13s 465ms/step - loss: 0.6929 - accuracy: 0.5268 - val_loss: 0.6888 - val_accuracy: 0.5268\n",
      "Epoch 21/60\n",
      "28/28 [==============================] - 13s 461ms/step - loss: 0.6853 - accuracy: 0.5960 - val_loss: 0.6636 - val_accuracy: 0.5982\n",
      "Epoch 22/60\n",
      "28/28 [==============================] - 13s 465ms/step - loss: 0.6676 - accuracy: 0.6384 - val_loss: 0.6440 - val_accuracy: 0.6518\n",
      "Epoch 23/60\n",
      "28/28 [==============================] - 13s 468ms/step - loss: 0.6718 - accuracy: 0.5893 - val_loss: 0.7426 - val_accuracy: 0.6250\n",
      "Epoch 24/60\n",
      "28/28 [==============================] - 13s 468ms/step - loss: 0.6923 - accuracy: 0.5290 - val_loss: 0.6942 - val_accuracy: 0.5089\n",
      "Epoch 25/60\n",
      "28/28 [==============================] - 13s 466ms/step - loss: 0.6965 - accuracy: 0.5112 - val_loss: 0.6941 - val_accuracy: 0.4911\n",
      "Epoch 26/60\n",
      "28/28 [==============================] - 13s 470ms/step - loss: 0.6942 - accuracy: 0.5022 - val_loss: 0.6946 - val_accuracy: 0.4911\n",
      "Epoch 27/60\n",
      "28/28 [==============================] - 13s 463ms/step - loss: 0.6946 - accuracy: 0.5201 - val_loss: 0.6934 - val_accuracy: 0.4911\n",
      "Epoch 28/60\n",
      "28/28 [==============================] - 13s 466ms/step - loss: 0.6934 - accuracy: 0.5201 - val_loss: 0.6938 - val_accuracy: 0.4911\n",
      "Epoch 29/60\n",
      "28/28 [==============================] - 13s 468ms/step - loss: 0.6942 - accuracy: 0.5022 - val_loss: 0.6932 - val_accuracy: 0.4911\n",
      "Epoch 30/60\n",
      "28/28 [==============================] - 13s 469ms/step - loss: 0.6989 - accuracy: 0.4688 - val_loss: 0.6942 - val_accuracy: 0.4911\n",
      "Epoch 31/60\n",
      "28/28 [==============================] - 13s 468ms/step - loss: 0.6944 - accuracy: 0.4799 - val_loss: 0.6937 - val_accuracy: 0.4911\n",
      "Epoch 32/60\n",
      "28/28 [==============================] - 15s 529ms/step - loss: 0.6942 - accuracy: 0.4821 - val_loss: 0.6932 - val_accuracy: 0.4911\n",
      "Epoch 33/60\n",
      "28/28 [==============================] - 13s 469ms/step - loss: 0.6929 - accuracy: 0.4888 - val_loss: 0.6932 - val_accuracy: 0.4911\n",
      "Epoch 34/60\n",
      "28/28 [==============================] - 13s 472ms/step - loss: 0.6929 - accuracy: 0.4866 - val_loss: 0.6940 - val_accuracy: 0.4911\n",
      "Epoch 35/60\n",
      "28/28 [==============================] - 13s 472ms/step - loss: 0.6944 - accuracy: 0.4799 - val_loss: 0.6939 - val_accuracy: 0.4911\n",
      "Epoch 36/60\n",
      "28/28 [==============================] - 13s 472ms/step - loss: 0.6955 - accuracy: 0.4665 - val_loss: 0.6938 - val_accuracy: 0.4911\n",
      "Epoch 37/60\n",
      "28/28 [==============================] - 13s 478ms/step - loss: 0.6933 - accuracy: 0.5112 - val_loss: 0.6944 - val_accuracy: 0.4911\n",
      "Epoch 38/60\n",
      "28/28 [==============================] - 13s 472ms/step - loss: 0.6950 - accuracy: 0.4710 - val_loss: 0.6933 - val_accuracy: 0.4911\n",
      "Epoch 39/60\n",
      "28/28 [==============================] - 13s 473ms/step - loss: 0.6946 - accuracy: 0.4933 - val_loss: 0.6935 - val_accuracy: 0.4911\n",
      "Epoch 40/60\n",
      "28/28 [==============================] - 13s 466ms/step - loss: 0.6945 - accuracy: 0.4732 - val_loss: 0.6932 - val_accuracy: 0.4911\n",
      "Epoch 41/60\n",
      "28/28 [==============================] - 14s 490ms/step - loss: 0.6934 - accuracy: 0.5067 - val_loss: 0.6939 - val_accuracy: 0.4911\n",
      "Epoch 42/60\n",
      "28/28 [==============================] - 13s 479ms/step - loss: 0.6930 - accuracy: 0.4933 - val_loss: 0.6931 - val_accuracy: 0.5089\n",
      "Epoch 43/60\n",
      "28/28 [==============================] - 13s 468ms/step - loss: 0.6942 - accuracy: 0.5000 - val_loss: 0.6937 - val_accuracy: 0.4911\n",
      "Epoch 44/60\n",
      "28/28 [==============================] - 13s 460ms/step - loss: 0.6919 - accuracy: 0.5402 - val_loss: 0.6940 - val_accuracy: 0.4911\n",
      "Epoch 45/60\n",
      "28/28 [==============================] - 13s 461ms/step - loss: 0.6931 - accuracy: 0.5000 - val_loss: 0.6939 - val_accuracy: 0.4911\n",
      "Epoch 46/60\n",
      "28/28 [==============================] - 13s 463ms/step - loss: 0.6935 - accuracy: 0.5268 - val_loss: 0.6933 - val_accuracy: 0.4911\n",
      "Epoch 47/60\n",
      "28/28 [==============================] - 13s 468ms/step - loss: 0.6952 - accuracy: 0.4866 - val_loss: 0.6931 - val_accuracy: 0.5089\n",
      "Epoch 48/60\n",
      "28/28 [==============================] - 13s 465ms/step - loss: 0.6942 - accuracy: 0.4978 - val_loss: 0.6934 - val_accuracy: 0.4911\n",
      "Epoch 49/60\n",
      "28/28 [==============================] - 13s 466ms/step - loss: 0.6946 - accuracy: 0.4866 - val_loss: 0.6934 - val_accuracy: 0.4911\n",
      "Epoch 50/60\n",
      "28/28 [==============================] - 13s 466ms/step - loss: 0.6949 - accuracy: 0.4732 - val_loss: 0.6935 - val_accuracy: 0.4911\n",
      "Epoch 51/60\n",
      "28/28 [==============================] - 13s 465ms/step - loss: 0.6941 - accuracy: 0.4844 - val_loss: 0.6934 - val_accuracy: 0.4911\n",
      "Epoch 52/60\n",
      "28/28 [==============================] - 13s 466ms/step - loss: 0.6938 - accuracy: 0.4710 - val_loss: 0.6932 - val_accuracy: 0.4911\n",
      "Epoch 53/60\n",
      "28/28 [==============================] - 13s 467ms/step - loss: 0.6935 - accuracy: 0.4799 - val_loss: 0.6933 - val_accuracy: 0.4911\n",
      "Epoch 54/60\n",
      "28/28 [==============================] - 13s 462ms/step - loss: 0.6934 - accuracy: 0.5089 - val_loss: 0.6936 - val_accuracy: 0.4911\n",
      "Epoch 55/60\n",
      "28/28 [==============================] - 13s 463ms/step - loss: 0.6926 - accuracy: 0.5045 - val_loss: 0.6937 - val_accuracy: 0.4911\n",
      "Epoch 56/60\n",
      "28/28 [==============================] - 13s 467ms/step - loss: 0.6932 - accuracy: 0.4888 - val_loss: 0.6933 - val_accuracy: 0.4911\n",
      "Epoch 57/60\n",
      "28/28 [==============================] - 13s 466ms/step - loss: 0.6938 - accuracy: 0.4576 - val_loss: 0.6932 - val_accuracy: 0.4911\n",
      "Epoch 58/60\n",
      "28/28 [==============================] - 13s 467ms/step - loss: 0.6941 - accuracy: 0.4888 - val_loss: 0.6932 - val_accuracy: 0.4911\n",
      "Epoch 59/60\n",
      "28/28 [==============================] - 13s 470ms/step - loss: 0.6938 - accuracy: 0.4821 - val_loss: 0.6932 - val_accuracy: 0.4911\n",
      "Epoch 60/60\n",
      "28/28 [==============================] - 13s 460ms/step - loss: 0.6930 - accuracy: 0.5045 - val_loss: 0.6931 - val_accuracy: 0.5089\n"
     ]
    },
    {
     "data": {
      "text/plain": [
       "<keras.src.callbacks.History at 0x27da02a4fd0>"
      ]
     },
     "execution_count": 67,
     "metadata": {},
     "output_type": "execute_result"
    }
   ],
   "source": [
    "model = Sequential()\n",
    "# Layer 1: Convolutional + Max-Pooling\n",
    "model.add(Conv2D(filters= 96, kernel_size= (11, 11), strides=(4, 4), activation='relu', input_shape=input_shape))\n",
    "model.add(MaxPooling2D((3, 3), strides=(2, 2)))\n",
    "\n",
    "# Layer 2: Convolutional + Max-Pooling\n",
    "model.add(Conv2D(filters=256, kernel_size=(5, 5), strides=(1,1) ,activation='relu', padding= 'valid'))\n",
    "model.add(MaxPooling2D((3, 3), strides=(2, 2), padding= 'valid'))\n",
    "\n",
    "# Layer 3: Convolutional\n",
    "model.add(Conv2D(filters =384, kernel_size= (3, 3), strides=(1,1),activation='relu', padding= 'valid'))\n",
    "\n",
    "# Layer 4: Convolutional\n",
    "model.add(Conv2D(filters = 384, kernel_size= (3, 3), strides=(1,1),activation='relu', padding= 'valid'))\n",
    "\n",
    "# Layer 5: Convolutional + Max-Pooling\n",
    "model.add(Conv2D(filters = 256, kernel_size= (3, 3), strides=(1,1),activation='relu', padding= 'valid'))\n",
    "model.add(MaxPooling2D((3, 3), strides=(2, 2), padding='valid'))\n",
    "\n",
    "# Flatten the output for fully connected layers\n",
    "model.add(Flatten())\n",
    "\n",
    "# Layer 6: Fully Connected (Dense)\n",
    "model.add(Dense(4048, activation='relu', input_shape = (13,13,128)))\n",
    "model.add(keras.layers.Dropout(0.4))\n",
    "\n",
    "# Layer 7: Fully Connected (Dense)\n",
    "model.add(Dense(2048, activation='relu'))\n",
    "model.add(keras.layers.Dropout(0.4))\n",
    "\n",
    "# Layer 8: Output Layer\n",
    "model.add(Dense(num_classes, activation='softmax'))\n",
    "\n",
    "model.compile(loss=keras.losses.categorical_crossentropy, \n",
    "              optimizer=keras.optimizers.Adam(), \n",
    "              metrics=['accuracy'])\n",
    "\n",
    "model.fit(x_train, y_train, batch_size=batch_size, \n",
    "          epochs=epochs, verbose=1, \n",
    "          validation_data=(x_test, y_test), \n",
    "          callbacks=[history])"
   ]
  },
  {
   "cell_type": "code",
   "execution_count": 68,
   "metadata": {},
   "outputs": [
    {
     "name": "stdout",
     "output_type": "stream",
     "text": [
      "Train loss: 0.6932258009910583, Train accuracy: 0.4933035671710968\n",
      "Test loss: 0.6930710673332214, Test accuracy: 0.5089285969734192\n"
     ]
    }
   ],
   "source": [
    "train_score = model.evaluate(x_train, y_train, verbose=0)\n",
    "print('Train loss: {}, Train accuracy: {}'.format(train_score[0], train_score[1]))\n",
    "test_score = model.evaluate(x_test, y_test, verbose=0)\n",
    "print('Test loss: {}, Test accuracy: {}'.format(test_score[0], test_score[1]))"
   ]
  }
 ],
 "metadata": {
  "kernelspec": {
   "display_name": "Python 3",
   "language": "python",
   "name": "python3"
  },
  "language_info": {
   "codemirror_mode": {
    "name": "ipython",
    "version": 3
   },
   "file_extension": ".py",
   "mimetype": "text/x-python",
   "name": "python",
   "nbconvert_exporter": "python",
   "pygments_lexer": "ipython3",
   "version": "3.11.0"
  },
  "orig_nbformat": 4
 },
 "nbformat": 4,
 "nbformat_minor": 2
}
